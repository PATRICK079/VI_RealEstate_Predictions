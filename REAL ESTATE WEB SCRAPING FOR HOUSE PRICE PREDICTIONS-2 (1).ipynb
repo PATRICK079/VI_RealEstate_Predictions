{
 "cells": [
  {
   "cell_type": "markdown",
   "id": "34df0632",
   "metadata": {},
   "source": [
    "#### Imports "
   ]
  },
  {
   "cell_type": "code",
   "execution_count": 4,
   "id": "3c21a1c8",
   "metadata": {},
   "outputs": [],
   "source": [
    "\n",
    "import pandas as pd\n",
    "from selenium.webdriver.support.ui import Select\n",
    "from selenium.webdriver.common.by import By\n",
    "from bs4 import BeautifulSoup\n",
    "import  requests\n"
   ]
  },
  {
   "cell_type": "markdown",
   "id": "e16cc896",
   "metadata": {},
   "source": [
    "## Broswer Automation with Selenium"
   ]
  },
  {
   "cell_type": "code",
   "execution_count": null,
   "id": "59d11baa",
   "metadata": {},
   "outputs": [],
   "source": [
    "driver = webdriver.Chrome()\n",
    "driver.get(\"https://nigeriapropertycentre.com/\")\n",
    "\n",
    "time.sleep(2)\n",
    "driver.find_element(By.ID,\"li-cid-for-rent\").click()\n",
    "\n",
    "time.sleep(2)\n",
    "\n",
    "saletype = driver.find_element(By.NAME, \"tid\")\n",
    "saletype.click()\n",
    "\n",
    "time.sleep(2)\n",
    "\n",
    "dropdown = Select(saletype)\n",
    "dropdown.select_by_visible_text('House')\n",
    "\n",
    "time.sleep(2)\n",
    "\n",
    "min_price = driver.find_element(By.NAME,\"minprice\")\n",
    "min_price.click()\n",
    "\n",
    "time.sleep(2)\n",
    "\n",
    "dropdown_2 = Select(min_price)\n",
    "dropdown_2.select_by_visible_text('₦ 500,000')\n",
    "\n",
    "max_price = driver.find_element(By.NAME,\"maxprice\")\n",
    "max_price.click()\n",
    "\n",
    "time.sleep(2)\n",
    "\n",
    "dropdown_3 = Select(max_price)\n",
    "dropdown_3.select_by_visible_text('₦ 150 Million')\n",
    "\n",
    "time.sleep(2)\n",
    "\n",
    "auto = driver.find_element(By.CLASS_NAME,\"form-control\").send_keys('Victoria Island (VI), Lagos') \n",
    "\n",
    "submit = driver.find_element(By.XPATH,\"//button[@type = 'submit']\")\n",
    "submit.click()\n",
    "\n",
    "time.sleep(2)\n",
    "\n",
    "\n",
    "current_url = driver.current_url\n",
    "\n"
   ]
  },
  {
   "cell_type": "markdown",
   "id": "8c3df441",
   "metadata": {},
   "source": [
    "### Data Extraction With Beautiful Soup "
   ]
  },
  {
   "cell_type": "code",
   "execution_count": null,
   "id": "2b038200",
   "metadata": {},
   "outputs": [],
   "source": []
  },
  {
   "cell_type": "code",
   "execution_count": 5,
   "id": "300906ee",
   "metadata": {},
   "outputs": [],
   "source": [
    "current_url = 'https://nigeriapropertycentre.com/for-rent/houses/lagos/victoria-island?minprice=500000&maxprice=150000000&selectedLoc=1&q=for-rent+houses+lagos+victoria-island+minprice+500000+maxprice+150000000'"
   ]
  },
  {
   "cell_type": "code",
   "execution_count": 6,
   "id": "ad572b5a",
   "metadata": {},
   "outputs": [],
   "source": [
    " headers = { 'User-Agent': 'Mozilla/5.0 (Macintosh; Intel Mac OS X 10_15_7) AppleWebKit/537.36 (KHTML, like Gecko) Chrome/125.0.0.0 Safari/537.36',\n",
    "'Accept': '*/*', \n",
    "'Accept-Language': 'en-US,en;q=0.9', \n",
    "'Referer': 'https://nigeriapropertycentre.com/', \n",
    "'Cache-Control': 'max-age=0' }"
   ]
  },
  {
   "cell_type": "code",
   "execution_count": 7,
   "id": "bb4738c3",
   "metadata": {},
   "outputs": [],
   "source": [
    "response = requests.get(current_url,headers=headers)"
   ]
  },
  {
   "cell_type": "code",
   "execution_count": 8,
   "id": "799f6eb8",
   "metadata": {},
   "outputs": [
    {
     "data": {
      "text/plain": [
       "200"
      ]
     },
     "execution_count": 8,
     "metadata": {},
     "output_type": "execute_result"
    }
   ],
   "source": [
    "## Status code \n",
    "\n",
    "response.status_code"
   ]
  },
  {
   "cell_type": "code",
   "execution_count": 9,
   "id": "8a18e152",
   "metadata": {},
   "outputs": [],
   "source": [
    "soup = BeautifulSoup(response.content, 'html.parser')"
   ]
  },
  {
   "cell_type": "code",
   "execution_count": 11,
   "id": "aee39b89",
   "metadata": {},
   "outputs": [],
   "source": [
    "list_items = soup.find_all('div',{'itemprop':'itemListElement' })"
   ]
  },
  {
   "cell_type": "code",
   "execution_count": 12,
   "id": "b8e4bce3",
   "metadata": {},
   "outputs": [
    {
     "data": {
      "text/plain": [
       "20"
      ]
     },
     "execution_count": 12,
     "metadata": {},
     "output_type": "execute_result"
    }
   ],
   "source": [
    "len(list_items)"
   ]
  },
  {
   "cell_type": "markdown",
   "id": "b3376765",
   "metadata": {},
   "source": [
    "#### Data i want to extract"
   ]
  },
  {
   "cell_type": "markdown",
   "id": "49db49ad",
   "metadata": {},
   "source": [
    "- price\n",
    "- bedrooms\n",
    "- bathrooms\n",
    "- toilets\n",
    "- parkingspace\n",
    "- housetype"
   ]
  },
  {
   "cell_type": "code",
   "execution_count": 14,
   "id": "0d94dab5",
   "metadata": {},
   "outputs": [
    {
     "data": {
      "text/plain": [
       "'12000000'"
      ]
     },
     "execution_count": 14,
     "metadata": {},
     "output_type": "execute_result"
    }
   ],
   "source": [
    "# price\n",
    "\n",
    "list_items[0].find('span',{'class':'pull-sm-left'}).get_text().replace('₦', '').replace('per annum','').strip().replace(',','')"
   ]
  },
  {
   "cell_type": "code",
   "execution_count": 15,
   "id": "fc7fd887",
   "metadata": {},
   "outputs": [
    {
     "data": {
      "text/plain": [
       "'4'"
      ]
     },
     "execution_count": 15,
     "metadata": {},
     "output_type": "execute_result"
    }
   ],
   "source": [
    "# bedrooms\n",
    "list_items[0].find('ul',{'class':'aux-info'}).find('span').get_text()"
   ]
  },
  {
   "cell_type": "code",
   "execution_count": 16,
   "id": "5d92b4fb",
   "metadata": {},
   "outputs": [
    {
     "data": {
      "text/plain": [
       "'4 Bedrooms4 Bathrooms5 Toilets Save'"
      ]
     },
     "execution_count": 16,
     "metadata": {},
     "output_type": "execute_result"
    }
   ],
   "source": [
    "#house properties\n",
    "\n",
    "list_items[0].find('div',{'class':'wp-block-footer'}).get_text().strip()#.replace(' Bathrooms4 Toilets3 Parking Spaces Save','').replace('4 Bedrooms','').strip()"
   ]
  },
  {
   "cell_type": "code",
   "execution_count": 19,
   "id": "1d9cd375",
   "metadata": {},
   "outputs": [
    {
     "data": {
      "text/plain": [
       "'4 bedroom terraced duplex for rent'"
      ]
     },
     "execution_count": 19,
     "metadata": {},
     "output_type": "execute_result"
    }
   ],
   "source": [
    "#houseType\n",
    "\n",
    "list_items[0].find('h4').get_text() "
   ]
  },
  {
   "cell_type": "code",
   "execution_count": 20,
   "id": "e5fb3fbb",
   "metadata": {},
   "outputs": [],
   "source": [
    "# list comprehension\n",
    "\n",
    "price = [result.find('span',{'class':'pull-sm-left'}).get_text().replace('₦', '').replace('per annum','').strip().replace(',','') for result in list_items]\n",
    "house_properties = [result.find('div',{'class':'wp-block-footer'}).get_text().strip() for result in list_items]\n",
    "house_type  = [result.find('h4').get_text() for result in list_items]"
   ]
  },
  {
   "cell_type": "code",
   "execution_count": 21,
   "id": "feb910e4",
   "metadata": {},
   "outputs": [],
   "source": [
    "data = {\n",
    "    'Price': price,\n",
    "    'HouseProperties': house_properties,\n",
    "    'HouseType': house_type\n",
    "   \n",
    "}\n"
   ]
  },
  {
   "cell_type": "code",
   "execution_count": 22,
   "id": "b7d1b49c",
   "metadata": {},
   "outputs": [],
   "source": [
    "df = pd.DataFrame(data)"
   ]
  },
  {
   "cell_type": "code",
   "execution_count": 23,
   "id": "764f84c0",
   "metadata": {},
   "outputs": [
    {
     "data": {
      "text/html": [
       "<div>\n",
       "<style scoped>\n",
       "    .dataframe tbody tr th:only-of-type {\n",
       "        vertical-align: middle;\n",
       "    }\n",
       "\n",
       "    .dataframe tbody tr th {\n",
       "        vertical-align: top;\n",
       "    }\n",
       "\n",
       "    .dataframe thead th {\n",
       "        text-align: right;\n",
       "    }\n",
       "</style>\n",
       "<table border=\"1\" class=\"dataframe\">\n",
       "  <thead>\n",
       "    <tr style=\"text-align: right;\">\n",
       "      <th></th>\n",
       "      <th>Price</th>\n",
       "      <th>HouseProperties</th>\n",
       "      <th>HouseType</th>\n",
       "    </tr>\n",
       "  </thead>\n",
       "  <tbody>\n",
       "    <tr>\n",
       "      <th>0</th>\n",
       "      <td>12000000</td>\n",
       "      <td>4 Bedrooms4 Bathrooms5 Toilets Save</td>\n",
       "      <td>4 bedroom terraced duplex for rent</td>\n",
       "    </tr>\n",
       "    <tr>\n",
       "      <th>1</th>\n",
       "      <td>25000000</td>\n",
       "      <td>4 Bedrooms4 Bathrooms5 Toilets3 Parking Spaces...</td>\n",
       "      <td>4 bedroom terraced duplex for rent</td>\n",
       "    </tr>\n",
       "    <tr>\n",
       "      <th>2</th>\n",
       "      <td>30000000</td>\n",
       "      <td>5 Bedrooms5 Bathrooms6 Toilets Save</td>\n",
       "      <td>5 bedroom detached duplex for rent</td>\n",
       "    </tr>\n",
       "    <tr>\n",
       "      <th>3</th>\n",
       "      <td>12000000</td>\n",
       "      <td>4 Bedrooms4 Bathrooms5 Toilets Save</td>\n",
       "      <td>4 bedroom semi-detached duplex for rent</td>\n",
       "    </tr>\n",
       "    <tr>\n",
       "      <th>4</th>\n",
       "      <td>12000000</td>\n",
       "      <td>4 Bedrooms4 Bathrooms5 Toilets2 Parking Spaces...</td>\n",
       "      <td>4 bedroom terraced duplex for rent</td>\n",
       "    </tr>\n",
       "    <tr>\n",
       "      <th>5</th>\n",
       "      <td>10000000</td>\n",
       "      <td>4 Bedrooms4 Bathrooms5 Toilets4 Parking Spaces...</td>\n",
       "      <td>4 bedroom house for rent</td>\n",
       "    </tr>\n",
       "    <tr>\n",
       "      <th>6</th>\n",
       "      <td>10000000</td>\n",
       "      <td>4 Bedrooms4 Bathrooms5 Toilets3 Parking Spaces...</td>\n",
       "      <td>4 bedroom terraced duplex for rent</td>\n",
       "    </tr>\n",
       "    <tr>\n",
       "      <th>7</th>\n",
       "      <td>12000000</td>\n",
       "      <td>4 Bedrooms4 Bathrooms5 Toilets Save</td>\n",
       "      <td>4 bedroom terraced duplex for rent</td>\n",
       "    </tr>\n",
       "    <tr>\n",
       "      <th>8</th>\n",
       "      <td>10000000</td>\n",
       "      <td>3 Bedrooms3 Bathrooms4 Toilets2 Parking Spaces...</td>\n",
       "      <td>3 bedroom house for rent</td>\n",
       "    </tr>\n",
       "    <tr>\n",
       "      <th>9</th>\n",
       "      <td>20000000</td>\n",
       "      <td>5 Bedrooms5 Bathrooms6 Toilets3 Parking Spaces...</td>\n",
       "      <td>5 bedroom semi-detached duplex for rent</td>\n",
       "    </tr>\n",
       "    <tr>\n",
       "      <th>10</th>\n",
       "      <td>11000000</td>\n",
       "      <td>4 Bedrooms4 Bathrooms5 Toilets Save</td>\n",
       "      <td>4 bedroom terraced duplex for rent</td>\n",
       "    </tr>\n",
       "    <tr>\n",
       "      <th>11</th>\n",
       "      <td>10000000</td>\n",
       "      <td>3 Bedrooms3 Bathrooms4 Toilets3 Parking Spaces...</td>\n",
       "      <td>3 bedroom house for rent</td>\n",
       "    </tr>\n",
       "    <tr>\n",
       "      <th>12</th>\n",
       "      <td>15000000</td>\n",
       "      <td>4 Bedrooms4 Bathrooms5 Toilets4 Parking Spaces...</td>\n",
       "      <td>4 bedroom house for rent</td>\n",
       "    </tr>\n",
       "    <tr>\n",
       "      <th>13</th>\n",
       "      <td>11000000</td>\n",
       "      <td>4 Bedrooms4 Bathrooms5 Toilets2 Parking Spaces...</td>\n",
       "      <td>4 bedroom terraced duplex for rent</td>\n",
       "    </tr>\n",
       "    <tr>\n",
       "      <th>14</th>\n",
       "      <td>25000000</td>\n",
       "      <td>4 Bedrooms4 Bathrooms4 Toilets Save</td>\n",
       "      <td>4 bedroom terraced duplex for rent</td>\n",
       "    </tr>\n",
       "    <tr>\n",
       "      <th>15</th>\n",
       "      <td>6000000</td>\n",
       "      <td>3 Bedrooms3 Bathrooms4 Toilets3 Parking Spaces...</td>\n",
       "      <td>3 bedroom terraced duplex for rent</td>\n",
       "    </tr>\n",
       "    <tr>\n",
       "      <th>16</th>\n",
       "      <td>12000000</td>\n",
       "      <td>4 Bedrooms4 Bathrooms5 Toilets Save</td>\n",
       "      <td>4 bedroom terraced duplex for rent</td>\n",
       "    </tr>\n",
       "    <tr>\n",
       "      <th>17</th>\n",
       "      <td>12000000</td>\n",
       "      <td>4 Bedrooms Save</td>\n",
       "      <td>4 bedroom terraced duplex for rent</td>\n",
       "    </tr>\n",
       "    <tr>\n",
       "      <th>18</th>\n",
       "      <td>6000000</td>\n",
       "      <td>3 Bedrooms3 Bathrooms4 Toilets3 Parking Spaces...</td>\n",
       "      <td>3 bedroom terraced duplex for rent</td>\n",
       "    </tr>\n",
       "    <tr>\n",
       "      <th>19</th>\n",
       "      <td>15000000</td>\n",
       "      <td>4 Bedrooms4 Bathrooms5 Toilets6 Parking Spaces...</td>\n",
       "      <td>4 bedroom detached duplex for rent</td>\n",
       "    </tr>\n",
       "  </tbody>\n",
       "</table>\n",
       "</div>"
      ],
      "text/plain": [
       "       Price                                    HouseProperties  \\\n",
       "0   12000000                4 Bedrooms4 Bathrooms5 Toilets Save   \n",
       "1   25000000  4 Bedrooms4 Bathrooms5 Toilets3 Parking Spaces...   \n",
       "2   30000000                5 Bedrooms5 Bathrooms6 Toilets Save   \n",
       "3   12000000                4 Bedrooms4 Bathrooms5 Toilets Save   \n",
       "4   12000000  4 Bedrooms4 Bathrooms5 Toilets2 Parking Spaces...   \n",
       "5   10000000  4 Bedrooms4 Bathrooms5 Toilets4 Parking Spaces...   \n",
       "6   10000000  4 Bedrooms4 Bathrooms5 Toilets3 Parking Spaces...   \n",
       "7   12000000                4 Bedrooms4 Bathrooms5 Toilets Save   \n",
       "8   10000000  3 Bedrooms3 Bathrooms4 Toilets2 Parking Spaces...   \n",
       "9   20000000  5 Bedrooms5 Bathrooms6 Toilets3 Parking Spaces...   \n",
       "10  11000000                4 Bedrooms4 Bathrooms5 Toilets Save   \n",
       "11  10000000  3 Bedrooms3 Bathrooms4 Toilets3 Parking Spaces...   \n",
       "12  15000000  4 Bedrooms4 Bathrooms5 Toilets4 Parking Spaces...   \n",
       "13  11000000  4 Bedrooms4 Bathrooms5 Toilets2 Parking Spaces...   \n",
       "14  25000000                4 Bedrooms4 Bathrooms4 Toilets Save   \n",
       "15   6000000  3 Bedrooms3 Bathrooms4 Toilets3 Parking Spaces...   \n",
       "16  12000000                4 Bedrooms4 Bathrooms5 Toilets Save   \n",
       "17  12000000                                    4 Bedrooms Save   \n",
       "18   6000000  3 Bedrooms3 Bathrooms4 Toilets3 Parking Spaces...   \n",
       "19  15000000  4 Bedrooms4 Bathrooms5 Toilets6 Parking Spaces...   \n",
       "\n",
       "                                  HouseType  \n",
       "0        4 bedroom terraced duplex for rent  \n",
       "1        4 bedroom terraced duplex for rent  \n",
       "2        5 bedroom detached duplex for rent  \n",
       "3   4 bedroom semi-detached duplex for rent  \n",
       "4        4 bedroom terraced duplex for rent  \n",
       "5                  4 bedroom house for rent  \n",
       "6        4 bedroom terraced duplex for rent  \n",
       "7        4 bedroom terraced duplex for rent  \n",
       "8                  3 bedroom house for rent  \n",
       "9   5 bedroom semi-detached duplex for rent  \n",
       "10       4 bedroom terraced duplex for rent  \n",
       "11                 3 bedroom house for rent  \n",
       "12                 4 bedroom house for rent  \n",
       "13       4 bedroom terraced duplex for rent  \n",
       "14       4 bedroom terraced duplex for rent  \n",
       "15       3 bedroom terraced duplex for rent  \n",
       "16       4 bedroom terraced duplex for rent  \n",
       "17       4 bedroom terraced duplex for rent  \n",
       "18       3 bedroom terraced duplex for rent  \n",
       "19       4 bedroom detached duplex for rent  "
      ]
     },
     "execution_count": 23,
     "metadata": {},
     "output_type": "execute_result"
    }
   ],
   "source": [
    "df"
   ]
  },
  {
   "cell_type": "markdown",
   "id": "fb70d7ce",
   "metadata": {},
   "source": [
    "###  Obtaining data from multiple pages "
   ]
  },
  {
   "cell_type": "code",
   "execution_count": 24,
   "id": "9ff26383",
   "metadata": {},
   "outputs": [],
   "source": [
    "\n",
    "prices = []\n",
    "house_properties = []\n",
    "house_types = []\n",
    "\n",
    "# scraping through the each pages \n",
    "for page in range(1,500):\n",
    "    response = requests.get(current_url)\n",
    "    soup = BeautifulSoup(response.content, 'html.parser')\n",
    "    \n",
    "    list_items = soup.find_all('div',{'itemprop':'itemListElement' })\n",
    "\n",
    "    # Extracting  data from each listing\n",
    "    for result in list_items:\n",
    "        price = result.find('span', {'class': 'pull-sm-left'}).get_text().replace('₦', '').replace('per annum', '').strip().replace(',', '')\n",
    "        house_property = result.find('div', {'class': 'wp-block-footer'}).get_text().strip()\n",
    "        house_type = result.find('h4').get_text()\n",
    "\n",
    "        prices.append(price)\n",
    "        house_properties.append(house_property)\n",
    "        house_types.append(house_type)\n",
    "    \n",
    "\n"
   ]
  },
  {
   "cell_type": "code",
   "execution_count": 26,
   "id": "a66f865a",
   "metadata": {},
   "outputs": [],
   "source": [
    "data = {\n",
    "    'Price': prices,\n",
    "    'House Properties': house_properties,\n",
    "    'House Type': house_types\n",
    "    \n",
    "}"
   ]
  },
  {
   "cell_type": "code",
   "execution_count": 27,
   "id": "b39f313e",
   "metadata": {},
   "outputs": [],
   "source": [
    "df = pd.DataFrame(data)"
   ]
  },
  {
   "cell_type": "code",
   "execution_count": 28,
   "id": "3770fbe4",
   "metadata": {},
   "outputs": [
    {
     "data": {
      "text/html": [
       "<div>\n",
       "<style scoped>\n",
       "    .dataframe tbody tr th:only-of-type {\n",
       "        vertical-align: middle;\n",
       "    }\n",
       "\n",
       "    .dataframe tbody tr th {\n",
       "        vertical-align: top;\n",
       "    }\n",
       "\n",
       "    .dataframe thead th {\n",
       "        text-align: right;\n",
       "    }\n",
       "</style>\n",
       "<table border=\"1\" class=\"dataframe\">\n",
       "  <thead>\n",
       "    <tr style=\"text-align: right;\">\n",
       "      <th></th>\n",
       "      <th>Price</th>\n",
       "      <th>House Properties</th>\n",
       "      <th>House Type</th>\n",
       "    </tr>\n",
       "  </thead>\n",
       "  <tbody>\n",
       "    <tr>\n",
       "      <th>0</th>\n",
       "      <td>12000000</td>\n",
       "      <td>4 Bedrooms4 Bathrooms5 Toilets Save</td>\n",
       "      <td>4 bedroom terraced duplex for rent</td>\n",
       "    </tr>\n",
       "    <tr>\n",
       "      <th>1</th>\n",
       "      <td>25000000</td>\n",
       "      <td>4 Bedrooms4 Bathrooms5 Toilets3 Parking Spaces...</td>\n",
       "      <td>4 bedroom terraced duplex for rent</td>\n",
       "    </tr>\n",
       "    <tr>\n",
       "      <th>2</th>\n",
       "      <td>30000000</td>\n",
       "      <td>5 Bedrooms5 Bathrooms6 Toilets Save</td>\n",
       "      <td>5 bedroom detached duplex for rent</td>\n",
       "    </tr>\n",
       "    <tr>\n",
       "      <th>3</th>\n",
       "      <td>12000000</td>\n",
       "      <td>4 Bedrooms4 Bathrooms5 Toilets Save</td>\n",
       "      <td>4 bedroom semi-detached duplex for rent</td>\n",
       "    </tr>\n",
       "    <tr>\n",
       "      <th>4</th>\n",
       "      <td>12000000</td>\n",
       "      <td>4 Bedrooms4 Bathrooms5 Toilets2 Parking Spaces...</td>\n",
       "      <td>4 bedroom terraced duplex for rent</td>\n",
       "    </tr>\n",
       "    <tr>\n",
       "      <th>...</th>\n",
       "      <td>...</td>\n",
       "      <td>...</td>\n",
       "      <td>...</td>\n",
       "    </tr>\n",
       "    <tr>\n",
       "      <th>9975</th>\n",
       "      <td>6000000</td>\n",
       "      <td>3 Bedrooms3 Bathrooms4 Toilets3 Parking Spaces...</td>\n",
       "      <td>3 bedroom terraced duplex for rent</td>\n",
       "    </tr>\n",
       "    <tr>\n",
       "      <th>9976</th>\n",
       "      <td>12000000</td>\n",
       "      <td>4 Bedrooms4 Bathrooms5 Toilets Save</td>\n",
       "      <td>4 bedroom terraced duplex for rent</td>\n",
       "    </tr>\n",
       "    <tr>\n",
       "      <th>9977</th>\n",
       "      <td>12000000</td>\n",
       "      <td>4 Bedrooms Save</td>\n",
       "      <td>4 bedroom terraced duplex for rent</td>\n",
       "    </tr>\n",
       "    <tr>\n",
       "      <th>9978</th>\n",
       "      <td>6000000</td>\n",
       "      <td>3 Bedrooms3 Bathrooms4 Toilets3 Parking Spaces...</td>\n",
       "      <td>3 bedroom terraced duplex for rent</td>\n",
       "    </tr>\n",
       "    <tr>\n",
       "      <th>9979</th>\n",
       "      <td>15000000</td>\n",
       "      <td>4 Bedrooms4 Bathrooms5 Toilets6 Parking Spaces...</td>\n",
       "      <td>4 bedroom detached duplex for rent</td>\n",
       "    </tr>\n",
       "  </tbody>\n",
       "</table>\n",
       "<p>9980 rows × 3 columns</p>\n",
       "</div>"
      ],
      "text/plain": [
       "         Price                                   House Properties  \\\n",
       "0     12000000                4 Bedrooms4 Bathrooms5 Toilets Save   \n",
       "1     25000000  4 Bedrooms4 Bathrooms5 Toilets3 Parking Spaces...   \n",
       "2     30000000                5 Bedrooms5 Bathrooms6 Toilets Save   \n",
       "3     12000000                4 Bedrooms4 Bathrooms5 Toilets Save   \n",
       "4     12000000  4 Bedrooms4 Bathrooms5 Toilets2 Parking Spaces...   \n",
       "...        ...                                                ...   \n",
       "9975   6000000  3 Bedrooms3 Bathrooms4 Toilets3 Parking Spaces...   \n",
       "9976  12000000                4 Bedrooms4 Bathrooms5 Toilets Save   \n",
       "9977  12000000                                    4 Bedrooms Save   \n",
       "9978   6000000  3 Bedrooms3 Bathrooms4 Toilets3 Parking Spaces...   \n",
       "9979  15000000  4 Bedrooms4 Bathrooms5 Toilets6 Parking Spaces...   \n",
       "\n",
       "                                   House Type  \n",
       "0          4 bedroom terraced duplex for rent  \n",
       "1          4 bedroom terraced duplex for rent  \n",
       "2          5 bedroom detached duplex for rent  \n",
       "3     4 bedroom semi-detached duplex for rent  \n",
       "4          4 bedroom terraced duplex for rent  \n",
       "...                                       ...  \n",
       "9975       3 bedroom terraced duplex for rent  \n",
       "9976       4 bedroom terraced duplex for rent  \n",
       "9977       4 bedroom terraced duplex for rent  \n",
       "9978       3 bedroom terraced duplex for rent  \n",
       "9979       4 bedroom detached duplex for rent  \n",
       "\n",
       "[9980 rows x 3 columns]"
      ]
     },
     "execution_count": 28,
     "metadata": {},
     "output_type": "execute_result"
    }
   ],
   "source": [
    "df"
   ]
  },
  {
   "cell_type": "code",
   "execution_count": null,
   "id": "54173a64",
   "metadata": {},
   "outputs": [],
   "source": []
  },
  {
   "cell_type": "markdown",
   "id": "f5cd16b2",
   "metadata": {},
   "source": [
    "#### Now extract the following data"
   ]
  },
  {
   "cell_type": "markdown",
   "id": "5255bc15",
   "metadata": {},
   "source": [
    "- Bedrooms\n",
    "- Bathrooms\n",
    "- Toilets\n",
    "- parking space\n",
    "- house type\n"
   ]
  },
  {
   "cell_type": "markdown",
   "id": "64967aea",
   "metadata": {},
   "source": [
    "### Looking for keywords"
   ]
  },
  {
   "cell_type": "code",
   "execution_count": 30,
   "id": "4f5596e9",
   "metadata": {},
   "outputs": [],
   "source": [
    "keywords = ['terraced','terrace' ,'semi-detached','detached','semi detached']\n",
    "\n",
    "# Function to check if any keyword is present in the location\n",
    "def check_houseType(House_Type):\n",
    "    for keyword in keywords:\n",
    "        if keyword.lower() in House_Type.lower():\n",
    "            return keyword\n",
    "    return 'apartment'\n",
    "\n",
    "# Apply the function to the 'House type' column\n",
    "df['HouseType'] = df['House Type'].apply(check_houseType)"
   ]
  },
  {
   "cell_type": "code",
   "execution_count": 31,
   "id": "de13dec0",
   "metadata": {},
   "outputs": [],
   "source": [
    "df = df.drop('House Type',axis = 1)"
   ]
  },
  {
   "cell_type": "code",
   "execution_count": 32,
   "id": "2e0f90df",
   "metadata": {},
   "outputs": [
    {
     "data": {
      "text/html": [
       "<div>\n",
       "<style scoped>\n",
       "    .dataframe tbody tr th:only-of-type {\n",
       "        vertical-align: middle;\n",
       "    }\n",
       "\n",
       "    .dataframe tbody tr th {\n",
       "        vertical-align: top;\n",
       "    }\n",
       "\n",
       "    .dataframe thead th {\n",
       "        text-align: right;\n",
       "    }\n",
       "</style>\n",
       "<table border=\"1\" class=\"dataframe\">\n",
       "  <thead>\n",
       "    <tr style=\"text-align: right;\">\n",
       "      <th></th>\n",
       "      <th>Price</th>\n",
       "      <th>House Properties</th>\n",
       "      <th>HouseType</th>\n",
       "    </tr>\n",
       "  </thead>\n",
       "  <tbody>\n",
       "    <tr>\n",
       "      <th>0</th>\n",
       "      <td>12000000</td>\n",
       "      <td>4 Bedrooms4 Bathrooms5 Toilets Save</td>\n",
       "      <td>terraced</td>\n",
       "    </tr>\n",
       "    <tr>\n",
       "      <th>1</th>\n",
       "      <td>25000000</td>\n",
       "      <td>4 Bedrooms4 Bathrooms5 Toilets3 Parking Spaces...</td>\n",
       "      <td>terraced</td>\n",
       "    </tr>\n",
       "    <tr>\n",
       "      <th>2</th>\n",
       "      <td>30000000</td>\n",
       "      <td>5 Bedrooms5 Bathrooms6 Toilets Save</td>\n",
       "      <td>detached</td>\n",
       "    </tr>\n",
       "    <tr>\n",
       "      <th>3</th>\n",
       "      <td>12000000</td>\n",
       "      <td>4 Bedrooms4 Bathrooms5 Toilets Save</td>\n",
       "      <td>semi-detached</td>\n",
       "    </tr>\n",
       "    <tr>\n",
       "      <th>4</th>\n",
       "      <td>12000000</td>\n",
       "      <td>4 Bedrooms4 Bathrooms5 Toilets2 Parking Spaces...</td>\n",
       "      <td>terraced</td>\n",
       "    </tr>\n",
       "    <tr>\n",
       "      <th>...</th>\n",
       "      <td>...</td>\n",
       "      <td>...</td>\n",
       "      <td>...</td>\n",
       "    </tr>\n",
       "    <tr>\n",
       "      <th>9975</th>\n",
       "      <td>6000000</td>\n",
       "      <td>3 Bedrooms3 Bathrooms4 Toilets3 Parking Spaces...</td>\n",
       "      <td>terraced</td>\n",
       "    </tr>\n",
       "    <tr>\n",
       "      <th>9976</th>\n",
       "      <td>12000000</td>\n",
       "      <td>4 Bedrooms4 Bathrooms5 Toilets Save</td>\n",
       "      <td>terraced</td>\n",
       "    </tr>\n",
       "    <tr>\n",
       "      <th>9977</th>\n",
       "      <td>12000000</td>\n",
       "      <td>4 Bedrooms Save</td>\n",
       "      <td>terraced</td>\n",
       "    </tr>\n",
       "    <tr>\n",
       "      <th>9978</th>\n",
       "      <td>6000000</td>\n",
       "      <td>3 Bedrooms3 Bathrooms4 Toilets3 Parking Spaces...</td>\n",
       "      <td>terraced</td>\n",
       "    </tr>\n",
       "    <tr>\n",
       "      <th>9979</th>\n",
       "      <td>15000000</td>\n",
       "      <td>4 Bedrooms4 Bathrooms5 Toilets6 Parking Spaces...</td>\n",
       "      <td>detached</td>\n",
       "    </tr>\n",
       "  </tbody>\n",
       "</table>\n",
       "<p>9980 rows × 3 columns</p>\n",
       "</div>"
      ],
      "text/plain": [
       "         Price                                   House Properties  \\\n",
       "0     12000000                4 Bedrooms4 Bathrooms5 Toilets Save   \n",
       "1     25000000  4 Bedrooms4 Bathrooms5 Toilets3 Parking Spaces...   \n",
       "2     30000000                5 Bedrooms5 Bathrooms6 Toilets Save   \n",
       "3     12000000                4 Bedrooms4 Bathrooms5 Toilets Save   \n",
       "4     12000000  4 Bedrooms4 Bathrooms5 Toilets2 Parking Spaces...   \n",
       "...        ...                                                ...   \n",
       "9975   6000000  3 Bedrooms3 Bathrooms4 Toilets3 Parking Spaces...   \n",
       "9976  12000000                4 Bedrooms4 Bathrooms5 Toilets Save   \n",
       "9977  12000000                                    4 Bedrooms Save   \n",
       "9978   6000000  3 Bedrooms3 Bathrooms4 Toilets3 Parking Spaces...   \n",
       "9979  15000000  4 Bedrooms4 Bathrooms5 Toilets6 Parking Spaces...   \n",
       "\n",
       "          HouseType  \n",
       "0          terraced  \n",
       "1          terraced  \n",
       "2          detached  \n",
       "3     semi-detached  \n",
       "4          terraced  \n",
       "...             ...  \n",
       "9975       terraced  \n",
       "9976       terraced  \n",
       "9977       terraced  \n",
       "9978       terraced  \n",
       "9979       detached  \n",
       "\n",
       "[9980 rows x 3 columns]"
      ]
     },
     "execution_count": 32,
     "metadata": {},
     "output_type": "execute_result"
    }
   ],
   "source": [
    "df"
   ]
  },
  {
   "cell_type": "code",
   "execution_count": 33,
   "id": "8e204da6",
   "metadata": {},
   "outputs": [],
   "source": [
    "import re\n",
    "\n",
    "def extract_property_details(properties):\n",
    "    bedrooms = re.search(r'(\\d+) Bedrooms', properties)\n",
    "    bathrooms = re.search(r'(\\d+) Bathrooms', properties)\n",
    "    toilets = re.search(r'(\\d+) Toilets', properties)\n",
    "    parking_spaces = re.search(r'(\\d+) Parking Space', properties) or re.search(r'(\\d+) Parking Spaces', properties)\n",
    "    \n",
    "    return {\n",
    "        'Bedrooms': int(bedrooms.group(1)) if bedrooms else None,\n",
    "        'Bathrooms': int(bathrooms.group(1)) if bathrooms else None,\n",
    "        'Toilets': int(toilets.group(1)) if toilets else None,\n",
    "        'Parking Spaces': int(parking_spaces.group(1)) if parking_spaces else None\n",
    "    }\n",
    "\n",
    "# Apply the function to the 'House Properties' column\n",
    "property_details = df['House Properties'].apply(extract_property_details).apply(pd.Series)\n",
    "\n"
   ]
  },
  {
   "cell_type": "code",
   "execution_count": 34,
   "id": "bc607252",
   "metadata": {},
   "outputs": [],
   "source": [
    "df = pd.concat([df, property_details], axis=1)"
   ]
  },
  {
   "cell_type": "code",
   "execution_count": 35,
   "id": "c6a64fb1",
   "metadata": {},
   "outputs": [],
   "source": [
    "df = df.drop('House Properties',axis = 1)"
   ]
  },
  {
   "cell_type": "code",
   "execution_count": 36,
   "id": "06a04b0e",
   "metadata": {},
   "outputs": [
    {
     "data": {
      "text/html": [
       "<div>\n",
       "<style scoped>\n",
       "    .dataframe tbody tr th:only-of-type {\n",
       "        vertical-align: middle;\n",
       "    }\n",
       "\n",
       "    .dataframe tbody tr th {\n",
       "        vertical-align: top;\n",
       "    }\n",
       "\n",
       "    .dataframe thead th {\n",
       "        text-align: right;\n",
       "    }\n",
       "</style>\n",
       "<table border=\"1\" class=\"dataframe\">\n",
       "  <thead>\n",
       "    <tr style=\"text-align: right;\">\n",
       "      <th></th>\n",
       "      <th>Price</th>\n",
       "      <th>HouseType</th>\n",
       "      <th>Bedrooms</th>\n",
       "      <th>Bathrooms</th>\n",
       "      <th>Toilets</th>\n",
       "      <th>Parking Spaces</th>\n",
       "    </tr>\n",
       "  </thead>\n",
       "  <tbody>\n",
       "    <tr>\n",
       "      <th>0</th>\n",
       "      <td>12000000</td>\n",
       "      <td>terraced</td>\n",
       "      <td>4.0</td>\n",
       "      <td>4.0</td>\n",
       "      <td>5.0</td>\n",
       "      <td>NaN</td>\n",
       "    </tr>\n",
       "    <tr>\n",
       "      <th>1</th>\n",
       "      <td>25000000</td>\n",
       "      <td>terraced</td>\n",
       "      <td>4.0</td>\n",
       "      <td>4.0</td>\n",
       "      <td>5.0</td>\n",
       "      <td>3.0</td>\n",
       "    </tr>\n",
       "    <tr>\n",
       "      <th>2</th>\n",
       "      <td>30000000</td>\n",
       "      <td>detached</td>\n",
       "      <td>5.0</td>\n",
       "      <td>5.0</td>\n",
       "      <td>6.0</td>\n",
       "      <td>NaN</td>\n",
       "    </tr>\n",
       "    <tr>\n",
       "      <th>3</th>\n",
       "      <td>12000000</td>\n",
       "      <td>semi-detached</td>\n",
       "      <td>4.0</td>\n",
       "      <td>4.0</td>\n",
       "      <td>5.0</td>\n",
       "      <td>NaN</td>\n",
       "    </tr>\n",
       "    <tr>\n",
       "      <th>4</th>\n",
       "      <td>12000000</td>\n",
       "      <td>terraced</td>\n",
       "      <td>4.0</td>\n",
       "      <td>4.0</td>\n",
       "      <td>5.0</td>\n",
       "      <td>2.0</td>\n",
       "    </tr>\n",
       "    <tr>\n",
       "      <th>...</th>\n",
       "      <td>...</td>\n",
       "      <td>...</td>\n",
       "      <td>...</td>\n",
       "      <td>...</td>\n",
       "      <td>...</td>\n",
       "      <td>...</td>\n",
       "    </tr>\n",
       "    <tr>\n",
       "      <th>9975</th>\n",
       "      <td>6000000</td>\n",
       "      <td>terraced</td>\n",
       "      <td>3.0</td>\n",
       "      <td>3.0</td>\n",
       "      <td>4.0</td>\n",
       "      <td>3.0</td>\n",
       "    </tr>\n",
       "    <tr>\n",
       "      <th>9976</th>\n",
       "      <td>12000000</td>\n",
       "      <td>terraced</td>\n",
       "      <td>4.0</td>\n",
       "      <td>4.0</td>\n",
       "      <td>5.0</td>\n",
       "      <td>NaN</td>\n",
       "    </tr>\n",
       "    <tr>\n",
       "      <th>9977</th>\n",
       "      <td>12000000</td>\n",
       "      <td>terraced</td>\n",
       "      <td>4.0</td>\n",
       "      <td>NaN</td>\n",
       "      <td>NaN</td>\n",
       "      <td>NaN</td>\n",
       "    </tr>\n",
       "    <tr>\n",
       "      <th>9978</th>\n",
       "      <td>6000000</td>\n",
       "      <td>terraced</td>\n",
       "      <td>3.0</td>\n",
       "      <td>3.0</td>\n",
       "      <td>4.0</td>\n",
       "      <td>3.0</td>\n",
       "    </tr>\n",
       "    <tr>\n",
       "      <th>9979</th>\n",
       "      <td>15000000</td>\n",
       "      <td>detached</td>\n",
       "      <td>4.0</td>\n",
       "      <td>4.0</td>\n",
       "      <td>5.0</td>\n",
       "      <td>6.0</td>\n",
       "    </tr>\n",
       "  </tbody>\n",
       "</table>\n",
       "<p>9980 rows × 6 columns</p>\n",
       "</div>"
      ],
      "text/plain": [
       "         Price      HouseType  Bedrooms  Bathrooms  Toilets  Parking Spaces\n",
       "0     12000000       terraced       4.0        4.0      5.0             NaN\n",
       "1     25000000       terraced       4.0        4.0      5.0             3.0\n",
       "2     30000000       detached       5.0        5.0      6.0             NaN\n",
       "3     12000000  semi-detached       4.0        4.0      5.0             NaN\n",
       "4     12000000       terraced       4.0        4.0      5.0             2.0\n",
       "...        ...            ...       ...        ...      ...             ...\n",
       "9975   6000000       terraced       3.0        3.0      4.0             3.0\n",
       "9976  12000000       terraced       4.0        4.0      5.0             NaN\n",
       "9977  12000000       terraced       4.0        NaN      NaN             NaN\n",
       "9978   6000000       terraced       3.0        3.0      4.0             3.0\n",
       "9979  15000000       detached       4.0        4.0      5.0             6.0\n",
       "\n",
       "[9980 rows x 6 columns]"
      ]
     },
     "execution_count": 36,
     "metadata": {},
     "output_type": "execute_result"
    }
   ],
   "source": [
    "df"
   ]
  },
  {
   "cell_type": "code",
   "execution_count": 37,
   "id": "5e4edb55",
   "metadata": {},
   "outputs": [],
   "source": [
    "df_scraped = df.copy()"
   ]
  },
  {
   "cell_type": "code",
   "execution_count": 38,
   "id": "8f818112",
   "metadata": {},
   "outputs": [],
   "source": [
    "## Saving my data as csv file\n",
    "\n",
    "\n",
    "df_scraped.to_csv('/Users/sot/Documents/New_Lagos_real_estate_data.csv',index= False)"
   ]
  },
  {
   "cell_type": "code",
   "execution_count": null,
   "id": "87369dd0",
   "metadata": {},
   "outputs": [],
   "source": []
  },
  {
   "cell_type": "markdown",
   "id": "79f4a274",
   "metadata": {},
   "source": [
    "## DATASET importation, exploration and preparation "
   ]
  },
  {
   "cell_type": "code",
   "execution_count": 1,
   "id": "e58a65bd",
   "metadata": {},
   "outputs": [],
   "source": [
    "# impport revelant liberies\n",
    "\n",
    "import numpy as np\n",
    "import pandas as pd\n",
    "import matplotlib.pyplot as plt\n",
    "import statsmodels.api as sm\n",
    "import seaborn as sns\n",
    "sns.set()\n",
    "import warnings\n",
    "warnings.simplefilter(action= 'ignore')"
   ]
  },
  {
   "cell_type": "code",
   "execution_count": 2,
   "id": "a68d2fdc",
   "metadata": {},
   "outputs": [
    {
     "data": {
      "text/html": [
       "<div>\n",
       "<style scoped>\n",
       "    .dataframe tbody tr th:only-of-type {\n",
       "        vertical-align: middle;\n",
       "    }\n",
       "\n",
       "    .dataframe tbody tr th {\n",
       "        vertical-align: top;\n",
       "    }\n",
       "\n",
       "    .dataframe thead th {\n",
       "        text-align: right;\n",
       "    }\n",
       "</style>\n",
       "<table border=\"1\" class=\"dataframe\">\n",
       "  <thead>\n",
       "    <tr style=\"text-align: right;\">\n",
       "      <th></th>\n",
       "      <th>Price</th>\n",
       "      <th>HouseType</th>\n",
       "      <th>Bedrooms</th>\n",
       "      <th>Bathrooms</th>\n",
       "      <th>Toilets</th>\n",
       "      <th>Parking Spaces</th>\n",
       "    </tr>\n",
       "  </thead>\n",
       "  <tbody>\n",
       "    <tr>\n",
       "      <th>0</th>\n",
       "      <td>12000000</td>\n",
       "      <td>terraced</td>\n",
       "      <td>4.0</td>\n",
       "      <td>4.0</td>\n",
       "      <td>5.0</td>\n",
       "      <td>NaN</td>\n",
       "    </tr>\n",
       "    <tr>\n",
       "      <th>1</th>\n",
       "      <td>25000000</td>\n",
       "      <td>terraced</td>\n",
       "      <td>4.0</td>\n",
       "      <td>4.0</td>\n",
       "      <td>5.0</td>\n",
       "      <td>3.0</td>\n",
       "    </tr>\n",
       "    <tr>\n",
       "      <th>2</th>\n",
       "      <td>30000000</td>\n",
       "      <td>detached</td>\n",
       "      <td>5.0</td>\n",
       "      <td>5.0</td>\n",
       "      <td>6.0</td>\n",
       "      <td>NaN</td>\n",
       "    </tr>\n",
       "    <tr>\n",
       "      <th>3</th>\n",
       "      <td>12000000</td>\n",
       "      <td>semi-detached</td>\n",
       "      <td>4.0</td>\n",
       "      <td>4.0</td>\n",
       "      <td>5.0</td>\n",
       "      <td>NaN</td>\n",
       "    </tr>\n",
       "    <tr>\n",
       "      <th>4</th>\n",
       "      <td>12000000</td>\n",
       "      <td>terraced</td>\n",
       "      <td>4.0</td>\n",
       "      <td>4.0</td>\n",
       "      <td>5.0</td>\n",
       "      <td>2.0</td>\n",
       "    </tr>\n",
       "    <tr>\n",
       "      <th>...</th>\n",
       "      <td>...</td>\n",
       "      <td>...</td>\n",
       "      <td>...</td>\n",
       "      <td>...</td>\n",
       "      <td>...</td>\n",
       "      <td>...</td>\n",
       "    </tr>\n",
       "    <tr>\n",
       "      <th>9975</th>\n",
       "      <td>6000000</td>\n",
       "      <td>terraced</td>\n",
       "      <td>3.0</td>\n",
       "      <td>3.0</td>\n",
       "      <td>4.0</td>\n",
       "      <td>3.0</td>\n",
       "    </tr>\n",
       "    <tr>\n",
       "      <th>9976</th>\n",
       "      <td>12000000</td>\n",
       "      <td>terraced</td>\n",
       "      <td>4.0</td>\n",
       "      <td>4.0</td>\n",
       "      <td>5.0</td>\n",
       "      <td>NaN</td>\n",
       "    </tr>\n",
       "    <tr>\n",
       "      <th>9977</th>\n",
       "      <td>12000000</td>\n",
       "      <td>terraced</td>\n",
       "      <td>4.0</td>\n",
       "      <td>NaN</td>\n",
       "      <td>NaN</td>\n",
       "      <td>NaN</td>\n",
       "    </tr>\n",
       "    <tr>\n",
       "      <th>9978</th>\n",
       "      <td>6000000</td>\n",
       "      <td>terraced</td>\n",
       "      <td>3.0</td>\n",
       "      <td>3.0</td>\n",
       "      <td>4.0</td>\n",
       "      <td>3.0</td>\n",
       "    </tr>\n",
       "    <tr>\n",
       "      <th>9979</th>\n",
       "      <td>15000000</td>\n",
       "      <td>detached</td>\n",
       "      <td>4.0</td>\n",
       "      <td>4.0</td>\n",
       "      <td>5.0</td>\n",
       "      <td>6.0</td>\n",
       "    </tr>\n",
       "  </tbody>\n",
       "</table>\n",
       "<p>9980 rows × 6 columns</p>\n",
       "</div>"
      ],
      "text/plain": [
       "         Price      HouseType  Bedrooms  Bathrooms  Toilets  Parking Spaces\n",
       "0     12000000       terraced       4.0        4.0      5.0             NaN\n",
       "1     25000000       terraced       4.0        4.0      5.0             3.0\n",
       "2     30000000       detached       5.0        5.0      6.0             NaN\n",
       "3     12000000  semi-detached       4.0        4.0      5.0             NaN\n",
       "4     12000000       terraced       4.0        4.0      5.0             2.0\n",
       "...        ...            ...       ...        ...      ...             ...\n",
       "9975   6000000       terraced       3.0        3.0      4.0             3.0\n",
       "9976  12000000       terraced       4.0        4.0      5.0             NaN\n",
       "9977  12000000       terraced       4.0        NaN      NaN             NaN\n",
       "9978   6000000       terraced       3.0        3.0      4.0             3.0\n",
       "9979  15000000       detached       4.0        4.0      5.0             6.0\n",
       "\n",
       "[9980 rows x 6 columns]"
      ]
     },
     "execution_count": 2,
     "metadata": {},
     "output_type": "execute_result"
    }
   ],
   "source": [
    "data = pd.read_csv(r'/Users/sot/Documents/New_Lagos_real_estate_data.csv')\n",
    "data"
   ]
  },
  {
   "cell_type": "code",
   "execution_count": 3,
   "id": "00dcdbfa",
   "metadata": {},
   "outputs": [
    {
     "data": {
      "text/plain": [
       "array(['terraced', 'detached', 'semi-detached', 'apartment'], dtype=object)"
      ]
     },
     "execution_count": 3,
     "metadata": {},
     "output_type": "execute_result"
    }
   ],
   "source": [
    "data['HouseType'].unique()"
   ]
  },
  {
   "cell_type": "markdown",
   "id": "43e7694e",
   "metadata": {},
   "source": [
    "# SECTION 1 :  Exploratory Data Analysis"
   ]
  },
  {
   "cell_type": "code",
   "execution_count": 4,
   "id": "ab901b0a",
   "metadata": {},
   "outputs": [
    {
     "data": {
      "image/png": "[encoded data removed]",
      "text/plain": [
       "<Figure size 640x480 with 1 Axes>"
      ]
     },
     "metadata": {},
     "output_type": "display_data"
    }
   ],
   "source": [
    "#Observing the bedroom column. it's  evident that most of the houses in our observations(points) have 4 and 5 bedrooms respectively \n",
    "\n",
    "sns.countplot(data = data, x = 'Bedrooms');"
   ]
  },
  {
   "cell_type": "code",
   "execution_count": 5,
   "id": "6dbef9f0",
   "metadata": {},
   "outputs": [
    {
     "data": {
      "image/png": "[encoded data removed]",
      "text/plain": [
       "<Figure size 640x480 with 1 Axes>"
      ]
     },
     "metadata": {},
     "output_type": "display_data"
    }
   ],
   "source": [
    "##looking at the property type column. it's evident that most of the observations are either fully detached buildings or terraced buildings\n",
    "\n",
    "sns.countplot(data = data, x = 'HouseType');"
   ]
  },
  {
   "cell_type": "code",
   "execution_count": 6,
   "id": "27546387",
   "metadata": {},
   "outputs": [
    {
     "data": {
      "image/png": "[encoded data removed]",
      "text/plain": [
       "<Figure size 640x480 with 1 Axes>"
      ]
     },
     "metadata": {},
     "output_type": "display_data"
    }
   ],
   "source": [
    "sns.countplot(data = data, x = 'Toilets');"
   ]
  },
  {
   "cell_type": "markdown",
   "id": "9c16f126",
   "metadata": {},
   "source": [
    "##### Observing the points of toilets in our data; it is evident that most houses have 4 to 5 toilets which makes lot of  sense given that our houses with highest bedrooms is between 3 and 4 . Due to my domain knowledge of these observations i would say  that most houses that have 4 bedrooms would likely have 5 toilets i.e one toilet in each room and a single visitor's toilet for the guest and it goes on and on for rest houses with  3,5 bedrooms. "
   ]
  },
  {
   "cell_type": "code",
   "execution_count": 7,
   "id": "d82f69e4",
   "metadata": {},
   "outputs": [
    {
     "data": {
      "image/png": "[encoded data removed]",
      "text/plain": [
       "<Figure size 640x480 with 1 Axes>"
      ]
     },
     "metadata": {},
     "output_type": "display_data"
    }
   ],
   "source": [
    "\n",
    "\n",
    "sns.countplot(data = data, x = 'Bathrooms');"
   ]
  },
  {
   "cell_type": "markdown",
   "id": "8567e374",
   "metadata": {},
   "source": [
    "####   This is becoming interesting, from the observations most houses have 4 bedrooms and it makes sense that most bathrooms are 4. It's evident that  the 4 bedrooms have a bathroom each. With my domain knowledge, i honestly doubt  there will be a bathroom for guest given that before a guest  would decide to shower at your house then that guest is more likely to be a family friend or close relative  who can possibly make use of one of the bathrooms in the bedroom. "
   ]
  },
  {
   "cell_type": "code",
   "execution_count": 8,
   "id": "c328c001",
   "metadata": {},
   "outputs": [
    {
     "data": {
      "image/png": "[encoded data removed]",
      "text/plain": [
       "<Figure size 640x480 with 1 Axes>"
      ]
     },
     "metadata": {},
     "output_type": "display_data"
    }
   ],
   "source": [
    "sns.countplot(data = data, x = 'Parking Spaces');"
   ]
  },
  {
   "cell_type": "markdown",
   "id": "04973a38",
   "metadata": {},
   "source": [
    "#### Observing the parking space column,  we could see that most houses have 2 to 3 packing spaces. It makes sense right? YES, it does makes sense. I honestly doubt if a simple family would have more than 3 cars parked given that most of the houses are built for simple families. Hence, having  6  parking spaces for a house built for simple families doesnt seem good enough but rather a waste of space. "
   ]
  },
  {
   "cell_type": "code",
   "execution_count": null,
   "id": "e8fa83a1",
   "metadata": {},
   "outputs": [],
   "source": []
  },
  {
   "cell_type": "markdown",
   "id": "2eb3d3b3",
   "metadata": {},
   "source": [
    "#####  Observing the  pairwise relationships and distributions with a continuous color gradient based on price. Moreover, having the pairwise relationships  helps in identifying how price correlates with other variables in my  dataset."
   ]
  },
  {
   "cell_type": "code",
   "execution_count": 9,
   "id": "fdb00521",
   "metadata": {},
   "outputs": [
    {
     "data": {
      "image/png": "[encoded data removed]",
      "text/plain": [
       "<Figure size 1123x1000 with 20 Axes>"
      ]
     },
     "metadata": {},
     "output_type": "display_data"
    }
   ],
   "source": [
    "\n",
    "\n",
    "sns.pairplot(data[['Toilets', 'Bathrooms', 'Bedrooms','Parking Spaces', 'Price']], palette='mako',hue='Price');"
   ]
  },
  {
   "cell_type": "code",
   "execution_count": 10,
   "id": "7ee500b5",
   "metadata": {},
   "outputs": [],
   "source": [
    "house_comparison_1 = data[data['Price']>3000000].groupby('HouseType').count()['Price'] "
   ]
  },
  {
   "cell_type": "code",
   "execution_count": 11,
   "id": "ed5326de",
   "metadata": {},
   "outputs": [
    {
     "data": {
      "text/plain": [
       "<Axes: xlabel='HouseType'>"
      ]
     },
     "execution_count": 11,
     "metadata": {},
     "output_type": "execute_result"
    },
    {
     "data": {
      "image/png": "[encoded data removed]",
      "text/plain": [
       "<Figure size 640x480 with 1 Axes>"
      ]
     },
     "metadata": {},
     "output_type": "display_data"
    }
   ],
   "source": [
    "house_comparison_1.plot()"
   ]
  },
  {
   "cell_type": "code",
   "execution_count": 12,
   "id": "4c3398aa",
   "metadata": {},
   "outputs": [],
   "source": [
    "cols = ['Bedrooms','Bathrooms','Toilets','Parking Spaces']"
   ]
  },
  {
   "cell_type": "markdown",
   "id": "5cdacb47",
   "metadata": {},
   "source": [
    "### Observing the correlation between the numerical features"
   ]
  },
  {
   "cell_type": "code",
   "execution_count": 13,
   "id": "00c29072",
   "metadata": {},
   "outputs": [
    {
     "data": {
      "text/html": [
       "<div>\n",
       "<style scoped>\n",
       "    .dataframe tbody tr th:only-of-type {\n",
       "        vertical-align: middle;\n",
       "    }\n",
       "\n",
       "    .dataframe tbody tr th {\n",
       "        vertical-align: top;\n",
       "    }\n",
       "\n",
       "    .dataframe thead th {\n",
       "        text-align: right;\n",
       "    }\n",
       "</style>\n",
       "<table border=\"1\" class=\"dataframe\">\n",
       "  <thead>\n",
       "    <tr style=\"text-align: right;\">\n",
       "      <th></th>\n",
       "      <th>Bedrooms</th>\n",
       "      <th>Bathrooms</th>\n",
       "      <th>Toilets</th>\n",
       "      <th>Parking Spaces</th>\n",
       "    </tr>\n",
       "  </thead>\n",
       "  <tbody>\n",
       "    <tr>\n",
       "      <th>Bedrooms</th>\n",
       "      <td>1.000000</td>\n",
       "      <td>1.000000</td>\n",
       "      <td>0.924733</td>\n",
       "      <td>0.196818</td>\n",
       "    </tr>\n",
       "    <tr>\n",
       "      <th>Bathrooms</th>\n",
       "      <td>1.000000</td>\n",
       "      <td>1.000000</td>\n",
       "      <td>0.924733</td>\n",
       "      <td>0.196818</td>\n",
       "    </tr>\n",
       "    <tr>\n",
       "      <th>Toilets</th>\n",
       "      <td>0.924733</td>\n",
       "      <td>0.924733</td>\n",
       "      <td>1.000000</td>\n",
       "      <td>0.196818</td>\n",
       "    </tr>\n",
       "    <tr>\n",
       "      <th>Parking Spaces</th>\n",
       "      <td>0.196818</td>\n",
       "      <td>0.196818</td>\n",
       "      <td>0.196818</td>\n",
       "      <td>1.000000</td>\n",
       "    </tr>\n",
       "  </tbody>\n",
       "</table>\n",
       "</div>"
      ],
      "text/plain": [
       "                Bedrooms  Bathrooms   Toilets  Parking Spaces\n",
       "Bedrooms        1.000000   1.000000  0.924733        0.196818\n",
       "Bathrooms       1.000000   1.000000  0.924733        0.196818\n",
       "Toilets         0.924733   0.924733  1.000000        0.196818\n",
       "Parking Spaces  0.196818   0.196818  0.196818        1.000000"
      ]
     },
     "execution_count": 13,
     "metadata": {},
     "output_type": "execute_result"
    }
   ],
   "source": [
    "correlation = data[cols].corr()\n",
    "correlation"
   ]
  },
  {
   "cell_type": "markdown",
   "id": "24ec5951",
   "metadata": {},
   "source": [
    "#### There's a high correlation among features  which kinda makes sense. The higher the bedrooms, the higher demand in Bathrooms, toilets and parking spaces and visa versa. Bear in mind that correlations in rare situations does not cause causality. "
   ]
  },
  {
   "cell_type": "code",
   "execution_count": 14,
   "id": "1118ac55",
   "metadata": {},
   "outputs": [
    {
     "data": {
      "text/plain": [
       "<Axes: >"
      ]
     },
     "execution_count": 14,
     "metadata": {},
     "output_type": "execute_result"
    },
    {
     "data": {
      "image/png": "[encoded data removed]",
      "text/plain": [
       "<Figure size 1200x700 with 2 Axes>"
      ]
     },
     "metadata": {},
     "output_type": "display_data"
    }
   ],
   "source": [
    "plt.figure(figsize=(12,7))\n",
    "\n",
    "sns.heatmap(correlation,annot = True,cmap= 'viridis')"
   ]
  },
  {
   "cell_type": "markdown",
   "id": "a5f8c52d",
   "metadata": {},
   "source": [
    "#### Exploring the correlation between my features to  the label"
   ]
  },
  {
   "cell_type": "code",
   "execution_count": 15,
   "id": "55c868c7",
   "metadata": {},
   "outputs": [],
   "source": [
    "colx = ['Bedrooms','Bathrooms','Toilets','Parking Spaces','Price']"
   ]
  },
  {
   "cell_type": "code",
   "execution_count": 16,
   "id": "8fe0e972",
   "metadata": {},
   "outputs": [
    {
     "data": {
      "image/png": "[encoded data removed]",
      "text/plain": [
       "<Figure size 640x480 with 1 Axes>"
      ]
     },
     "metadata": {},
     "output_type": "display_data"
    }
   ],
   "source": [
    "data[colx].corr()['Price'].sort_values().drop('Price').plot(kind ='bar');"
   ]
  },
  {
   "cell_type": "markdown",
   "id": "b9606f30",
   "metadata": {},
   "source": [
    "\n",
    "##### When i observed the pairwise relationship between my numerical features and my target i denoted i would likely have a good model. Interestingly, the correlation matrix between features and target says likewise; Given that higher correlation between predictor (independent) variables and the target (dependent) variable is generally a good indicator that those predictors will be useful in a model. However, i need to observe  and put  Several other factors into consideration like: \n"
   ]
  },
  {
   "cell_type": "markdown",
   "id": "73ce9ac6",
   "metadata": {},
   "source": [
    "- Correlation and Causation \n",
    "- Multicollinearity\n",
    "- overfitting \n",
    "- model complexity \n",
    "- Residual analysis\n",
    "- performance metrics"
   ]
  },
  {
   "cell_type": "markdown",
   "id": "749830d1",
   "metadata": {},
   "source": [
    "# SECTION 2: DATA PREPROCESSING"
   ]
  },
  {
   "cell_type": "markdown",
   "id": "6dc0b164",
   "metadata": {},
   "source": [
    "#### A critical section where i have to wrangle my data carefully before feeding to my model to learn patterns"
   ]
  },
  {
   "cell_type": "code",
   "execution_count": 17,
   "id": "c94ba85e",
   "metadata": {},
   "outputs": [
    {
     "data": {
      "text/html": [
       "<div>\n",
       "<style scoped>\n",
       "    .dataframe tbody tr th:only-of-type {\n",
       "        vertical-align: middle;\n",
       "    }\n",
       "\n",
       "    .dataframe tbody tr th {\n",
       "        vertical-align: top;\n",
       "    }\n",
       "\n",
       "    .dataframe thead th {\n",
       "        text-align: right;\n",
       "    }\n",
       "</style>\n",
       "<table border=\"1\" class=\"dataframe\">\n",
       "  <thead>\n",
       "    <tr style=\"text-align: right;\">\n",
       "      <th></th>\n",
       "      <th>Price</th>\n",
       "      <th>HouseType</th>\n",
       "      <th>Bedrooms</th>\n",
       "      <th>Bathrooms</th>\n",
       "      <th>Toilets</th>\n",
       "      <th>Parking Spaces</th>\n",
       "    </tr>\n",
       "  </thead>\n",
       "  <tbody>\n",
       "    <tr>\n",
       "      <th>0</th>\n",
       "      <td>12000000</td>\n",
       "      <td>terraced</td>\n",
       "      <td>4.0</td>\n",
       "      <td>4.0</td>\n",
       "      <td>5.0</td>\n",
       "      <td>NaN</td>\n",
       "    </tr>\n",
       "    <tr>\n",
       "      <th>1</th>\n",
       "      <td>25000000</td>\n",
       "      <td>terraced</td>\n",
       "      <td>4.0</td>\n",
       "      <td>4.0</td>\n",
       "      <td>5.0</td>\n",
       "      <td>3.0</td>\n",
       "    </tr>\n",
       "  </tbody>\n",
       "</table>\n",
       "</div>"
      ],
      "text/plain": [
       "      Price HouseType  Bedrooms  Bathrooms  Toilets  Parking Spaces\n",
       "0  12000000  terraced       4.0        4.0      5.0             NaN\n",
       "1  25000000  terraced       4.0        4.0      5.0             3.0"
      ]
     },
     "execution_count": 17,
     "metadata": {},
     "output_type": "execute_result"
    }
   ],
   "source": [
    "data.head(2)"
   ]
  },
  {
   "cell_type": "code",
   "execution_count": 18,
   "id": "b5433a19",
   "metadata": {},
   "outputs": [
    {
     "name": "stdout",
     "output_type": "stream",
     "text": [
      "<class 'pandas.core.frame.DataFrame'>\n",
      "RangeIndex: 9980 entries, 0 to 9979\n",
      "Data columns (total 6 columns):\n",
      " #   Column          Non-Null Count  Dtype  \n",
      "---  ------          --------------  -----  \n",
      " 0   Price           9980 non-null   int64  \n",
      " 1   HouseType       9980 non-null   object \n",
      " 2   Bedrooms        9980 non-null   float64\n",
      " 3   Bathrooms       9481 non-null   float64\n",
      " 4   Toilets         9481 non-null   float64\n",
      " 5   Parking Spaces  5988 non-null   float64\n",
      "dtypes: float64(4), int64(1), object(1)\n",
      "memory usage: 467.9+ KB\n"
     ]
    }
   ],
   "source": [
    "# Making sure the right dataType was assigned to each column\n",
    "\n",
    "data.info()"
   ]
  },
  {
   "cell_type": "code",
   "execution_count": 19,
   "id": "3f14756f",
   "metadata": {},
   "outputs": [
    {
     "data": {
      "text/html": [
       "<div>\n",
       "<style scoped>\n",
       "    .dataframe tbody tr th:only-of-type {\n",
       "        vertical-align: middle;\n",
       "    }\n",
       "\n",
       "    .dataframe tbody tr th {\n",
       "        vertical-align: top;\n",
       "    }\n",
       "\n",
       "    .dataframe thead th {\n",
       "        text-align: right;\n",
       "    }\n",
       "</style>\n",
       "<table border=\"1\" class=\"dataframe\">\n",
       "  <thead>\n",
       "    <tr style=\"text-align: right;\">\n",
       "      <th></th>\n",
       "      <th>count</th>\n",
       "      <th>mean</th>\n",
       "      <th>std</th>\n",
       "      <th>min</th>\n",
       "      <th>25%</th>\n",
       "      <th>50%</th>\n",
       "      <th>75%</th>\n",
       "      <th>max</th>\n",
       "    </tr>\n",
       "  </thead>\n",
       "  <tbody>\n",
       "    <tr>\n",
       "      <th>Price</th>\n",
       "      <td>9980.0</td>\n",
       "      <td>1.380000e+07</td>\n",
       "      <td>6.201923e+06</td>\n",
       "      <td>6000000.0</td>\n",
       "      <td>10000000.00</td>\n",
       "      <td>12000000.0</td>\n",
       "      <td>15000000.00</td>\n",
       "      <td>30000000.0</td>\n",
       "    </tr>\n",
       "    <tr>\n",
       "      <th>Bedrooms</th>\n",
       "      <td>9980.0</td>\n",
       "      <td>3.900000e+00</td>\n",
       "      <td>5.385435e-01</td>\n",
       "      <td>3.0</td>\n",
       "      <td>4.00</td>\n",
       "      <td>4.0</td>\n",
       "      <td>4.00</td>\n",
       "      <td>5.0</td>\n",
       "    </tr>\n",
       "    <tr>\n",
       "      <th>Bathrooms</th>\n",
       "      <td>9481.0</td>\n",
       "      <td>3.894737e+00</td>\n",
       "      <td>5.520338e-01</td>\n",
       "      <td>3.0</td>\n",
       "      <td>4.00</td>\n",
       "      <td>4.0</td>\n",
       "      <td>4.00</td>\n",
       "      <td>5.0</td>\n",
       "    </tr>\n",
       "    <tr>\n",
       "      <th>Toilets</th>\n",
       "      <td>9481.0</td>\n",
       "      <td>4.842105e+00</td>\n",
       "      <td>5.861114e-01</td>\n",
       "      <td>4.0</td>\n",
       "      <td>4.00</td>\n",
       "      <td>5.0</td>\n",
       "      <td>5.00</td>\n",
       "      <td>6.0</td>\n",
       "    </tr>\n",
       "    <tr>\n",
       "      <th>Parking Spaces</th>\n",
       "      <td>5988.0</td>\n",
       "      <td>3.166667e+00</td>\n",
       "      <td>1.067276e+00</td>\n",
       "      <td>2.0</td>\n",
       "      <td>2.75</td>\n",
       "      <td>3.0</td>\n",
       "      <td>3.25</td>\n",
       "      <td>6.0</td>\n",
       "    </tr>\n",
       "  </tbody>\n",
       "</table>\n",
       "</div>"
      ],
      "text/plain": [
       "                 count          mean           std        min          25%  \\\n",
       "Price           9980.0  1.380000e+07  6.201923e+06  6000000.0  10000000.00   \n",
       "Bedrooms        9980.0  3.900000e+00  5.385435e-01        3.0         4.00   \n",
       "Bathrooms       9481.0  3.894737e+00  5.520338e-01        3.0         4.00   \n",
       "Toilets         9481.0  4.842105e+00  5.861114e-01        4.0         4.00   \n",
       "Parking Spaces  5988.0  3.166667e+00  1.067276e+00        2.0         2.75   \n",
       "\n",
       "                       50%          75%         max  \n",
       "Price           12000000.0  15000000.00  30000000.0  \n",
       "Bedrooms               4.0         4.00         5.0  \n",
       "Bathrooms              4.0         4.00         5.0  \n",
       "Toilets                5.0         5.00         6.0  \n",
       "Parking Spaces         3.0         3.25         6.0  "
      ]
     },
     "execution_count": 19,
     "metadata": {},
     "output_type": "execute_result"
    }
   ],
   "source": [
    "# Observe the decriptive statistics of the data\n",
    "\n",
    "data.describe().transpose()"
   ]
  },
  {
   "cell_type": "code",
   "execution_count": 20,
   "id": "144e561a",
   "metadata": {},
   "outputs": [
    {
     "data": {
      "text/plain": [
       "(9980, 6)"
      ]
     },
     "execution_count": 20,
     "metadata": {},
     "output_type": "execute_result"
    }
   ],
   "source": [
    "data.shape"
   ]
  },
  {
   "cell_type": "markdown",
   "id": "aaff379c",
   "metadata": {},
   "source": [
    "#### OUTLIERS CHECK"
   ]
  },
  {
   "cell_type": "code",
   "execution_count": 21,
   "id": "08e31817",
   "metadata": {},
   "outputs": [
    {
     "data": {
      "text/plain": [
       "Index(['Price', 'HouseType', 'Bedrooms', 'Bathrooms', 'Toilets',\n",
       "       'Parking Spaces'],\n",
       "      dtype='object')"
      ]
     },
     "execution_count": 21,
     "metadata": {},
     "output_type": "execute_result"
    }
   ],
   "source": [
    "data.columns"
   ]
  },
  {
   "cell_type": "code",
   "execution_count": 22,
   "id": "cf9271fb",
   "metadata": {},
   "outputs": [
    {
     "data": {
      "image/png": "[encoded data removed]",
      "text/plain": [
       "<Figure size 6000x3000 with 300 Axes>"
      ]
     },
     "metadata": {},
     "output_type": "display_data"
    }
   ],
   "source": [
    "colls = ['Price', 'Bedrooms', 'Bathrooms',\n",
    "       'Toilets', 'Parking Spaces']\n",
    "\n",
    "data[colls].plot(\n",
    "     kind = 'box',\n",
    "    subplots = True,\n",
    "    figsize =(60,30),\n",
    "    layout = (10,30) \n",
    ");"
   ]
  },
  {
   "cell_type": "markdown",
   "id": "3c2fabfd",
   "metadata": {},
   "source": [
    "####### CALCULATIION FOR OUTLIERS"
   ]
  },
  {
   "cell_type": "code",
   "execution_count": 23,
   "id": "0adfd04e",
   "metadata": {},
   "outputs": [],
   "source": [
    "# checking outliers in price\n",
    "\n",
    "q75,q25 = np.percentile(data['Price'],[75,25])"
   ]
  },
  {
   "cell_type": "code",
   "execution_count": 24,
   "id": "0c7b4b5e",
   "metadata": {},
   "outputs": [],
   "source": [
    "iqr = q75 - q25"
   ]
  },
  {
   "cell_type": "code",
   "execution_count": 25,
   "id": "4c2306c4",
   "metadata": {},
   "outputs": [
    {
     "data": {
      "text/plain": [
       "5000000.0"
      ]
     },
     "execution_count": 25,
     "metadata": {},
     "output_type": "execute_result"
    }
   ],
   "source": [
    "iqr"
   ]
  },
  {
   "cell_type": "code",
   "execution_count": 26,
   "id": "50eaffbc",
   "metadata": {},
   "outputs": [
    {
     "data": {
      "text/plain": [
       "2500000.0"
      ]
     },
     "execution_count": 26,
     "metadata": {},
     "output_type": "execute_result"
    }
   ],
   "source": [
    "lower_limit = q25 - 1.5 * (iqr)\n",
    "\n",
    "lower_limit"
   ]
  },
  {
   "cell_type": "code",
   "execution_count": 27,
   "id": "0da029ac",
   "metadata": {},
   "outputs": [
    {
     "data": {
      "text/plain": [
       "22500000.0"
      ]
     },
     "execution_count": 27,
     "metadata": {},
     "output_type": "execute_result"
    }
   ],
   "source": [
    "upper_limit = q75 + 1.5 * (iqr)\n",
    "\n",
    "upper_limit"
   ]
  },
  {
   "cell_type": "markdown",
   "id": "64d8d2ed",
   "metadata": {},
   "source": [
    "##### There are outliers  in price"
   ]
  },
  {
   "cell_type": "markdown",
   "id": "348e3214",
   "metadata": {},
   "source": [
    "### Exploring the price and parking space variables further"
   ]
  },
  {
   "cell_type": "code",
   "execution_count": 28,
   "id": "95096f34",
   "metadata": {},
   "outputs": [
    {
     "data": {
      "text/plain": [
       "2.0"
      ]
     },
     "execution_count": 28,
     "metadata": {},
     "output_type": "execute_result"
    }
   ],
   "source": [
    "# checking outliers in parking space\n",
    "\n",
    "IQR = 3.25 - 2.75\n",
    "lower_lim = 2.75 - 1.5 * (IQR)\n",
    "\n",
    "lower_lim"
   ]
  },
  {
   "cell_type": "code",
   "execution_count": 29,
   "id": "f0e8bbd5",
   "metadata": {},
   "outputs": [
    {
     "data": {
      "text/plain": [
       "4.0"
      ]
     },
     "execution_count": 29,
     "metadata": {},
     "output_type": "execute_result"
    }
   ],
   "source": [
    "IQR = 3.25 - 2.75\n",
    "upper_lim = 3.25 + 1.5 * (IQR)\n",
    "\n",
    "upper_lim"
   ]
  },
  {
   "cell_type": "markdown",
   "id": "7f547edb",
   "metadata": {},
   "source": [
    "#### There's  outlier in parking space"
   ]
  },
  {
   "cell_type": "code",
   "execution_count": 30,
   "id": "9be3978b",
   "metadata": {},
   "outputs": [
    {
     "data": {
      "image/png": "[encoded data removed]",
      "text/plain": [
       "<Figure size 640x480 with 1 Axes>"
      ]
     },
     "metadata": {},
     "output_type": "display_data"
    }
   ],
   "source": [
    "sns.distplot(data['Parking Spaces']);"
   ]
  },
  {
   "cell_type": "code",
   "execution_count": 31,
   "id": "b7cb05c5",
   "metadata": {},
   "outputs": [
    {
     "data": {
      "image/png": "[encoded data removed]",
      "text/plain": [
       "<Figure size 640x480 with 1 Axes>"
      ]
     },
     "metadata": {},
     "output_type": "display_data"
    }
   ],
   "source": [
    "sns.distplot(data['Price']);"
   ]
  },
  {
   "cell_type": "code",
   "execution_count": 32,
   "id": "b442654f",
   "metadata": {},
   "outputs": [
    {
     "data": {
      "image/png": "[encoded data removed]",
      "text/plain": [
       "<Figure size 640x480 with 1 Axes>"
      ]
     },
     "metadata": {},
     "output_type": "display_data"
    }
   ],
   "source": [
    "sns.distplot(data['Bedrooms']);"
   ]
  },
  {
   "cell_type": "code",
   "execution_count": 33,
   "id": "dffb0248",
   "metadata": {},
   "outputs": [],
   "source": [
    "colss = ['Price', 'Bedrooms', 'Bathrooms', 'Toilets',\n",
    "       'Parking Spaces']"
   ]
  },
  {
   "cell_type": "code",
   "execution_count": 34,
   "id": "1e582827",
   "metadata": {},
   "outputs": [
    {
     "data": {
      "text/plain": [
       "Price             1.000000\n",
       "Bedrooms          0.682702\n",
       "Bathrooms         0.687688\n",
       "Toilets           0.490618\n",
       "Parking Spaces    0.176821\n",
       "Name: Price, dtype: float64"
      ]
     },
     "execution_count": 34,
     "metadata": {},
     "output_type": "execute_result"
    }
   ],
   "source": [
    "correlations = data[colss].corr()['Price']\n",
    "correlations"
   ]
  },
  {
   "cell_type": "markdown",
   "id": "852edec8",
   "metadata": {},
   "source": [
    "### EXploring scatter plot to check for outliers in price with corelated features"
   ]
  },
  {
   "cell_type": "code",
   "execution_count": 35,
   "id": "4f5bb77c",
   "metadata": {},
   "outputs": [
    {
     "data": {
      "image/png": "[encoded data removed]",
      "text/plain": [
       "<Figure size 640x480 with 1 Axes>"
      ]
     },
     "metadata": {},
     "output_type": "display_data"
    }
   ],
   "source": [
    "plt.scatter(data = data, x ='Bathrooms',y= 'Price', label = 'price Vs Bathrooms' )\n",
    "plt.xlabel('Bathrooms', fontsize = 20)\n",
    "plt.ylabel('Price', fontsize = 20)\n",
    "plt.legend()\n",
    "plt.show;"
   ]
  },
  {
   "cell_type": "code",
   "execution_count": 36,
   "id": "4e353cd2",
   "metadata": {},
   "outputs": [
    {
     "data": {
      "image/png": "[encoded data removed]",
      "text/plain": [
       "<Figure size 640x480 with 1 Axes>"
      ]
     },
     "metadata": {},
     "output_type": "display_data"
    }
   ],
   "source": [
    "plt.scatter(data = data, x ='Bedrooms',y= 'Price', label = 'price Vs Bedrooms' )\n",
    "plt.xlabel('Bedrooms', fontsize = 20)\n",
    "plt.ylabel('Price', fontsize = 20)\n",
    "plt.legend()\n",
    "plt.show;"
   ]
  },
  {
   "cell_type": "code",
   "execution_count": 37,
   "id": "46e8ee98",
   "metadata": {},
   "outputs": [
    {
     "data": {
      "image/png": "[encoded data removed]",
      "text/plain": [
       "<Figure size 640x480 with 1 Axes>"
      ]
     },
     "metadata": {},
     "output_type": "display_data"
    }
   ],
   "source": [
    "plt.scatter(data = data, x ='Toilets',y= 'Price', label = 'price Vs toilets' )\n",
    "plt.xlabel('Toilets', fontsize = 20)\n",
    "plt.ylabel('Price', fontsize = 20)\n",
    "plt.legend()\n",
    "plt.show;"
   ]
  },
  {
   "cell_type": "code",
   "execution_count": 38,
   "id": "11ef8bf0",
   "metadata": {},
   "outputs": [
    {
     "data": {
      "image/png": "[encoded data removed]",
      "text/plain": [
       "<Figure size 640x480 with 1 Axes>"
      ]
     },
     "metadata": {},
     "output_type": "display_data"
    }
   ],
   "source": [
    "plt.scatter(data = data, x ='Parking Spaces',y= 'Price', label = 'price Vs Parking Spaces' )\n",
    "plt.xlabel('Parking Spaces', fontsize = 20)\n",
    "plt.ylabel('Price', fontsize = 20)\n",
    "plt.legend()\n",
    "plt.show;"
   ]
  },
  {
   "cell_type": "code",
   "execution_count": null,
   "id": "8ad12d2e",
   "metadata": {},
   "outputs": [],
   "source": []
  },
  {
   "cell_type": "markdown",
   "id": "ac542252",
   "metadata": {},
   "source": [
    "### Dealing with outliers in the price and parking space colums"
   ]
  },
  {
   "cell_type": "code",
   "execution_count": 39,
   "id": "5627b85b",
   "metadata": {},
   "outputs": [],
   "source": [
    "data_no_outlier =  data[(data['Price']<22500000)& (data['Price']>4999999)]"
   ]
  },
  {
   "cell_type": "code",
   "execution_count": 40,
   "id": "70acc6e8",
   "metadata": {},
   "outputs": [
    {
     "data": {
      "image/png": "[encoded data removed]",
      "text/plain": [
       "<Figure size 6000x3000 with 300 Axes>"
      ]
     },
     "metadata": {},
     "output_type": "display_data"
    }
   ],
   "source": [
    "colls = ['Price', 'Bedrooms', 'Bathrooms',\n",
    "       'Toilets', 'Parking Spaces']\n",
    "\n",
    "data_no_outlier[colls].plot(\n",
    "     kind = 'box',\n",
    "    subplots = True,\n",
    "    figsize =(60,30),\n",
    "    layout = (10,30) \n",
    ");"
   ]
  },
  {
   "cell_type": "code",
   "execution_count": 41,
   "id": "1f971c3a",
   "metadata": {},
   "outputs": [
    {
     "data": {
      "image/png": "[encoded data removed]",
      "text/plain": [
       "<Figure size 640x480 with 1 Axes>"
      ]
     },
     "metadata": {},
     "output_type": "display_data"
    }
   ],
   "source": [
    "plt.scatter(data = data_no_outlier, x ='Bathrooms',y= 'Price', label = 'price Vs Bathrooms' )\n",
    "plt.xlabel('Bathrooms', fontsize = 20)\n",
    "plt.ylabel('Price', fontsize = 20)\n",
    "plt.legend()\n",
    "plt.show;"
   ]
  },
  {
   "cell_type": "code",
   "execution_count": 42,
   "id": "d3779c9e",
   "metadata": {},
   "outputs": [
    {
     "data": {
      "image/png": "[encoded data removed]",
      "text/plain": [
       "<Figure size 640x480 with 1 Axes>"
      ]
     },
     "metadata": {},
     "output_type": "display_data"
    }
   ],
   "source": [
    "plt.scatter(data = data_no_outlier, x ='Toilets',y= 'Price', label = 'price Vs toilets' )\n",
    "plt.xlabel('Toilets', fontsize = 20)\n",
    "plt.ylabel('Price', fontsize = 20)\n",
    "plt.legend()\n",
    "plt.show;"
   ]
  },
  {
   "cell_type": "markdown",
   "id": "42ff057e",
   "metadata": {},
   "source": [
    "#### Nb:  Another  method of dealing with outliers seamslessly is to remove top 1% observations. "
   ]
  },
  {
   "cell_type": "markdown",
   "id": "02f1a273",
   "metadata": {},
   "source": [
    "### MISSING VALUES CHECK\n",
    "\n",
    "- Handling missing values"
   ]
  },
  {
   "cell_type": "code",
   "execution_count": 43,
   "id": "3999c8c0",
   "metadata": {},
   "outputs": [
    {
     "data": {
      "text/plain": [
       "Price                0\n",
       "HouseType            0\n",
       "Bedrooms             0\n",
       "Bathrooms          499\n",
       "Toilets            499\n",
       "Parking Spaces    2994\n",
       "dtype: int64"
      ]
     },
     "execution_count": 43,
     "metadata": {},
     "output_type": "execute_result"
    }
   ],
   "source": [
    "data_no_outlier.isna().sum()"
   ]
  },
  {
   "cell_type": "markdown",
   "id": "8cbaff55",
   "metadata": {},
   "source": [
    "- GETTING THE PERCENTAGE OF MISSING ROWS"
   ]
  },
  {
   "cell_type": "code",
   "execution_count": 44,
   "id": "6fc6dde7",
   "metadata": {},
   "outputs": [
    {
     "data": {
      "text/plain": [
       "Price              0.000000\n",
       "HouseType          0.000000\n",
       "Bedrooms           0.000000\n",
       "Bathrooms          5.882353\n",
       "Toilets            5.882353\n",
       "Parking Spaces    35.294118\n",
       "dtype: float64"
      ]
     },
     "execution_count": 44,
     "metadata": {},
     "output_type": "execute_result"
    }
   ],
   "source": [
    "100 * (data_no_outlier.isna().sum() / len(data_no_outlier))"
   ]
  },
  {
   "cell_type": "code",
   "execution_count": 45,
   "id": "2ea07f00",
   "metadata": {},
   "outputs": [],
   "source": [
    "def percentage_missing(data_no_outlier):\n",
    "    percent_nan = 100 * (data_no_outlier.isna().sum() / len(data_no_outlier))\n",
    "    percent_nan = percent_nan[percent_nan > 0].sort_values()\n",
    "    \n",
    "    return percent_nan"
   ]
  },
  {
   "cell_type": "code",
   "execution_count": 46,
   "id": "2b423238",
   "metadata": {},
   "outputs": [],
   "source": [
    "percent_nan = percentage_missing(data_no_outlier)"
   ]
  },
  {
   "cell_type": "code",
   "execution_count": 47,
   "id": "30f47ee9",
   "metadata": {},
   "outputs": [
    {
     "data": {
      "text/plain": [
       "Bathrooms          5.882353\n",
       "Toilets            5.882353\n",
       "Parking Spaces    35.294118\n",
       "dtype: float64"
      ]
     },
     "execution_count": 47,
     "metadata": {},
     "output_type": "execute_result"
    }
   ],
   "source": [
    "percent_nan "
   ]
  },
  {
   "cell_type": "code",
   "execution_count": 48,
   "id": "e734c120",
   "metadata": {},
   "outputs": [
    {
     "data": {
      "image/png": "[encoded data removed]",
      "text/plain": [
       "<Figure size 640x480 with 1 Axes>"
      ]
     },
     "metadata": {},
     "output_type": "display_data"
    }
   ],
   "source": [
    "sns.barplot(x = percent_nan.index,y = percent_nan);"
   ]
  },
  {
   "cell_type": "markdown",
   "id": "ebccdc44",
   "metadata": {},
   "source": [
    "#### Since we have more than 10% missing data in parking space column , we  cant possibly drop rows with missing values yet. let's explore to find a better solution for the missing rows. its either we dropna in rows/column or fill the missing rows/column with a mean of correlated feature."
   ]
  },
  {
   "cell_type": "markdown",
   "id": "0f3eaec2",
   "metadata": {},
   "source": [
    "## Observating the missing values in each features"
   ]
  },
  {
   "cell_type": "code",
   "execution_count": 49,
   "id": "226eb6df",
   "metadata": {},
   "outputs": [],
   "source": [
    "nan_rows = data_no_outlier[[ 'Bathrooms', 'Toilets','Parking Spaces']].isna().any(axis=1)"
   ]
  },
  {
   "cell_type": "code",
   "execution_count": 50,
   "id": "8139c42c",
   "metadata": {},
   "outputs": [
    {
     "data": {
      "text/html": [
       "<div>\n",
       "<style scoped>\n",
       "    .dataframe tbody tr th:only-of-type {\n",
       "        vertical-align: middle;\n",
       "    }\n",
       "\n",
       "    .dataframe tbody tr th {\n",
       "        vertical-align: top;\n",
       "    }\n",
       "\n",
       "    .dataframe thead th {\n",
       "        text-align: right;\n",
       "    }\n",
       "</style>\n",
       "<table border=\"1\" class=\"dataframe\">\n",
       "  <thead>\n",
       "    <tr style=\"text-align: right;\">\n",
       "      <th></th>\n",
       "      <th>Bathrooms</th>\n",
       "      <th>Toilets</th>\n",
       "      <th>Parking Spaces</th>\n",
       "    </tr>\n",
       "  </thead>\n",
       "  <tbody>\n",
       "    <tr>\n",
       "      <th>0</th>\n",
       "      <td>4.0</td>\n",
       "      <td>5.0</td>\n",
       "      <td>NaN</td>\n",
       "    </tr>\n",
       "    <tr>\n",
       "      <th>3</th>\n",
       "      <td>4.0</td>\n",
       "      <td>5.0</td>\n",
       "      <td>NaN</td>\n",
       "    </tr>\n",
       "    <tr>\n",
       "      <th>7</th>\n",
       "      <td>4.0</td>\n",
       "      <td>5.0</td>\n",
       "      <td>NaN</td>\n",
       "    </tr>\n",
       "    <tr>\n",
       "      <th>10</th>\n",
       "      <td>4.0</td>\n",
       "      <td>5.0</td>\n",
       "      <td>NaN</td>\n",
       "    </tr>\n",
       "    <tr>\n",
       "      <th>16</th>\n",
       "      <td>4.0</td>\n",
       "      <td>5.0</td>\n",
       "      <td>NaN</td>\n",
       "    </tr>\n",
       "    <tr>\n",
       "      <th>...</th>\n",
       "      <td>...</td>\n",
       "      <td>...</td>\n",
       "      <td>...</td>\n",
       "    </tr>\n",
       "    <tr>\n",
       "      <th>9963</th>\n",
       "      <td>4.0</td>\n",
       "      <td>5.0</td>\n",
       "      <td>NaN</td>\n",
       "    </tr>\n",
       "    <tr>\n",
       "      <th>9967</th>\n",
       "      <td>4.0</td>\n",
       "      <td>5.0</td>\n",
       "      <td>NaN</td>\n",
       "    </tr>\n",
       "    <tr>\n",
       "      <th>9970</th>\n",
       "      <td>4.0</td>\n",
       "      <td>5.0</td>\n",
       "      <td>NaN</td>\n",
       "    </tr>\n",
       "    <tr>\n",
       "      <th>9976</th>\n",
       "      <td>4.0</td>\n",
       "      <td>5.0</td>\n",
       "      <td>NaN</td>\n",
       "    </tr>\n",
       "    <tr>\n",
       "      <th>9977</th>\n",
       "      <td>NaN</td>\n",
       "      <td>NaN</td>\n",
       "      <td>NaN</td>\n",
       "    </tr>\n",
       "  </tbody>\n",
       "</table>\n",
       "<p>2994 rows × 3 columns</p>\n",
       "</div>"
      ],
      "text/plain": [
       "      Bathrooms  Toilets  Parking Spaces\n",
       "0           4.0      5.0             NaN\n",
       "3           4.0      5.0             NaN\n",
       "7           4.0      5.0             NaN\n",
       "10          4.0      5.0             NaN\n",
       "16          4.0      5.0             NaN\n",
       "...         ...      ...             ...\n",
       "9963        4.0      5.0             NaN\n",
       "9967        4.0      5.0             NaN\n",
       "9970        4.0      5.0             NaN\n",
       "9976        4.0      5.0             NaN\n",
       "9977        NaN      NaN             NaN\n",
       "\n",
       "[2994 rows x 3 columns]"
      ]
     },
     "execution_count": 50,
     "metadata": {},
     "output_type": "execute_result"
    }
   ],
   "source": [
    "df_with_nan = data_no_outlier[nan_rows][[ 'Bathrooms', 'Toilets','Parking Spaces']]\n",
    "df_with_nan"
   ]
  },
  {
   "cell_type": "code",
   "execution_count": 51,
   "id": "b747976f",
   "metadata": {},
   "outputs": [
    {
     "data": {
      "text/html": [
       "<div>\n",
       "<style scoped>\n",
       "    .dataframe tbody tr th:only-of-type {\n",
       "        vertical-align: middle;\n",
       "    }\n",
       "\n",
       "    .dataframe tbody tr th {\n",
       "        vertical-align: top;\n",
       "    }\n",
       "\n",
       "    .dataframe thead th {\n",
       "        text-align: right;\n",
       "    }\n",
       "</style>\n",
       "<table border=\"1\" class=\"dataframe\">\n",
       "  <thead>\n",
       "    <tr style=\"text-align: right;\">\n",
       "      <th></th>\n",
       "      <th>Price</th>\n",
       "      <th>HouseType</th>\n",
       "      <th>Bedrooms</th>\n",
       "      <th>Bathrooms</th>\n",
       "      <th>Toilets</th>\n",
       "      <th>Parking Spaces</th>\n",
       "    </tr>\n",
       "  </thead>\n",
       "  <tbody>\n",
       "    <tr>\n",
       "      <th>17</th>\n",
       "      <td>12000000</td>\n",
       "      <td>terraced</td>\n",
       "      <td>4.0</td>\n",
       "      <td>NaN</td>\n",
       "      <td>NaN</td>\n",
       "      <td>NaN</td>\n",
       "    </tr>\n",
       "    <tr>\n",
       "      <th>37</th>\n",
       "      <td>12000000</td>\n",
       "      <td>terraced</td>\n",
       "      <td>4.0</td>\n",
       "      <td>NaN</td>\n",
       "      <td>NaN</td>\n",
       "      <td>NaN</td>\n",
       "    </tr>\n",
       "    <tr>\n",
       "      <th>57</th>\n",
       "      <td>12000000</td>\n",
       "      <td>terraced</td>\n",
       "      <td>4.0</td>\n",
       "      <td>NaN</td>\n",
       "      <td>NaN</td>\n",
       "      <td>NaN</td>\n",
       "    </tr>\n",
       "    <tr>\n",
       "      <th>77</th>\n",
       "      <td>12000000</td>\n",
       "      <td>terraced</td>\n",
       "      <td>4.0</td>\n",
       "      <td>NaN</td>\n",
       "      <td>NaN</td>\n",
       "      <td>NaN</td>\n",
       "    </tr>\n",
       "    <tr>\n",
       "      <th>97</th>\n",
       "      <td>12000000</td>\n",
       "      <td>terraced</td>\n",
       "      <td>4.0</td>\n",
       "      <td>NaN</td>\n",
       "      <td>NaN</td>\n",
       "      <td>NaN</td>\n",
       "    </tr>\n",
       "    <tr>\n",
       "      <th>...</th>\n",
       "      <td>...</td>\n",
       "      <td>...</td>\n",
       "      <td>...</td>\n",
       "      <td>...</td>\n",
       "      <td>...</td>\n",
       "      <td>...</td>\n",
       "    </tr>\n",
       "    <tr>\n",
       "      <th>9897</th>\n",
       "      <td>12000000</td>\n",
       "      <td>terraced</td>\n",
       "      <td>4.0</td>\n",
       "      <td>NaN</td>\n",
       "      <td>NaN</td>\n",
       "      <td>NaN</td>\n",
       "    </tr>\n",
       "    <tr>\n",
       "      <th>9917</th>\n",
       "      <td>12000000</td>\n",
       "      <td>terraced</td>\n",
       "      <td>4.0</td>\n",
       "      <td>NaN</td>\n",
       "      <td>NaN</td>\n",
       "      <td>NaN</td>\n",
       "    </tr>\n",
       "    <tr>\n",
       "      <th>9937</th>\n",
       "      <td>12000000</td>\n",
       "      <td>terraced</td>\n",
       "      <td>4.0</td>\n",
       "      <td>NaN</td>\n",
       "      <td>NaN</td>\n",
       "      <td>NaN</td>\n",
       "    </tr>\n",
       "    <tr>\n",
       "      <th>9957</th>\n",
       "      <td>12000000</td>\n",
       "      <td>terraced</td>\n",
       "      <td>4.0</td>\n",
       "      <td>NaN</td>\n",
       "      <td>NaN</td>\n",
       "      <td>NaN</td>\n",
       "    </tr>\n",
       "    <tr>\n",
       "      <th>9977</th>\n",
       "      <td>12000000</td>\n",
       "      <td>terraced</td>\n",
       "      <td>4.0</td>\n",
       "      <td>NaN</td>\n",
       "      <td>NaN</td>\n",
       "      <td>NaN</td>\n",
       "    </tr>\n",
       "  </tbody>\n",
       "</table>\n",
       "<p>499 rows × 6 columns</p>\n",
       "</div>"
      ],
      "text/plain": [
       "         Price HouseType  Bedrooms  Bathrooms  Toilets  Parking Spaces\n",
       "17    12000000  terraced       4.0        NaN      NaN             NaN\n",
       "37    12000000  terraced       4.0        NaN      NaN             NaN\n",
       "57    12000000  terraced       4.0        NaN      NaN             NaN\n",
       "77    12000000  terraced       4.0        NaN      NaN             NaN\n",
       "97    12000000  terraced       4.0        NaN      NaN             NaN\n",
       "...        ...       ...       ...        ...      ...             ...\n",
       "9897  12000000  terraced       4.0        NaN      NaN             NaN\n",
       "9917  12000000  terraced       4.0        NaN      NaN             NaN\n",
       "9937  12000000  terraced       4.0        NaN      NaN             NaN\n",
       "9957  12000000  terraced       4.0        NaN      NaN             NaN\n",
       "9977  12000000  terraced       4.0        NaN      NaN             NaN\n",
       "\n",
       "[499 rows x 6 columns]"
      ]
     },
     "execution_count": 51,
     "metadata": {},
     "output_type": "execute_result"
    }
   ],
   "source": [
    "Bathroom_nan = data_no_outlier[data_no_outlier['Bathrooms'].isna()]\n",
    "Bathroom_nan\n"
   ]
  },
  {
   "cell_type": "markdown",
   "id": "9c41c948",
   "metadata": {},
   "source": [
    "#### It makes sense the dropna in the bathroom column since the NAN  goes accross toilet and parking space "
   ]
  },
  {
   "cell_type": "markdown",
   "id": "22d318b1",
   "metadata": {},
   "source": []
  },
  {
   "cell_type": "code",
   "execution_count": 52,
   "id": "2b35cc10",
   "metadata": {},
   "outputs": [],
   "source": [
    "data_cleaned = data_no_outlier.dropna(subset=['Bathrooms'])"
   ]
  },
  {
   "cell_type": "code",
   "execution_count": 53,
   "id": "e55cfcf1",
   "metadata": {},
   "outputs": [
    {
     "data": {
      "text/html": [
       "<div>\n",
       "<style scoped>\n",
       "    .dataframe tbody tr th:only-of-type {\n",
       "        vertical-align: middle;\n",
       "    }\n",
       "\n",
       "    .dataframe tbody tr th {\n",
       "        vertical-align: top;\n",
       "    }\n",
       "\n",
       "    .dataframe thead th {\n",
       "        text-align: right;\n",
       "    }\n",
       "</style>\n",
       "<table border=\"1\" class=\"dataframe\">\n",
       "  <thead>\n",
       "    <tr style=\"text-align: right;\">\n",
       "      <th></th>\n",
       "      <th>Price</th>\n",
       "      <th>HouseType</th>\n",
       "      <th>Bedrooms</th>\n",
       "      <th>Bathrooms</th>\n",
       "      <th>Toilets</th>\n",
       "      <th>Parking Spaces</th>\n",
       "    </tr>\n",
       "  </thead>\n",
       "  <tbody>\n",
       "    <tr>\n",
       "      <th>0</th>\n",
       "      <td>12000000</td>\n",
       "      <td>terraced</td>\n",
       "      <td>4.0</td>\n",
       "      <td>4.0</td>\n",
       "      <td>5.0</td>\n",
       "      <td>NaN</td>\n",
       "    </tr>\n",
       "    <tr>\n",
       "      <th>3</th>\n",
       "      <td>12000000</td>\n",
       "      <td>semi-detached</td>\n",
       "      <td>4.0</td>\n",
       "      <td>4.0</td>\n",
       "      <td>5.0</td>\n",
       "      <td>NaN</td>\n",
       "    </tr>\n",
       "    <tr>\n",
       "      <th>4</th>\n",
       "      <td>12000000</td>\n",
       "      <td>terraced</td>\n",
       "      <td>4.0</td>\n",
       "      <td>4.0</td>\n",
       "      <td>5.0</td>\n",
       "      <td>2.0</td>\n",
       "    </tr>\n",
       "    <tr>\n",
       "      <th>5</th>\n",
       "      <td>10000000</td>\n",
       "      <td>apartment</td>\n",
       "      <td>4.0</td>\n",
       "      <td>4.0</td>\n",
       "      <td>5.0</td>\n",
       "      <td>4.0</td>\n",
       "    </tr>\n",
       "    <tr>\n",
       "      <th>6</th>\n",
       "      <td>10000000</td>\n",
       "      <td>terraced</td>\n",
       "      <td>4.0</td>\n",
       "      <td>4.0</td>\n",
       "      <td>5.0</td>\n",
       "      <td>3.0</td>\n",
       "    </tr>\n",
       "    <tr>\n",
       "      <th>...</th>\n",
       "      <td>...</td>\n",
       "      <td>...</td>\n",
       "      <td>...</td>\n",
       "      <td>...</td>\n",
       "      <td>...</td>\n",
       "      <td>...</td>\n",
       "    </tr>\n",
       "    <tr>\n",
       "      <th>9973</th>\n",
       "      <td>11000000</td>\n",
       "      <td>terraced</td>\n",
       "      <td>4.0</td>\n",
       "      <td>4.0</td>\n",
       "      <td>5.0</td>\n",
       "      <td>2.0</td>\n",
       "    </tr>\n",
       "    <tr>\n",
       "      <th>9975</th>\n",
       "      <td>6000000</td>\n",
       "      <td>terraced</td>\n",
       "      <td>3.0</td>\n",
       "      <td>3.0</td>\n",
       "      <td>4.0</td>\n",
       "      <td>3.0</td>\n",
       "    </tr>\n",
       "    <tr>\n",
       "      <th>9976</th>\n",
       "      <td>12000000</td>\n",
       "      <td>terraced</td>\n",
       "      <td>4.0</td>\n",
       "      <td>4.0</td>\n",
       "      <td>5.0</td>\n",
       "      <td>NaN</td>\n",
       "    </tr>\n",
       "    <tr>\n",
       "      <th>9978</th>\n",
       "      <td>6000000</td>\n",
       "      <td>terraced</td>\n",
       "      <td>3.0</td>\n",
       "      <td>3.0</td>\n",
       "      <td>4.0</td>\n",
       "      <td>3.0</td>\n",
       "    </tr>\n",
       "    <tr>\n",
       "      <th>9979</th>\n",
       "      <td>15000000</td>\n",
       "      <td>detached</td>\n",
       "      <td>4.0</td>\n",
       "      <td>4.0</td>\n",
       "      <td>5.0</td>\n",
       "      <td>6.0</td>\n",
       "    </tr>\n",
       "  </tbody>\n",
       "</table>\n",
       "<p>7984 rows × 6 columns</p>\n",
       "</div>"
      ],
      "text/plain": [
       "         Price      HouseType  Bedrooms  Bathrooms  Toilets  Parking Spaces\n",
       "0     12000000       terraced       4.0        4.0      5.0             NaN\n",
       "3     12000000  semi-detached       4.0        4.0      5.0             NaN\n",
       "4     12000000       terraced       4.0        4.0      5.0             2.0\n",
       "5     10000000      apartment       4.0        4.0      5.0             4.0\n",
       "6     10000000       terraced       4.0        4.0      5.0             3.0\n",
       "...        ...            ...       ...        ...      ...             ...\n",
       "9973  11000000       terraced       4.0        4.0      5.0             2.0\n",
       "9975   6000000       terraced       3.0        3.0      4.0             3.0\n",
       "9976  12000000       terraced       4.0        4.0      5.0             NaN\n",
       "9978   6000000       terraced       3.0        3.0      4.0             3.0\n",
       "9979  15000000       detached       4.0        4.0      5.0             6.0\n",
       "\n",
       "[7984 rows x 6 columns]"
      ]
     },
     "execution_count": 53,
     "metadata": {},
     "output_type": "execute_result"
    }
   ],
   "source": [
    "data_cleaned"
   ]
  },
  {
   "cell_type": "code",
   "execution_count": 54,
   "id": "8ef8886e",
   "metadata": {},
   "outputs": [],
   "source": [
    "percent_nan = percentage_missing(data_cleaned)"
   ]
  },
  {
   "cell_type": "code",
   "execution_count": 55,
   "id": "7ad91c6f",
   "metadata": {},
   "outputs": [
    {
     "data": {
      "text/plain": [
       "Parking Spaces    31.25\n",
       "dtype: float64"
      ]
     },
     "execution_count": 55,
     "metadata": {},
     "output_type": "execute_result"
    }
   ],
   "source": [
    "percent_nan"
   ]
  },
  {
   "cell_type": "code",
   "execution_count": 56,
   "id": "8b3e4a7d",
   "metadata": {},
   "outputs": [
    {
     "data": {
      "text/html": [
       "<div>\n",
       "<style scoped>\n",
       "    .dataframe tbody tr th:only-of-type {\n",
       "        vertical-align: middle;\n",
       "    }\n",
       "\n",
       "    .dataframe tbody tr th {\n",
       "        vertical-align: top;\n",
       "    }\n",
       "\n",
       "    .dataframe thead th {\n",
       "        text-align: right;\n",
       "    }\n",
       "</style>\n",
       "<table border=\"1\" class=\"dataframe\">\n",
       "  <thead>\n",
       "    <tr style=\"text-align: right;\">\n",
       "      <th></th>\n",
       "      <th>Price</th>\n",
       "      <th>HouseType</th>\n",
       "      <th>Bedrooms</th>\n",
       "      <th>Bathrooms</th>\n",
       "      <th>Toilets</th>\n",
       "      <th>Parking Spaces</th>\n",
       "    </tr>\n",
       "  </thead>\n",
       "  <tbody>\n",
       "    <tr>\n",
       "      <th>0</th>\n",
       "      <td>12000000</td>\n",
       "      <td>terraced</td>\n",
       "      <td>4.0</td>\n",
       "      <td>4.0</td>\n",
       "      <td>5.0</td>\n",
       "      <td>NaN</td>\n",
       "    </tr>\n",
       "    <tr>\n",
       "      <th>3</th>\n",
       "      <td>12000000</td>\n",
       "      <td>semi-detached</td>\n",
       "      <td>4.0</td>\n",
       "      <td>4.0</td>\n",
       "      <td>5.0</td>\n",
       "      <td>NaN</td>\n",
       "    </tr>\n",
       "    <tr>\n",
       "      <th>7</th>\n",
       "      <td>12000000</td>\n",
       "      <td>terraced</td>\n",
       "      <td>4.0</td>\n",
       "      <td>4.0</td>\n",
       "      <td>5.0</td>\n",
       "      <td>NaN</td>\n",
       "    </tr>\n",
       "    <tr>\n",
       "      <th>10</th>\n",
       "      <td>11000000</td>\n",
       "      <td>terraced</td>\n",
       "      <td>4.0</td>\n",
       "      <td>4.0</td>\n",
       "      <td>5.0</td>\n",
       "      <td>NaN</td>\n",
       "    </tr>\n",
       "    <tr>\n",
       "      <th>16</th>\n",
       "      <td>12000000</td>\n",
       "      <td>terraced</td>\n",
       "      <td>4.0</td>\n",
       "      <td>4.0</td>\n",
       "      <td>5.0</td>\n",
       "      <td>NaN</td>\n",
       "    </tr>\n",
       "    <tr>\n",
       "      <th>...</th>\n",
       "      <td>...</td>\n",
       "      <td>...</td>\n",
       "      <td>...</td>\n",
       "      <td>...</td>\n",
       "      <td>...</td>\n",
       "      <td>...</td>\n",
       "    </tr>\n",
       "    <tr>\n",
       "      <th>9960</th>\n",
       "      <td>12000000</td>\n",
       "      <td>terraced</td>\n",
       "      <td>4.0</td>\n",
       "      <td>4.0</td>\n",
       "      <td>5.0</td>\n",
       "      <td>NaN</td>\n",
       "    </tr>\n",
       "    <tr>\n",
       "      <th>9963</th>\n",
       "      <td>12000000</td>\n",
       "      <td>semi-detached</td>\n",
       "      <td>4.0</td>\n",
       "      <td>4.0</td>\n",
       "      <td>5.0</td>\n",
       "      <td>NaN</td>\n",
       "    </tr>\n",
       "    <tr>\n",
       "      <th>9967</th>\n",
       "      <td>12000000</td>\n",
       "      <td>terraced</td>\n",
       "      <td>4.0</td>\n",
       "      <td>4.0</td>\n",
       "      <td>5.0</td>\n",
       "      <td>NaN</td>\n",
       "    </tr>\n",
       "    <tr>\n",
       "      <th>9970</th>\n",
       "      <td>11000000</td>\n",
       "      <td>terraced</td>\n",
       "      <td>4.0</td>\n",
       "      <td>4.0</td>\n",
       "      <td>5.0</td>\n",
       "      <td>NaN</td>\n",
       "    </tr>\n",
       "    <tr>\n",
       "      <th>9976</th>\n",
       "      <td>12000000</td>\n",
       "      <td>terraced</td>\n",
       "      <td>4.0</td>\n",
       "      <td>4.0</td>\n",
       "      <td>5.0</td>\n",
       "      <td>NaN</td>\n",
       "    </tr>\n",
       "  </tbody>\n",
       "</table>\n",
       "<p>2495 rows × 6 columns</p>\n",
       "</div>"
      ],
      "text/plain": [
       "         Price      HouseType  Bedrooms  Bathrooms  Toilets  Parking Spaces\n",
       "0     12000000       terraced       4.0        4.0      5.0             NaN\n",
       "3     12000000  semi-detached       4.0        4.0      5.0             NaN\n",
       "7     12000000       terraced       4.0        4.0      5.0             NaN\n",
       "10    11000000       terraced       4.0        4.0      5.0             NaN\n",
       "16    12000000       terraced       4.0        4.0      5.0             NaN\n",
       "...        ...            ...       ...        ...      ...             ...\n",
       "9960  12000000       terraced       4.0        4.0      5.0             NaN\n",
       "9963  12000000  semi-detached       4.0        4.0      5.0             NaN\n",
       "9967  12000000       terraced       4.0        4.0      5.0             NaN\n",
       "9970  11000000       terraced       4.0        4.0      5.0             NaN\n",
       "9976  12000000       terraced       4.0        4.0      5.0             NaN\n",
       "\n",
       "[2495 rows x 6 columns]"
      ]
     },
     "execution_count": 56,
     "metadata": {},
     "output_type": "execute_result"
    }
   ],
   "source": [
    "parking_nan = data_cleaned[data_cleaned['Parking Spaces'].isna()]\n",
    "parking_nan"
   ]
  },
  {
   "cell_type": "markdown",
   "id": "52ad7ca6",
   "metadata": {},
   "source": [
    "#####  This is different, parking space column has the missing nan and dropna would lead to loss of data. i need to fillna "
   ]
  },
  {
   "cell_type": "code",
   "execution_count": 57,
   "id": "dfae0a0e",
   "metadata": {},
   "outputs": [],
   "source": [
    "colss = ['Bedrooms','Bathrooms','Toilets','Parking Spaces']"
   ]
  },
  {
   "cell_type": "code",
   "execution_count": 58,
   "id": "7b49ad72",
   "metadata": {},
   "outputs": [
    {
     "data": {
      "text/html": [
       "<div>\n",
       "<style scoped>\n",
       "    .dataframe tbody tr th:only-of-type {\n",
       "        vertical-align: middle;\n",
       "    }\n",
       "\n",
       "    .dataframe tbody tr th {\n",
       "        vertical-align: top;\n",
       "    }\n",
       "\n",
       "    .dataframe thead th {\n",
       "        text-align: right;\n",
       "    }\n",
       "</style>\n",
       "<table border=\"1\" class=\"dataframe\">\n",
       "  <thead>\n",
       "    <tr style=\"text-align: right;\">\n",
       "      <th></th>\n",
       "      <th>Bedrooms</th>\n",
       "      <th>Bathrooms</th>\n",
       "      <th>Toilets</th>\n",
       "      <th>Parking Spaces</th>\n",
       "    </tr>\n",
       "  </thead>\n",
       "  <tbody>\n",
       "    <tr>\n",
       "      <th>Bedrooms</th>\n",
       "      <td>1.000000</td>\n",
       "      <td>1.000000</td>\n",
       "      <td>0.924733</td>\n",
       "      <td>0.196818</td>\n",
       "    </tr>\n",
       "    <tr>\n",
       "      <th>Bathrooms</th>\n",
       "      <td>1.000000</td>\n",
       "      <td>1.000000</td>\n",
       "      <td>0.924733</td>\n",
       "      <td>0.196818</td>\n",
       "    </tr>\n",
       "    <tr>\n",
       "      <th>Toilets</th>\n",
       "      <td>0.924733</td>\n",
       "      <td>0.924733</td>\n",
       "      <td>1.000000</td>\n",
       "      <td>0.196818</td>\n",
       "    </tr>\n",
       "    <tr>\n",
       "      <th>Parking Spaces</th>\n",
       "      <td>0.196818</td>\n",
       "      <td>0.196818</td>\n",
       "      <td>0.196818</td>\n",
       "      <td>1.000000</td>\n",
       "    </tr>\n",
       "  </tbody>\n",
       "</table>\n",
       "</div>"
      ],
      "text/plain": [
       "                Bedrooms  Bathrooms   Toilets  Parking Spaces\n",
       "Bedrooms        1.000000   1.000000  0.924733        0.196818\n",
       "Bathrooms       1.000000   1.000000  0.924733        0.196818\n",
       "Toilets         0.924733   0.924733  1.000000        0.196818\n",
       "Parking Spaces  0.196818   0.196818  0.196818        1.000000"
      ]
     },
     "execution_count": 58,
     "metadata": {},
     "output_type": "execute_result"
    }
   ],
   "source": [
    "corr  = data[colss].corr()\n",
    "corr"
   ]
  },
  {
   "cell_type": "markdown",
   "id": "f3e68bf2",
   "metadata": {},
   "source": [
    "#### filling the nan with the mean of the most highly correlated feature to parking space. from the correlation matrix,  any feature is is not so highly correlated to parking space "
   ]
  },
  {
   "cell_type": "code",
   "execution_count": 59,
   "id": "a3c11601",
   "metadata": {
    "scrolled": true
   },
   "outputs": [
    {
     "data": {
      "text/plain": [
       "Bedrooms\n",
       "3.0    2.75\n",
       "4.0    3.50\n",
       "5.0    3.00\n",
       "Name: Parking Spaces, dtype: float64"
      ]
     },
     "execution_count": 59,
     "metadata": {},
     "output_type": "execute_result"
    }
   ],
   "source": [
    "data_cleaned.groupby('Bedrooms')['Parking Spaces'].mean()"
   ]
  },
  {
   "cell_type": "code",
   "execution_count": 60,
   "id": "f8c28b56",
   "metadata": {},
   "outputs": [],
   "source": [
    "data_cleaned['Parking Spaces'] = data_cleaned.groupby('Bedrooms')['Parking Spaces'].transform(lambda value: value.fillna(value.mean()))"
   ]
  },
  {
   "cell_type": "code",
   "execution_count": 61,
   "id": "1b81f1ef",
   "metadata": {},
   "outputs": [
    {
     "data": {
      "text/html": [
       "<div>\n",
       "<style scoped>\n",
       "    .dataframe tbody tr th:only-of-type {\n",
       "        vertical-align: middle;\n",
       "    }\n",
       "\n",
       "    .dataframe tbody tr th {\n",
       "        vertical-align: top;\n",
       "    }\n",
       "\n",
       "    .dataframe thead th {\n",
       "        text-align: right;\n",
       "    }\n",
       "</style>\n",
       "<table border=\"1\" class=\"dataframe\">\n",
       "  <thead>\n",
       "    <tr style=\"text-align: right;\">\n",
       "      <th></th>\n",
       "      <th>Price</th>\n",
       "      <th>HouseType</th>\n",
       "      <th>Bedrooms</th>\n",
       "      <th>Bathrooms</th>\n",
       "      <th>Toilets</th>\n",
       "      <th>Parking Spaces</th>\n",
       "    </tr>\n",
       "  </thead>\n",
       "  <tbody>\n",
       "    <tr>\n",
       "      <th>0</th>\n",
       "      <td>12000000</td>\n",
       "      <td>terraced</td>\n",
       "      <td>4.0</td>\n",
       "      <td>4.0</td>\n",
       "      <td>5.0</td>\n",
       "      <td>3.5</td>\n",
       "    </tr>\n",
       "    <tr>\n",
       "      <th>3</th>\n",
       "      <td>12000000</td>\n",
       "      <td>semi-detached</td>\n",
       "      <td>4.0</td>\n",
       "      <td>4.0</td>\n",
       "      <td>5.0</td>\n",
       "      <td>3.5</td>\n",
       "    </tr>\n",
       "    <tr>\n",
       "      <th>4</th>\n",
       "      <td>12000000</td>\n",
       "      <td>terraced</td>\n",
       "      <td>4.0</td>\n",
       "      <td>4.0</td>\n",
       "      <td>5.0</td>\n",
       "      <td>2.0</td>\n",
       "    </tr>\n",
       "    <tr>\n",
       "      <th>5</th>\n",
       "      <td>10000000</td>\n",
       "      <td>apartment</td>\n",
       "      <td>4.0</td>\n",
       "      <td>4.0</td>\n",
       "      <td>5.0</td>\n",
       "      <td>4.0</td>\n",
       "    </tr>\n",
       "    <tr>\n",
       "      <th>6</th>\n",
       "      <td>10000000</td>\n",
       "      <td>terraced</td>\n",
       "      <td>4.0</td>\n",
       "      <td>4.0</td>\n",
       "      <td>5.0</td>\n",
       "      <td>3.0</td>\n",
       "    </tr>\n",
       "    <tr>\n",
       "      <th>...</th>\n",
       "      <td>...</td>\n",
       "      <td>...</td>\n",
       "      <td>...</td>\n",
       "      <td>...</td>\n",
       "      <td>...</td>\n",
       "      <td>...</td>\n",
       "    </tr>\n",
       "    <tr>\n",
       "      <th>9973</th>\n",
       "      <td>11000000</td>\n",
       "      <td>terraced</td>\n",
       "      <td>4.0</td>\n",
       "      <td>4.0</td>\n",
       "      <td>5.0</td>\n",
       "      <td>2.0</td>\n",
       "    </tr>\n",
       "    <tr>\n",
       "      <th>9975</th>\n",
       "      <td>6000000</td>\n",
       "      <td>terraced</td>\n",
       "      <td>3.0</td>\n",
       "      <td>3.0</td>\n",
       "      <td>4.0</td>\n",
       "      <td>3.0</td>\n",
       "    </tr>\n",
       "    <tr>\n",
       "      <th>9976</th>\n",
       "      <td>12000000</td>\n",
       "      <td>terraced</td>\n",
       "      <td>4.0</td>\n",
       "      <td>4.0</td>\n",
       "      <td>5.0</td>\n",
       "      <td>3.5</td>\n",
       "    </tr>\n",
       "    <tr>\n",
       "      <th>9978</th>\n",
       "      <td>6000000</td>\n",
       "      <td>terraced</td>\n",
       "      <td>3.0</td>\n",
       "      <td>3.0</td>\n",
       "      <td>4.0</td>\n",
       "      <td>3.0</td>\n",
       "    </tr>\n",
       "    <tr>\n",
       "      <th>9979</th>\n",
       "      <td>15000000</td>\n",
       "      <td>detached</td>\n",
       "      <td>4.0</td>\n",
       "      <td>4.0</td>\n",
       "      <td>5.0</td>\n",
       "      <td>6.0</td>\n",
       "    </tr>\n",
       "  </tbody>\n",
       "</table>\n",
       "<p>7984 rows × 6 columns</p>\n",
       "</div>"
      ],
      "text/plain": [
       "         Price      HouseType  Bedrooms  Bathrooms  Toilets  Parking Spaces\n",
       "0     12000000       terraced       4.0        4.0      5.0             3.5\n",
       "3     12000000  semi-detached       4.0        4.0      5.0             3.5\n",
       "4     12000000       terraced       4.0        4.0      5.0             2.0\n",
       "5     10000000      apartment       4.0        4.0      5.0             4.0\n",
       "6     10000000       terraced       4.0        4.0      5.0             3.0\n",
       "...        ...            ...       ...        ...      ...             ...\n",
       "9973  11000000       terraced       4.0        4.0      5.0             2.0\n",
       "9975   6000000       terraced       3.0        3.0      4.0             3.0\n",
       "9976  12000000       terraced       4.0        4.0      5.0             3.5\n",
       "9978   6000000       terraced       3.0        3.0      4.0             3.0\n",
       "9979  15000000       detached       4.0        4.0      5.0             6.0\n",
       "\n",
       "[7984 rows x 6 columns]"
      ]
     },
     "execution_count": 61,
     "metadata": {},
     "output_type": "execute_result"
    }
   ],
   "source": [
    "data_cleaned"
   ]
  },
  {
   "cell_type": "code",
   "execution_count": 62,
   "id": "efb393fa",
   "metadata": {},
   "outputs": [
    {
     "data": {
      "text/plain": [
       "Price             0\n",
       "HouseType         0\n",
       "Bedrooms          0\n",
       "Bathrooms         0\n",
       "Toilets           0\n",
       "Parking Spaces    0\n",
       "dtype: int64"
      ]
     },
     "execution_count": 62,
     "metadata": {},
     "output_type": "execute_result"
    }
   ],
   "source": [
    "data_cleaned.isna().sum()"
   ]
  },
  {
   "cell_type": "markdown",
   "id": "d8ae01ed",
   "metadata": {},
   "source": [
    "###### NAN  HAS BEEN SUCCESSFULLY CLEANED"
   ]
  },
  {
   "cell_type": "code",
   "execution_count": 63,
   "id": "b71d53e3",
   "metadata": {},
   "outputs": [],
   "source": [
    "data_preprocessed = data_cleaned.copy()"
   ]
  },
  {
   "cell_type": "code",
   "execution_count": 64,
   "id": "b4dfcac3",
   "metadata": {},
   "outputs": [
    {
     "data": {
      "text/html": [
       "<div>\n",
       "<style scoped>\n",
       "    .dataframe tbody tr th:only-of-type {\n",
       "        vertical-align: middle;\n",
       "    }\n",
       "\n",
       "    .dataframe tbody tr th {\n",
       "        vertical-align: top;\n",
       "    }\n",
       "\n",
       "    .dataframe thead th {\n",
       "        text-align: right;\n",
       "    }\n",
       "</style>\n",
       "<table border=\"1\" class=\"dataframe\">\n",
       "  <thead>\n",
       "    <tr style=\"text-align: right;\">\n",
       "      <th></th>\n",
       "      <th>Price</th>\n",
       "      <th>HouseType</th>\n",
       "      <th>Bedrooms</th>\n",
       "      <th>Bathrooms</th>\n",
       "      <th>Toilets</th>\n",
       "      <th>Parking Spaces</th>\n",
       "    </tr>\n",
       "  </thead>\n",
       "  <tbody>\n",
       "    <tr>\n",
       "      <th>0</th>\n",
       "      <td>12000000</td>\n",
       "      <td>terraced</td>\n",
       "      <td>4.0</td>\n",
       "      <td>4.0</td>\n",
       "      <td>5.0</td>\n",
       "      <td>3.5</td>\n",
       "    </tr>\n",
       "    <tr>\n",
       "      <th>3</th>\n",
       "      <td>12000000</td>\n",
       "      <td>semi-detached</td>\n",
       "      <td>4.0</td>\n",
       "      <td>4.0</td>\n",
       "      <td>5.0</td>\n",
       "      <td>3.5</td>\n",
       "    </tr>\n",
       "    <tr>\n",
       "      <th>4</th>\n",
       "      <td>12000000</td>\n",
       "      <td>terraced</td>\n",
       "      <td>4.0</td>\n",
       "      <td>4.0</td>\n",
       "      <td>5.0</td>\n",
       "      <td>2.0</td>\n",
       "    </tr>\n",
       "    <tr>\n",
       "      <th>5</th>\n",
       "      <td>10000000</td>\n",
       "      <td>apartment</td>\n",
       "      <td>4.0</td>\n",
       "      <td>4.0</td>\n",
       "      <td>5.0</td>\n",
       "      <td>4.0</td>\n",
       "    </tr>\n",
       "    <tr>\n",
       "      <th>6</th>\n",
       "      <td>10000000</td>\n",
       "      <td>terraced</td>\n",
       "      <td>4.0</td>\n",
       "      <td>4.0</td>\n",
       "      <td>5.0</td>\n",
       "      <td>3.0</td>\n",
       "    </tr>\n",
       "    <tr>\n",
       "      <th>...</th>\n",
       "      <td>...</td>\n",
       "      <td>...</td>\n",
       "      <td>...</td>\n",
       "      <td>...</td>\n",
       "      <td>...</td>\n",
       "      <td>...</td>\n",
       "    </tr>\n",
       "    <tr>\n",
       "      <th>9973</th>\n",
       "      <td>11000000</td>\n",
       "      <td>terraced</td>\n",
       "      <td>4.0</td>\n",
       "      <td>4.0</td>\n",
       "      <td>5.0</td>\n",
       "      <td>2.0</td>\n",
       "    </tr>\n",
       "    <tr>\n",
       "      <th>9975</th>\n",
       "      <td>6000000</td>\n",
       "      <td>terraced</td>\n",
       "      <td>3.0</td>\n",
       "      <td>3.0</td>\n",
       "      <td>4.0</td>\n",
       "      <td>3.0</td>\n",
       "    </tr>\n",
       "    <tr>\n",
       "      <th>9976</th>\n",
       "      <td>12000000</td>\n",
       "      <td>terraced</td>\n",
       "      <td>4.0</td>\n",
       "      <td>4.0</td>\n",
       "      <td>5.0</td>\n",
       "      <td>3.5</td>\n",
       "    </tr>\n",
       "    <tr>\n",
       "      <th>9978</th>\n",
       "      <td>6000000</td>\n",
       "      <td>terraced</td>\n",
       "      <td>3.0</td>\n",
       "      <td>3.0</td>\n",
       "      <td>4.0</td>\n",
       "      <td>3.0</td>\n",
       "    </tr>\n",
       "    <tr>\n",
       "      <th>9979</th>\n",
       "      <td>15000000</td>\n",
       "      <td>detached</td>\n",
       "      <td>4.0</td>\n",
       "      <td>4.0</td>\n",
       "      <td>5.0</td>\n",
       "      <td>6.0</td>\n",
       "    </tr>\n",
       "  </tbody>\n",
       "</table>\n",
       "<p>7984 rows × 6 columns</p>\n",
       "</div>"
      ],
      "text/plain": [
       "         Price      HouseType  Bedrooms  Bathrooms  Toilets  Parking Spaces\n",
       "0     12000000       terraced       4.0        4.0      5.0             3.5\n",
       "3     12000000  semi-detached       4.0        4.0      5.0             3.5\n",
       "4     12000000       terraced       4.0        4.0      5.0             2.0\n",
       "5     10000000      apartment       4.0        4.0      5.0             4.0\n",
       "6     10000000       terraced       4.0        4.0      5.0             3.0\n",
       "...        ...            ...       ...        ...      ...             ...\n",
       "9973  11000000       terraced       4.0        4.0      5.0             2.0\n",
       "9975   6000000       terraced       3.0        3.0      4.0             3.0\n",
       "9976  12000000       terraced       4.0        4.0      5.0             3.5\n",
       "9978   6000000       terraced       3.0        3.0      4.0             3.0\n",
       "9979  15000000       detached       4.0        4.0      5.0             6.0\n",
       "\n",
       "[7984 rows x 6 columns]"
      ]
     },
     "execution_count": 64,
     "metadata": {},
     "output_type": "execute_result"
    }
   ],
   "source": [
    "data_preprocessed"
   ]
  },
  {
   "cell_type": "code",
   "execution_count": 65,
   "id": "0310770b",
   "metadata": {},
   "outputs": [],
   "source": [
    "X = data_preprocessed.drop(['Price'], axis = 1)\n",
    "y = data_preprocessed['Price']"
   ]
  },
  {
   "cell_type": "markdown",
   "id": "0b9e3328",
   "metadata": {},
   "source": [
    "### train-test-split, reset index, feature scale on x_train, x_test to avoid overfitting"
   ]
  },
  {
   "cell_type": "code",
   "execution_count": 66,
   "id": "a2358503",
   "metadata": {},
   "outputs": [],
   "source": [
    "from sklearn.model_selection import train_test_split"
   ]
  },
  {
   "cell_type": "code",
   "execution_count": 67,
   "id": "a21dd7a2",
   "metadata": {},
   "outputs": [],
   "source": [
    "X_train, X_test, y_train, y_test = train_test_split(X, y, test_size=0.20, random_state=42)"
   ]
  },
  {
   "cell_type": "markdown",
   "id": "f54139bb",
   "metadata": {},
   "source": [
    "## One hot encoding on categorical features"
   ]
  },
  {
   "cell_type": "code",
   "execution_count": 68,
   "id": "af8aacf3",
   "metadata": {},
   "outputs": [],
   "source": [
    "X_train_dummies = pd.get_dummies(X_train,dtype = int, drop_first = True)\n",
    "X_test_dummies =  pd.get_dummies(X_test,dtype = int, drop_first = True)"
   ]
  },
  {
   "cell_type": "code",
   "execution_count": 69,
   "id": "98894ffd",
   "metadata": {},
   "outputs": [
    {
     "data": {
      "text/html": [
       "<div>\n",
       "<style scoped>\n",
       "    .dataframe tbody tr th:only-of-type {\n",
       "        vertical-align: middle;\n",
       "    }\n",
       "\n",
       "    .dataframe tbody tr th {\n",
       "        vertical-align: top;\n",
       "    }\n",
       "\n",
       "    .dataframe thead th {\n",
       "        text-align: right;\n",
       "    }\n",
       "</style>\n",
       "<table border=\"1\" class=\"dataframe\">\n",
       "  <thead>\n",
       "    <tr style=\"text-align: right;\">\n",
       "      <th></th>\n",
       "      <th>Bedrooms</th>\n",
       "      <th>Bathrooms</th>\n",
       "      <th>Toilets</th>\n",
       "      <th>Parking Spaces</th>\n",
       "      <th>HouseType_detached</th>\n",
       "      <th>HouseType_semi-detached</th>\n",
       "      <th>HouseType_terraced</th>\n",
       "    </tr>\n",
       "  </thead>\n",
       "  <tbody>\n",
       "    <tr>\n",
       "      <th>6267</th>\n",
       "      <td>4.0</td>\n",
       "      <td>4.0</td>\n",
       "      <td>5.0</td>\n",
       "      <td>3.5</td>\n",
       "      <td>0</td>\n",
       "      <td>0</td>\n",
       "      <td>1</td>\n",
       "    </tr>\n",
       "    <tr>\n",
       "      <th>1319</th>\n",
       "      <td>4.0</td>\n",
       "      <td>4.0</td>\n",
       "      <td>5.0</td>\n",
       "      <td>6.0</td>\n",
       "      <td>1</td>\n",
       "      <td>0</td>\n",
       "      <td>0</td>\n",
       "    </tr>\n",
       "    <tr>\n",
       "      <th>5015</th>\n",
       "      <td>3.0</td>\n",
       "      <td>3.0</td>\n",
       "      <td>4.0</td>\n",
       "      <td>3.0</td>\n",
       "      <td>0</td>\n",
       "      <td>0</td>\n",
       "      <td>1</td>\n",
       "    </tr>\n",
       "    <tr>\n",
       "      <th>2165</th>\n",
       "      <td>4.0</td>\n",
       "      <td>4.0</td>\n",
       "      <td>5.0</td>\n",
       "      <td>4.0</td>\n",
       "      <td>0</td>\n",
       "      <td>0</td>\n",
       "      <td>0</td>\n",
       "    </tr>\n",
       "    <tr>\n",
       "      <th>7685</th>\n",
       "      <td>4.0</td>\n",
       "      <td>4.0</td>\n",
       "      <td>5.0</td>\n",
       "      <td>4.0</td>\n",
       "      <td>0</td>\n",
       "      <td>0</td>\n",
       "      <td>0</td>\n",
       "    </tr>\n",
       "    <tr>\n",
       "      <th>...</th>\n",
       "      <td>...</td>\n",
       "      <td>...</td>\n",
       "      <td>...</td>\n",
       "      <td>...</td>\n",
       "      <td>...</td>\n",
       "      <td>...</td>\n",
       "      <td>...</td>\n",
       "    </tr>\n",
       "    <tr>\n",
       "      <th>9932</th>\n",
       "      <td>4.0</td>\n",
       "      <td>4.0</td>\n",
       "      <td>5.0</td>\n",
       "      <td>4.0</td>\n",
       "      <td>0</td>\n",
       "      <td>0</td>\n",
       "      <td>0</td>\n",
       "    </tr>\n",
       "    <tr>\n",
       "      <th>2910</th>\n",
       "      <td>4.0</td>\n",
       "      <td>4.0</td>\n",
       "      <td>5.0</td>\n",
       "      <td>3.5</td>\n",
       "      <td>0</td>\n",
       "      <td>0</td>\n",
       "      <td>1</td>\n",
       "    </tr>\n",
       "    <tr>\n",
       "      <th>1972</th>\n",
       "      <td>4.0</td>\n",
       "      <td>4.0</td>\n",
       "      <td>5.0</td>\n",
       "      <td>4.0</td>\n",
       "      <td>0</td>\n",
       "      <td>0</td>\n",
       "      <td>0</td>\n",
       "    </tr>\n",
       "    <tr>\n",
       "      <th>6916</th>\n",
       "      <td>4.0</td>\n",
       "      <td>4.0</td>\n",
       "      <td>5.0</td>\n",
       "      <td>3.5</td>\n",
       "      <td>0</td>\n",
       "      <td>0</td>\n",
       "      <td>1</td>\n",
       "    </tr>\n",
       "    <tr>\n",
       "      <th>5604</th>\n",
       "      <td>4.0</td>\n",
       "      <td>4.0</td>\n",
       "      <td>5.0</td>\n",
       "      <td>2.0</td>\n",
       "      <td>0</td>\n",
       "      <td>0</td>\n",
       "      <td>1</td>\n",
       "    </tr>\n",
       "  </tbody>\n",
       "</table>\n",
       "<p>1597 rows × 7 columns</p>\n",
       "</div>"
      ],
      "text/plain": [
       "      Bedrooms  Bathrooms  Toilets  Parking Spaces  HouseType_detached  \\\n",
       "6267       4.0        4.0      5.0             3.5                   0   \n",
       "1319       4.0        4.0      5.0             6.0                   1   \n",
       "5015       3.0        3.0      4.0             3.0                   0   \n",
       "2165       4.0        4.0      5.0             4.0                   0   \n",
       "7685       4.0        4.0      5.0             4.0                   0   \n",
       "...        ...        ...      ...             ...                 ...   \n",
       "9932       4.0        4.0      5.0             4.0                   0   \n",
       "2910       4.0        4.0      5.0             3.5                   0   \n",
       "1972       4.0        4.0      5.0             4.0                   0   \n",
       "6916       4.0        4.0      5.0             3.5                   0   \n",
       "5604       4.0        4.0      5.0             2.0                   0   \n",
       "\n",
       "      HouseType_semi-detached  HouseType_terraced  \n",
       "6267                        0                   1  \n",
       "1319                        0                   0  \n",
       "5015                        0                   1  \n",
       "2165                        0                   0  \n",
       "7685                        0                   0  \n",
       "...                       ...                 ...  \n",
       "9932                        0                   0  \n",
       "2910                        0                   1  \n",
       "1972                        0                   0  \n",
       "6916                        0                   1  \n",
       "5604                        0                   1  \n",
       "\n",
       "[1597 rows x 7 columns]"
      ]
     },
     "execution_count": 69,
     "metadata": {},
     "output_type": "execute_result"
    }
   ],
   "source": [
    "X_test_dummies"
   ]
  },
  {
   "cell_type": "code",
   "execution_count": 70,
   "id": "65344374",
   "metadata": {},
   "outputs": [],
   "source": [
    "from sklearn.preprocessing import MinMaxScaler"
   ]
  },
  {
   "cell_type": "code",
   "execution_count": 71,
   "id": "cdeb8047",
   "metadata": {},
   "outputs": [],
   "source": [
    "scaler = MinMaxScaler()"
   ]
  },
  {
   "cell_type": "code",
   "execution_count": 72,
   "id": "cfe92a98",
   "metadata": {},
   "outputs": [
    {
     "data": {
      "text/html": [
       "<style>#sk-container-id-1 {color: black;background-color: white;}#sk-container-id-1 pre{padding: 0;}#sk-container-id-1 div.sk-toggleable {background-color: white;}#sk-container-id-1 label.sk-toggleable__label {cursor: pointer;display: block;width: 100%;margin-bottom: 0;padding: 0.3em;box-sizing: border-box;text-align: center;}#sk-container-id-1 label.sk-toggleable__label-arrow:before {content: \"▸\";float: left;margin-right: 0.25em;color: #696969;}#sk-container-id-1 label.sk-toggleable__label-arrow:hover:before {color: black;}#sk-container-id-1 div.sk-estimator:hover label.sk-toggleable__label-arrow:before {color: black;}#sk-container-id-1 div.sk-toggleable__content {max-height: 0;max-width: 0;overflow: hidden;text-align: left;background-color: #f0f8ff;}#sk-container-id-1 div.sk-toggleable__content pre {margin: 0.2em;color: black;border-radius: 0.25em;background-color: #f0f8ff;}#sk-container-id-1 input.sk-toggleable__control:checked~div.sk-toggleable__content {max-height: 200px;max-width: 100%;overflow: auto;}#sk-container-id-1 input.sk-toggleable__control:checked~label.sk-toggleable__label-arrow:before {content: \"▾\";}#sk-container-id-1 div.sk-estimator input.sk-toggleable__control:checked~label.sk-toggleable__label {background-color: #d4ebff;}#sk-container-id-1 div.sk-label input.sk-toggleable__control:checked~label.sk-toggleable__label {background-color: #d4ebff;}#sk-container-id-1 input.sk-hidden--visually {border: 0;clip: rect(1px 1px 1px 1px);clip: rect(1px, 1px, 1px, 1px);height: 1px;margin: -1px;overflow: hidden;padding: 0;position: absolute;width: 1px;}#sk-container-id-1 div.sk-estimator {font-family: monospace;background-color: #f0f8ff;border: 1px dotted black;border-radius: 0.25em;box-sizing: border-box;margin-bottom: 0.5em;}#sk-container-id-1 div.sk-estimator:hover {background-color: #d4ebff;}#sk-container-id-1 div.sk-parallel-item::after {content: \"\";width: 100%;border-bottom: 1px solid gray;flex-grow: 1;}#sk-container-id-1 div.sk-label:hover label.sk-toggleable__label {background-color: #d4ebff;}#sk-container-id-1 div.sk-serial::before {content: \"\";position: absolute;border-left: 1px solid gray;box-sizing: border-box;top: 0;bottom: 0;left: 50%;z-index: 0;}#sk-container-id-1 div.sk-serial {display: flex;flex-direction: column;align-items: center;background-color: white;padding-right: 0.2em;padding-left: 0.2em;position: relative;}#sk-container-id-1 div.sk-item {position: relative;z-index: 1;}#sk-container-id-1 div.sk-parallel {display: flex;align-items: stretch;justify-content: center;background-color: white;position: relative;}#sk-container-id-1 div.sk-item::before, #sk-container-id-1 div.sk-parallel-item::before {content: \"\";position: absolute;border-left: 1px solid gray;box-sizing: border-box;top: 0;bottom: 0;left: 50%;z-index: -1;}#sk-container-id-1 div.sk-parallel-item {display: flex;flex-direction: column;z-index: 1;position: relative;background-color: white;}#sk-container-id-1 div.sk-parallel-item:first-child::after {align-self: flex-end;width: 50%;}#sk-container-id-1 div.sk-parallel-item:last-child::after {align-self: flex-start;width: 50%;}#sk-container-id-1 div.sk-parallel-item:only-child::after {width: 0;}#sk-container-id-1 div.sk-dashed-wrapped {border: 1px dashed gray;margin: 0 0.4em 0.5em 0.4em;box-sizing: border-box;padding-bottom: 0.4em;background-color: white;}#sk-container-id-1 div.sk-label label {font-family: monospace;font-weight: bold;display: inline-block;line-height: 1.2em;}#sk-container-id-1 div.sk-label-container {text-align: center;}#sk-container-id-1 div.sk-container {/* jupyter's `normalize.less` sets `[hidden] { display: none; }` but bootstrap.min.css set `[hidden] { display: none !important; }` so we also need the `!important` here to be able to override the default hidden behavior on the sphinx rendered scikit-learn.org. See: https://github.com/scikit-learn/scikit-learn/issues/21755 */display: inline-block !important;position: relative;}#sk-container-id-1 div.sk-text-repr-fallback {display: none;}</style><div id=\"sk-container-id-1\" class=\"sk-top-container\"><div class=\"sk-text-repr-fallback\"><pre>MinMaxScaler()</pre><b>In a Jupyter environment, please rerun this cell to show the HTML representation or trust the notebook. <br />On GitHub, the HTML representation is unable to render, please try loading this page with nbviewer.org.</b></div><div class=\"sk-container\" hidden><div class=\"sk-item\"><div class=\"sk-estimator sk-toggleable\"><input class=\"sk-toggleable__control sk-hidden--visually\" id=\"sk-estimator-id-1\" type=\"checkbox\" checked><label for=\"sk-estimator-id-1\" class=\"sk-toggleable__label sk-toggleable__label-arrow\">MinMaxScaler</label><div class=\"sk-toggleable__content\"><pre>MinMaxScaler()</pre></div></div></div></div></div>"
      ],
      "text/plain": [
       "MinMaxScaler()"
      ]
     },
     "execution_count": 72,
     "metadata": {},
     "output_type": "execute_result"
    }
   ],
   "source": [
    "scaler.fit(X_train_dummies)"
   ]
  },
  {
   "cell_type": "code",
   "execution_count": 73,
   "id": "6f4203d1",
   "metadata": {},
   "outputs": [],
   "source": [
    "x_train_scaled = scaler.transform(X_train_dummies)\n",
    "x_test_scaled = scaler.transform(X_test_dummies)"
   ]
  },
  {
   "cell_type": "markdown",
   "id": "644018ea",
   "metadata": {},
   "source": [
    "### Linear Regression"
   ]
  },
  {
   "cell_type": "code",
   "execution_count": 74,
   "id": "9830cc90",
   "metadata": {},
   "outputs": [],
   "source": [
    "from sklearn.linear_model import LinearRegression"
   ]
  },
  {
   "cell_type": "code",
   "execution_count": 75,
   "id": "7023ba32",
   "metadata": {},
   "outputs": [],
   "source": [
    "lr = LinearRegression()"
   ]
  },
  {
   "cell_type": "code",
   "execution_count": 174,
   "id": "1f3fd999",
   "metadata": {},
   "outputs": [],
   "source": [
    "linear_model = lr.fit(x_train_scaled, y_train)"
   ]
  },
  {
   "cell_type": "code",
   "execution_count": 175,
   "id": "36ae6230",
   "metadata": {},
   "outputs": [],
   "source": [
    "y_pred = linear_model.predict(x_test_scaled)"
   ]
  },
  {
   "cell_type": "code",
   "execution_count": 78,
   "id": "c2c5ee6a",
   "metadata": {},
   "outputs": [],
   "source": [
    "from sklearn.metrics import mean_absolute_error,mean_squared_error"
   ]
  },
  {
   "cell_type": "code",
   "execution_count": 158,
   "id": "fec47b98",
   "metadata": {},
   "outputs": [
    {
     "data": {
      "text/plain": [
       "941087.955926974"
      ]
     },
     "execution_count": 158,
     "metadata": {},
     "output_type": "execute_result"
    }
   ],
   "source": [
    "lr_mae = mean_absolute_error(y_test,y_pred)\n",
    "lr_mae"
   ]
  },
  {
   "cell_type": "code",
   "execution_count": 159,
   "id": "3378790a",
   "metadata": {},
   "outputs": [
    {
     "data": {
      "text/plain": [
       "1251969.1737544641"
      ]
     },
     "execution_count": 159,
     "metadata": {},
     "output_type": "execute_result"
    }
   ],
   "source": [
    "lr_rmse = np.sqrt(mean_squared_error(y_test,y_pred))\n",
    "lr_rmse"
   ]
  },
  {
   "cell_type": "code",
   "execution_count": 177,
   "id": "572f29fd",
   "metadata": {},
   "outputs": [
    {
     "data": {
      "text/plain": [
       "0.8543779921772034"
      ]
     },
     "execution_count": 177,
     "metadata": {},
     "output_type": "execute_result"
    }
   ],
   "source": [
    "# R-SQUARED\n",
    "\n",
    "linear_model.score(x_train_scaled,y_train)"
   ]
  },
  {
   "cell_type": "code",
   "execution_count": 83,
   "id": "0703c79e",
   "metadata": {},
   "outputs": [],
   "source": [
    "test_residual = y_test - y_pred"
   ]
  },
  {
   "cell_type": "code",
   "execution_count": 84,
   "id": "3069158c",
   "metadata": {},
   "outputs": [
    {
     "data": {
      "text/plain": [
       "6267    9.797633e+05\n",
       "1319   -5.185514e+03\n",
       "5015   -1.677753e+05\n",
       "2165   -3.324798e+06\n",
       "7685   -3.324798e+06\n",
       "            ...     \n",
       "9932    1.675202e+06\n",
       "2910   -2.023669e+04\n",
       "1972    1.675202e+06\n",
       "6916    9.797633e+05\n",
       "5604   -7.245240e+04\n",
       "Name: Price, Length: 1597, dtype: float64"
      ]
     },
     "execution_count": 84,
     "metadata": {},
     "output_type": "execute_result"
    }
   ],
   "source": [
    "test_residual"
   ]
  },
  {
   "cell_type": "code",
   "execution_count": 85,
   "id": "8395a00a",
   "metadata": {},
   "outputs": [
    {
     "data": {
      "text/plain": [
       "<matplotlib.lines.Line2D at 0x147f79c10>"
      ]
     },
     "execution_count": 85,
     "metadata": {},
     "output_type": "execute_result"
    },
    {
     "data": {
      "image/png": "[encoded data removed]",
      "text/plain": [
       "<Figure size 640x480 with 1 Axes>"
      ]
     },
     "metadata": {},
     "output_type": "display_data"
    }
   ],
   "source": [
    "sns.scatterplot(x= y_test, y = test_residual)\n",
    "plt.axhline(y = 0,color = 'r',ls = '--')"
   ]
  },
  {
   "cell_type": "code",
   "execution_count": null,
   "id": "985e6bc7",
   "metadata": {},
   "outputs": [],
   "source": []
  },
  {
   "cell_type": "markdown",
   "id": "fe113ebe",
   "metadata": {},
   "source": [
    "## POLYNOMIAL REGRESSION"
   ]
  },
  {
   "cell_type": "code",
   "execution_count": 86,
   "id": "5c0cc013",
   "metadata": {},
   "outputs": [],
   "source": [
    "features = data_preprocessed.drop(['Price'], axis = 1)\n",
    "target= data_preprocessed['Price']"
   ]
  },
  {
   "cell_type": "code",
   "execution_count": 87,
   "id": "adf33139",
   "metadata": {},
   "outputs": [],
   "source": [
    "from sklearn.preprocessing import PolynomialFeatures"
   ]
  },
  {
   "cell_type": "code",
   "execution_count": 88,
   "id": "502077ad",
   "metadata": {},
   "outputs": [],
   "source": [
    "polynomial_converter = PolynomialFeatures(degree = 2,include_bias = False )"
   ]
  },
  {
   "cell_type": "code",
   "execution_count": 137,
   "id": "00691927",
   "metadata": {},
   "outputs": [
    {
     "data": {
      "text/html": [
       "<style>#sk-container-id-7 {color: black;background-color: white;}#sk-container-id-7 pre{padding: 0;}#sk-container-id-7 div.sk-toggleable {background-color: white;}#sk-container-id-7 label.sk-toggleable__label {cursor: pointer;display: block;width: 100%;margin-bottom: 0;padding: 0.3em;box-sizing: border-box;text-align: center;}#sk-container-id-7 label.sk-toggleable__label-arrow:before {content: \"▸\";float: left;margin-right: 0.25em;color: #696969;}#sk-container-id-7 label.sk-toggleable__label-arrow:hover:before {color: black;}#sk-container-id-7 div.sk-estimator:hover label.sk-toggleable__label-arrow:before {color: black;}#sk-container-id-7 div.sk-toggleable__content {max-height: 0;max-width: 0;overflow: hidden;text-align: left;background-color: #f0f8ff;}#sk-container-id-7 div.sk-toggleable__content pre {margin: 0.2em;color: black;border-radius: 0.25em;background-color: #f0f8ff;}#sk-container-id-7 input.sk-toggleable__control:checked~div.sk-toggleable__content {max-height: 200px;max-width: 100%;overflow: auto;}#sk-container-id-7 input.sk-toggleable__control:checked~label.sk-toggleable__label-arrow:before {content: \"▾\";}#sk-container-id-7 div.sk-estimator input.sk-toggleable__control:checked~label.sk-toggleable__label {background-color: #d4ebff;}#sk-container-id-7 div.sk-label input.sk-toggleable__control:checked~label.sk-toggleable__label {background-color: #d4ebff;}#sk-container-id-7 input.sk-hidden--visually {border: 0;clip: rect(1px 1px 1px 1px);clip: rect(1px, 1px, 1px, 1px);height: 1px;margin: -1px;overflow: hidden;padding: 0;position: absolute;width: 1px;}#sk-container-id-7 div.sk-estimator {font-family: monospace;background-color: #f0f8ff;border: 1px dotted black;border-radius: 0.25em;box-sizing: border-box;margin-bottom: 0.5em;}#sk-container-id-7 div.sk-estimator:hover {background-color: #d4ebff;}#sk-container-id-7 div.sk-parallel-item::after {content: \"\";width: 100%;border-bottom: 1px solid gray;flex-grow: 1;}#sk-container-id-7 div.sk-label:hover label.sk-toggleable__label {background-color: #d4ebff;}#sk-container-id-7 div.sk-serial::before {content: \"\";position: absolute;border-left: 1px solid gray;box-sizing: border-box;top: 0;bottom: 0;left: 50%;z-index: 0;}#sk-container-id-7 div.sk-serial {display: flex;flex-direction: column;align-items: center;background-color: white;padding-right: 0.2em;padding-left: 0.2em;position: relative;}#sk-container-id-7 div.sk-item {position: relative;z-index: 1;}#sk-container-id-7 div.sk-parallel {display: flex;align-items: stretch;justify-content: center;background-color: white;position: relative;}#sk-container-id-7 div.sk-item::before, #sk-container-id-7 div.sk-parallel-item::before {content: \"\";position: absolute;border-left: 1px solid gray;box-sizing: border-box;top: 0;bottom: 0;left: 50%;z-index: -1;}#sk-container-id-7 div.sk-parallel-item {display: flex;flex-direction: column;z-index: 1;position: relative;background-color: white;}#sk-container-id-7 div.sk-parallel-item:first-child::after {align-self: flex-end;width: 50%;}#sk-container-id-7 div.sk-parallel-item:last-child::after {align-self: flex-start;width: 50%;}#sk-container-id-7 div.sk-parallel-item:only-child::after {width: 0;}#sk-container-id-7 div.sk-dashed-wrapped {border: 1px dashed gray;margin: 0 0.4em 0.5em 0.4em;box-sizing: border-box;padding-bottom: 0.4em;background-color: white;}#sk-container-id-7 div.sk-label label {font-family: monospace;font-weight: bold;display: inline-block;line-height: 1.2em;}#sk-container-id-7 div.sk-label-container {text-align: center;}#sk-container-id-7 div.sk-container {/* jupyter's `normalize.less` sets `[hidden] { display: none; }` but bootstrap.min.css set `[hidden] { display: none !important; }` so we also need the `!important` here to be able to override the default hidden behavior on the sphinx rendered scikit-learn.org. See: https://github.com/scikit-learn/scikit-learn/issues/21755 */display: inline-block !important;position: relative;}#sk-container-id-7 div.sk-text-repr-fallback {display: none;}</style><div id=\"sk-container-id-7\" class=\"sk-top-container\"><div class=\"sk-text-repr-fallback\"><pre>PolynomialFeatures(include_bias=False)</pre><b>In a Jupyter environment, please rerun this cell to show the HTML representation or trust the notebook. <br />On GitHub, the HTML representation is unable to render, please try loading this page with nbviewer.org.</b></div><div class=\"sk-container\" hidden><div class=\"sk-item\"><div class=\"sk-estimator sk-toggleable\"><input class=\"sk-toggleable__control sk-hidden--visually\" id=\"sk-estimator-id-7\" type=\"checkbox\" checked><label for=\"sk-estimator-id-7\" class=\"sk-toggleable__label sk-toggleable__label-arrow\">PolynomialFeatures</label><div class=\"sk-toggleable__content\"><pre>PolynomialFeatures(include_bias=False)</pre></div></div></div></div></div>"
      ],
      "text/plain": [
       "PolynomialFeatures(include_bias=False)"
      ]
     },
     "execution_count": 137,
     "metadata": {},
     "output_type": "execute_result"
    }
   ],
   "source": [
    "polynomial_converter.fit(X_train_dummies)"
   ]
  },
  {
   "cell_type": "code",
   "execution_count": 140,
   "id": "c2113918",
   "metadata": {},
   "outputs": [],
   "source": [
    "train_poly = polynomial_converter.transform(X_train_dummies)\n",
    "test_poly= polynomial_converter.transform(X_test_dummies)"
   ]
  },
  {
   "cell_type": "code",
   "execution_count": 141,
   "id": "2c0c59c7",
   "metadata": {},
   "outputs": [
    {
     "data": {
      "text/plain": [
       "array([ 3.,  3.,  4.,  3.,  0.,  0.,  0.,  9.,  9., 12.,  9.,  0.,  0.,\n",
       "        0.,  9., 12.,  9.,  0.,  0.,  0., 16., 12.,  0.,  0.,  0.,  9.,\n",
       "        0.,  0.,  0.,  0.,  0.,  0.,  0.,  0.,  0.])"
      ]
     },
     "execution_count": 141,
     "metadata": {},
     "output_type": "execute_result"
    }
   ],
   "source": [
    "train_poly[0]"
   ]
  },
  {
   "cell_type": "code",
   "execution_count": 142,
   "id": "3c3d5b0a",
   "metadata": {},
   "outputs": [
    {
     "data": {
      "text/plain": [
       "Bedrooms                   3.0\n",
       "Bathrooms                  3.0\n",
       "Toilets                    4.0\n",
       "Parking Spaces             3.0\n",
       "HouseType_detached         0.0\n",
       "HouseType_semi-detached    0.0\n",
       "HouseType_terraced         0.0\n",
       "Name: 3631, dtype: float64"
      ]
     },
     "execution_count": 142,
     "metadata": {},
     "output_type": "execute_result"
    }
   ],
   "source": [
    "X_train_dummies.iloc[0]"
   ]
  },
  {
   "cell_type": "code",
   "execution_count": 182,
   "id": "e4f38d19",
   "metadata": {},
   "outputs": [],
   "source": [
    "Linear = LinearRegression()"
   ]
  },
  {
   "cell_type": "code",
   "execution_count": 183,
   "id": "21d39777",
   "metadata": {},
   "outputs": [],
   "source": [
    "poly_model = Linear.fit(train_poly,y_train)"
   ]
  },
  {
   "cell_type": "code",
   "execution_count": 184,
   "id": "19d4bb07",
   "metadata": {},
   "outputs": [],
   "source": [
    "poly_pred = poly_model.predict(test_poly)"
   ]
  },
  {
   "cell_type": "code",
   "execution_count": 185,
   "id": "508b2b4e",
   "metadata": {},
   "outputs": [
    {
     "data": {
      "text/plain": [
       "480021.2097683156"
      ]
     },
     "execution_count": 185,
     "metadata": {},
     "output_type": "execute_result"
    }
   ],
   "source": [
    "poly_mae = mean_absolute_error(y_test,poly_pred)\n",
    "poly_mae"
   ]
  },
  {
   "cell_type": "code",
   "execution_count": 186,
   "id": "33fe4c31",
   "metadata": {},
   "outputs": [
    {
     "data": {
      "text/plain": [
       "939061.2642245062"
      ]
     },
     "execution_count": 186,
     "metadata": {},
     "output_type": "execute_result"
    }
   ],
   "source": [
    "poly_rmse = np.sqrt(mean_squared_error(y_test,poly_pred))\n",
    "poly_rmse"
   ]
  },
  {
   "cell_type": "code",
   "execution_count": 187,
   "id": "3ecddc17",
   "metadata": {},
   "outputs": [
    {
     "data": {
      "text/plain": [
       "0.9180368027203882"
      ]
     },
     "execution_count": 187,
     "metadata": {},
     "output_type": "execute_result"
    }
   ],
   "source": [
    "# R-SQUARED\n",
    "\n",
    "poly_model.score(train_poly,y_train)"
   ]
  },
  {
   "cell_type": "code",
   "execution_count": 97,
   "id": "8ea06068",
   "metadata": {},
   "outputs": [],
   "source": [
    "poly_residual = y_test - poly_pred"
   ]
  },
  {
   "cell_type": "code",
   "execution_count": 98,
   "id": "74142d0e",
   "metadata": {},
   "outputs": [
    {
     "data": {
      "text/plain": [
       "<matplotlib.lines.Line2D at 0x147fb1010>"
      ]
     },
     "execution_count": 98,
     "metadata": {},
     "output_type": "execute_result"
    },
    {
     "data": {
      "image/png": "[encoded data removed]",
      "text/plain": [
       "<Figure size 640x480 with 1 Axes>"
      ]
     },
     "metadata": {},
     "output_type": "display_data"
    }
   ],
   "source": [
    "sns.scatterplot(x= y_test, y = poly_residual)\n",
    "plt.axhline(y = 0,color = 'r',ls = '--')"
   ]
  },
  {
   "cell_type": "code",
   "execution_count": null,
   "id": "5d1ab7e2",
   "metadata": {},
   "outputs": [],
   "source": [
    "#### EXPLORING VARIOUS DEGREES"
   ]
  },
  {
   "cell_type": "code",
   "execution_count": 155,
   "id": "72578188",
   "metadata": {},
   "outputs": [],
   "source": [
    "train_rmse_errors = []\n",
    "test_rmse_errors = []\n",
    "\n",
    "for d in range(1,5):\n",
    "    \n",
    "    \n",
    "    poly_converter = PolynomialFeatures(degree = 2,include_bias = False )\n",
    "    \n",
    "    poly_converter.fit(X_train_dummies )    \n",
    "    train_polynomial = poly_converter.transform(X_train_dummies)\n",
    "    test_polynomial = poly_converter.transform(X_test_dummies )\n",
    "    \n",
    "    polynomial_model = lr.fit(train_polynomial,y_train)\n",
    "    \n",
    "    \n",
    "    \n",
    "    \n",
    "    train_pred = polynomial_model.predict(train_polynomial)\n",
    "    test_pred = polynomial_model.predict(test_polynomial)\n",
    "    \n",
    "    train_rmse = np.sqrt(mean_squared_error(y_train,train_pred))\n",
    "    test_rmse = np.sqrt(mean_squared_error(y_test,test_pred))\n",
    "        \n",
    "    train_rmse_errors.append(train_rmse) \n",
    "          \n",
    "    test_rmse_errors.append(test_rmse) \n",
    "        \n",
    "    "
   ]
  },
  {
   "cell_type": "code",
   "execution_count": 156,
   "id": "7f5720a8",
   "metadata": {},
   "outputs": [
    {
     "data": {
      "image/png": "[encoded data removed]",
      "text/plain": [
       "<Figure size 640x480 with 1 Axes>"
      ]
     },
     "metadata": {},
     "output_type": "display_data"
    }
   ],
   "source": [
    "plt.plot(range(1,5),train_rmse_errors[:5],label = 'TRAIN RMSE')\n",
    "plt.plot(range(1,5),test_rmse_errors[:5],label = 'TEST RMSE')\n",
    "\n",
    "plt.xlabel('Degree of Poly')\n",
    "plt.ylabel('RMSE')\n",
    "plt.legend();"
   ]
  },
  {
   "cell_type": "markdown",
   "id": "d10d7c76",
   "metadata": {},
   "source": [
    "####  Elastic Net Regression is a type of regularized linear regression that combines the penalties of both the Lasso (L1) and Ridge (L2) regression methods. from the ratio of my model. lassio performed better than ridge regression"
   ]
  },
  {
   "cell_type": "markdown",
   "id": "015d676f",
   "metadata": {},
   "source": [
    "### L1 AND L2 REGULARIZATION -- ELASTIC NET"
   ]
  },
  {
   "cell_type": "code",
   "execution_count": 118,
   "id": "19b542f0",
   "metadata": {},
   "outputs": [],
   "source": [
    "from sklearn.linear_model import ElasticNetCV"
   ]
  },
  {
   "cell_type": "code",
   "execution_count": 119,
   "id": "eda9b87f",
   "metadata": {},
   "outputs": [],
   "source": [
    "elastic_model = ElasticNetCV(l1_ratio = [.1, .5, .7, .9, .95, .99, 1],eps = 0.001,n_alphas = 100,max_iter = 1000000)"
   ]
  },
  {
   "cell_type": "code",
   "execution_count": 120,
   "id": "a32e8a2d",
   "metadata": {},
   "outputs": [
    {
     "data": {
      "text/html": [
       "<style>#sk-container-id-5 {color: black;background-color: white;}#sk-container-id-5 pre{padding: 0;}#sk-container-id-5 div.sk-toggleable {background-color: white;}#sk-container-id-5 label.sk-toggleable__label {cursor: pointer;display: block;width: 100%;margin-bottom: 0;padding: 0.3em;box-sizing: border-box;text-align: center;}#sk-container-id-5 label.sk-toggleable__label-arrow:before {content: \"▸\";float: left;margin-right: 0.25em;color: #696969;}#sk-container-id-5 label.sk-toggleable__label-arrow:hover:before {color: black;}#sk-container-id-5 div.sk-estimator:hover label.sk-toggleable__label-arrow:before {color: black;}#sk-container-id-5 div.sk-toggleable__content {max-height: 0;max-width: 0;overflow: hidden;text-align: left;background-color: #f0f8ff;}#sk-container-id-5 div.sk-toggleable__content pre {margin: 0.2em;color: black;border-radius: 0.25em;background-color: #f0f8ff;}#sk-container-id-5 input.sk-toggleable__control:checked~div.sk-toggleable__content {max-height: 200px;max-width: 100%;overflow: auto;}#sk-container-id-5 input.sk-toggleable__control:checked~label.sk-toggleable__label-arrow:before {content: \"▾\";}#sk-container-id-5 div.sk-estimator input.sk-toggleable__control:checked~label.sk-toggleable__label {background-color: #d4ebff;}#sk-container-id-5 div.sk-label input.sk-toggleable__control:checked~label.sk-toggleable__label {background-color: #d4ebff;}#sk-container-id-5 input.sk-hidden--visually {border: 0;clip: rect(1px 1px 1px 1px);clip: rect(1px, 1px, 1px, 1px);height: 1px;margin: -1px;overflow: hidden;padding: 0;position: absolute;width: 1px;}#sk-container-id-5 div.sk-estimator {font-family: monospace;background-color: #f0f8ff;border: 1px dotted black;border-radius: 0.25em;box-sizing: border-box;margin-bottom: 0.5em;}#sk-container-id-5 div.sk-estimator:hover {background-color: #d4ebff;}#sk-container-id-5 div.sk-parallel-item::after {content: \"\";width: 100%;border-bottom: 1px solid gray;flex-grow: 1;}#sk-container-id-5 div.sk-label:hover label.sk-toggleable__label {background-color: #d4ebff;}#sk-container-id-5 div.sk-serial::before {content: \"\";position: absolute;border-left: 1px solid gray;box-sizing: border-box;top: 0;bottom: 0;left: 50%;z-index: 0;}#sk-container-id-5 div.sk-serial {display: flex;flex-direction: column;align-items: center;background-color: white;padding-right: 0.2em;padding-left: 0.2em;position: relative;}#sk-container-id-5 div.sk-item {position: relative;z-index: 1;}#sk-container-id-5 div.sk-parallel {display: flex;align-items: stretch;justify-content: center;background-color: white;position: relative;}#sk-container-id-5 div.sk-item::before, #sk-container-id-5 div.sk-parallel-item::before {content: \"\";position: absolute;border-left: 1px solid gray;box-sizing: border-box;top: 0;bottom: 0;left: 50%;z-index: -1;}#sk-container-id-5 div.sk-parallel-item {display: flex;flex-direction: column;z-index: 1;position: relative;background-color: white;}#sk-container-id-5 div.sk-parallel-item:first-child::after {align-self: flex-end;width: 50%;}#sk-container-id-5 div.sk-parallel-item:last-child::after {align-self: flex-start;width: 50%;}#sk-container-id-5 div.sk-parallel-item:only-child::after {width: 0;}#sk-container-id-5 div.sk-dashed-wrapped {border: 1px dashed gray;margin: 0 0.4em 0.5em 0.4em;box-sizing: border-box;padding-bottom: 0.4em;background-color: white;}#sk-container-id-5 div.sk-label label {font-family: monospace;font-weight: bold;display: inline-block;line-height: 1.2em;}#sk-container-id-5 div.sk-label-container {text-align: center;}#sk-container-id-5 div.sk-container {/* jupyter's `normalize.less` sets `[hidden] { display: none; }` but bootstrap.min.css set `[hidden] { display: none !important; }` so we also need the `!important` here to be able to override the default hidden behavior on the sphinx rendered scikit-learn.org. See: https://github.com/scikit-learn/scikit-learn/issues/21755 */display: inline-block !important;position: relative;}#sk-container-id-5 div.sk-text-repr-fallback {display: none;}</style><div id=\"sk-container-id-5\" class=\"sk-top-container\"><div class=\"sk-text-repr-fallback\"><pre>ElasticNetCV(l1_ratio=[0.1, 0.5, 0.7, 0.9, 0.95, 0.99, 1], max_iter=1000000)</pre><b>In a Jupyter environment, please rerun this cell to show the HTML representation or trust the notebook. <br />On GitHub, the HTML representation is unable to render, please try loading this page with nbviewer.org.</b></div><div class=\"sk-container\" hidden><div class=\"sk-item\"><div class=\"sk-estimator sk-toggleable\"><input class=\"sk-toggleable__control sk-hidden--visually\" id=\"sk-estimator-id-5\" type=\"checkbox\" checked><label for=\"sk-estimator-id-5\" class=\"sk-toggleable__label sk-toggleable__label-arrow\">ElasticNetCV</label><div class=\"sk-toggleable__content\"><pre>ElasticNetCV(l1_ratio=[0.1, 0.5, 0.7, 0.9, 0.95, 0.99, 1], max_iter=1000000)</pre></div></div></div></div></div>"
      ],
      "text/plain": [
       "ElasticNetCV(l1_ratio=[0.1, 0.5, 0.7, 0.9, 0.95, 0.99, 1], max_iter=1000000)"
      ]
     },
     "execution_count": 120,
     "metadata": {},
     "output_type": "execute_result"
    }
   ],
   "source": [
    "elastic_model.fit(x_train_scaled, y_train)"
   ]
  },
  {
   "cell_type": "code",
   "execution_count": 121,
   "id": "f686a4dc",
   "metadata": {},
   "outputs": [
    {
     "data": {
      "text/plain": [
       "1.0"
      ]
     },
     "execution_count": 121,
     "metadata": {},
     "output_type": "execute_result"
    }
   ],
   "source": [
    "elastic_model.l1_ratio_"
   ]
  },
  {
   "cell_type": "code",
   "execution_count": 122,
   "id": "4182e309",
   "metadata": {},
   "outputs": [
    {
     "data": {
      "text/plain": [
       "716.1195622792285"
      ]
     },
     "execution_count": 122,
     "metadata": {},
     "output_type": "execute_result"
    }
   ],
   "source": [
    "elastic_model.alpha_"
   ]
  },
  {
   "cell_type": "code",
   "execution_count": 123,
   "id": "24ff6c74",
   "metadata": {},
   "outputs": [
    {
     "data": {
      "text/plain": [
       "716.1195622792285"
      ]
     },
     "execution_count": 123,
     "metadata": {},
     "output_type": "execute_result"
    }
   ],
   "source": [
    "lasso_cv_model.alpha_"
   ]
  },
  {
   "cell_type": "code",
   "execution_count": 125,
   "id": "50692890",
   "metadata": {},
   "outputs": [],
   "source": [
    "elasticnet_predict = elastic_model.predict(x_test_scaled)"
   ]
  },
  {
   "cell_type": "code",
   "execution_count": 163,
   "id": "14779cf8",
   "metadata": {},
   "outputs": [
    {
     "data": {
      "text/plain": [
       "944073.7495592403"
      ]
     },
     "execution_count": 163,
     "metadata": {},
     "output_type": "execute_result"
    }
   ],
   "source": [
    "elastic_mae = mean_absolute_error(y_test,elasticnet_predict)\n",
    "elastic_mae"
   ]
  },
  {
   "cell_type": "code",
   "execution_count": 164,
   "id": "c1915dbc",
   "metadata": {},
   "outputs": [
    {
     "data": {
      "text/plain": [
       "1252401.760057289"
      ]
     },
     "execution_count": 164,
     "metadata": {},
     "output_type": "execute_result"
    }
   ],
   "source": [
    "elastic_rmse = np.sqrt(mean_squared_error(y_test,elasticnet_predict))\n",
    "elastic_rmse"
   ]
  },
  {
   "cell_type": "code",
   "execution_count": 178,
   "id": "bac91c96",
   "metadata": {},
   "outputs": [
    {
     "data": {
      "text/plain": [
       "0.8543824178206666"
      ]
     },
     "execution_count": 178,
     "metadata": {},
     "output_type": "execute_result"
    }
   ],
   "source": [
    "# R-SQUARED\n",
    "\n",
    "elastic_model.score(x_train_scaled, y_train)"
   ]
  },
  {
   "cell_type": "markdown",
   "id": "f6bc1405",
   "metadata": {},
   "source": [
    "### L1 REGULARIZATION LASSO CROSS VALIDATION"
   ]
  },
  {
   "cell_type": "code",
   "execution_count": null,
   "id": "aec5d49a",
   "metadata": {},
   "outputs": [],
   "source": []
  },
  {
   "cell_type": "code",
   "execution_count": 148,
   "id": "83a1bd9c",
   "metadata": {},
   "outputs": [],
   "source": [
    "from sklearn.linear_model import LassoCV"
   ]
  },
  {
   "cell_type": "code",
   "execution_count": 149,
   "id": "78e4b97e",
   "metadata": {},
   "outputs": [],
   "source": [
    "lasso_cv_model = LassoCV(eps = 0.001,n_alphas = 100,cv = 5, max_iter = 1000000)"
   ]
  },
  {
   "cell_type": "code",
   "execution_count": 150,
   "id": "da00fbe0",
   "metadata": {},
   "outputs": [
    {
     "data": {
      "text/html": [
       "<style>#sk-container-id-9 {color: black;background-color: white;}#sk-container-id-9 pre{padding: 0;}#sk-container-id-9 div.sk-toggleable {background-color: white;}#sk-container-id-9 label.sk-toggleable__label {cursor: pointer;display: block;width: 100%;margin-bottom: 0;padding: 0.3em;box-sizing: border-box;text-align: center;}#sk-container-id-9 label.sk-toggleable__label-arrow:before {content: \"▸\";float: left;margin-right: 0.25em;color: #696969;}#sk-container-id-9 label.sk-toggleable__label-arrow:hover:before {color: black;}#sk-container-id-9 div.sk-estimator:hover label.sk-toggleable__label-arrow:before {color: black;}#sk-container-id-9 div.sk-toggleable__content {max-height: 0;max-width: 0;overflow: hidden;text-align: left;background-color: #f0f8ff;}#sk-container-id-9 div.sk-toggleable__content pre {margin: 0.2em;color: black;border-radius: 0.25em;background-color: #f0f8ff;}#sk-container-id-9 input.sk-toggleable__control:checked~div.sk-toggleable__content {max-height: 200px;max-width: 100%;overflow: auto;}#sk-container-id-9 input.sk-toggleable__control:checked~label.sk-toggleable__label-arrow:before {content: \"▾\";}#sk-container-id-9 div.sk-estimator input.sk-toggleable__control:checked~label.sk-toggleable__label {background-color: #d4ebff;}#sk-container-id-9 div.sk-label input.sk-toggleable__control:checked~label.sk-toggleable__label {background-color: #d4ebff;}#sk-container-id-9 input.sk-hidden--visually {border: 0;clip: rect(1px 1px 1px 1px);clip: rect(1px, 1px, 1px, 1px);height: 1px;margin: -1px;overflow: hidden;padding: 0;position: absolute;width: 1px;}#sk-container-id-9 div.sk-estimator {font-family: monospace;background-color: #f0f8ff;border: 1px dotted black;border-radius: 0.25em;box-sizing: border-box;margin-bottom: 0.5em;}#sk-container-id-9 div.sk-estimator:hover {background-color: #d4ebff;}#sk-container-id-9 div.sk-parallel-item::after {content: \"\";width: 100%;border-bottom: 1px solid gray;flex-grow: 1;}#sk-container-id-9 div.sk-label:hover label.sk-toggleable__label {background-color: #d4ebff;}#sk-container-id-9 div.sk-serial::before {content: \"\";position: absolute;border-left: 1px solid gray;box-sizing: border-box;top: 0;bottom: 0;left: 50%;z-index: 0;}#sk-container-id-9 div.sk-serial {display: flex;flex-direction: column;align-items: center;background-color: white;padding-right: 0.2em;padding-left: 0.2em;position: relative;}#sk-container-id-9 div.sk-item {position: relative;z-index: 1;}#sk-container-id-9 div.sk-parallel {display: flex;align-items: stretch;justify-content: center;background-color: white;position: relative;}#sk-container-id-9 div.sk-item::before, #sk-container-id-9 div.sk-parallel-item::before {content: \"\";position: absolute;border-left: 1px solid gray;box-sizing: border-box;top: 0;bottom: 0;left: 50%;z-index: -1;}#sk-container-id-9 div.sk-parallel-item {display: flex;flex-direction: column;z-index: 1;position: relative;background-color: white;}#sk-container-id-9 div.sk-parallel-item:first-child::after {align-self: flex-end;width: 50%;}#sk-container-id-9 div.sk-parallel-item:last-child::after {align-self: flex-start;width: 50%;}#sk-container-id-9 div.sk-parallel-item:only-child::after {width: 0;}#sk-container-id-9 div.sk-dashed-wrapped {border: 1px dashed gray;margin: 0 0.4em 0.5em 0.4em;box-sizing: border-box;padding-bottom: 0.4em;background-color: white;}#sk-container-id-9 div.sk-label label {font-family: monospace;font-weight: bold;display: inline-block;line-height: 1.2em;}#sk-container-id-9 div.sk-label-container {text-align: center;}#sk-container-id-9 div.sk-container {/* jupyter's `normalize.less` sets `[hidden] { display: none; }` but bootstrap.min.css set `[hidden] { display: none !important; }` so we also need the `!important` here to be able to override the default hidden behavior on the sphinx rendered scikit-learn.org. See: https://github.com/scikit-learn/scikit-learn/issues/21755 */display: inline-block !important;position: relative;}#sk-container-id-9 div.sk-text-repr-fallback {display: none;}</style><div id=\"sk-container-id-9\" class=\"sk-top-container\"><div class=\"sk-text-repr-fallback\"><pre>LassoCV(cv=5, max_iter=1000000)</pre><b>In a Jupyter environment, please rerun this cell to show the HTML representation or trust the notebook. <br />On GitHub, the HTML representation is unable to render, please try loading this page with nbviewer.org.</b></div><div class=\"sk-container\" hidden><div class=\"sk-item\"><div class=\"sk-estimator sk-toggleable\"><input class=\"sk-toggleable__control sk-hidden--visually\" id=\"sk-estimator-id-9\" type=\"checkbox\" checked><label for=\"sk-estimator-id-9\" class=\"sk-toggleable__label sk-toggleable__label-arrow\">LassoCV</label><div class=\"sk-toggleable__content\"><pre>LassoCV(cv=5, max_iter=1000000)</pre></div></div></div></div></div>"
      ],
      "text/plain": [
       "LassoCV(cv=5, max_iter=1000000)"
      ]
     },
     "execution_count": 150,
     "metadata": {},
     "output_type": "execute_result"
    }
   ],
   "source": [
    "lasso_cv_model.fit(x_train_scaled, y_train)"
   ]
  },
  {
   "cell_type": "code",
   "execution_count": 151,
   "id": "5bc8e51e",
   "metadata": {},
   "outputs": [],
   "source": [
    "lasso_predict = lasso_cv_model.predict(x_test_scaled)"
   ]
  },
  {
   "cell_type": "code",
   "execution_count": 153,
   "id": "3c3fde07",
   "metadata": {},
   "outputs": [
    {
     "data": {
      "text/plain": [
       "716.1195622792285"
      ]
     },
     "execution_count": 153,
     "metadata": {},
     "output_type": "execute_result"
    }
   ],
   "source": [
    "lasso_cv_model.alpha_"
   ]
  },
  {
   "cell_type": "code",
   "execution_count": 154,
   "id": "161324e9",
   "metadata": {},
   "outputs": [
    {
     "data": {
      "text/plain": [
       "944073.7495592403"
      ]
     },
     "execution_count": 154,
     "metadata": {},
     "output_type": "execute_result"
    }
   ],
   "source": [
    "mean_absolute_error(y_test,lasso_predict)"
   ]
  },
  {
   "cell_type": "code",
   "execution_count": 152,
   "id": "fdf7559e",
   "metadata": {},
   "outputs": [
    {
     "data": {
      "text/plain": [
       "1252401.760057289"
      ]
     },
     "execution_count": 152,
     "metadata": {},
     "output_type": "execute_result"
    }
   ],
   "source": [
    "np.sqrt(mean_squared_error(y_test,lasso_predict))"
   ]
  },
  {
   "cell_type": "code",
   "execution_count": null,
   "id": "8f82e234",
   "metadata": {},
   "outputs": [],
   "source": []
  },
  {
   "cell_type": "markdown",
   "id": "f955ac26",
   "metadata": {},
   "source": [
    "### L2 REGULARIZATION RIDGE CROSS VALIDATION"
   ]
  },
  {
   "cell_type": "code",
   "execution_count": null,
   "id": "8299b50b",
   "metadata": {},
   "outputs": [],
   "source": [
    "from sklearn.linear_model import RidgeCV "
   ]
  },
  {
   "cell_type": "code",
   "execution_count": null,
   "id": "07e32f93",
   "metadata": {},
   "outputs": [],
   "source": [
    "from sklearn.metrics import SCORERS"
   ]
  },
  {
   "cell_type": "code",
   "execution_count": null,
   "id": "084509ee",
   "metadata": {},
   "outputs": [],
   "source": [
    "SCORERS.keys()"
   ]
  },
  {
   "cell_type": "code",
   "execution_count": null,
   "id": "0ba8ede7",
   "metadata": {},
   "outputs": [],
   "source": [
    "ridge_cv_model = RidgeCV(alphas=(0.1, 1.0, 10.0),scoring = 'neg_mean_absolute_error')"
   ]
  },
  {
   "cell_type": "code",
   "execution_count": null,
   "id": "66e96d5d",
   "metadata": {},
   "outputs": [],
   "source": [
    "ridge_cv_model.fit(x_train_scaled,y_train)"
   ]
  },
  {
   "cell_type": "code",
   "execution_count": null,
   "id": "b849605c",
   "metadata": {},
   "outputs": [],
   "source": [
    "ridge_predict = ridge_cv_model.predict(x_test_scaled)"
   ]
  },
  {
   "cell_type": "code",
   "execution_count": null,
   "id": "a3a0537e",
   "metadata": {},
   "outputs": [],
   "source": [
    "mean_absolute_error(y_test,ridge_predict)"
   ]
  },
  {
   "cell_type": "code",
   "execution_count": null,
   "id": "2aa224a0",
   "metadata": {},
   "outputs": [],
   "source": [
    "np.sqrt(mean_squared_error(y_test,ridge_predict))"
   ]
  },
  {
   "cell_type": "code",
   "execution_count": null,
   "id": "01a57ec5",
   "metadata": {},
   "outputs": [],
   "source": []
  },
  {
   "cell_type": "code",
   "execution_count": 192,
   "id": "f9665fa3",
   "metadata": {},
   "outputs": [
    {
     "data": {
      "text/plain": [
       "11500000.0"
      ]
     },
     "execution_count": 192,
     "metadata": {},
     "output_type": "execute_result"
    }
   ],
   "source": [
    "## The mean of my target( HOUSE_PRICE)\n",
    "\n",
    "\n",
    "target_mean = data_preprocessed['Price'].mean()\n",
    "target_mean"
   ]
  },
  {
   "cell_type": "markdown",
   "id": "a2c67667",
   "metadata": {},
   "source": [
    "#### Given that the mean house price is ₦11,500,000, the Polynomial Regression model's MAE and RMSE are relatively low (4.17% and 8.16%, respectively), suggesting it is a good model for your predictions. The errors for Linear Regression and ElasticNet regression are higher (around 8-11%), which might still be acceptable but are less optimal compared to Polynomial Regression."
   ]
  },
  {
   "cell_type": "code",
   "execution_count": null,
   "id": "0fd0522a",
   "metadata": {},
   "outputs": [],
   "source": []
  },
  {
   "cell_type": "code",
   "execution_count": null,
   "id": "a151e716",
   "metadata": {},
   "outputs": [],
   "source": []
  },
  {
   "cell_type": "code",
   "execution_count": null,
   "id": "5af74a91",
   "metadata": {},
   "outputs": [],
   "source": []
  },
  {
   "cell_type": "code",
   "execution_count": 190,
   "id": "a553229a",
   "metadata": {},
   "outputs": [],
   "source": [
    "from sklearn.metrics import mean_absolute_error,mean_squared_error\n",
    "\n",
    "model_summary = pd.DataFrame(\n",
    "{\n",
    "    'Models':[\n",
    "        'Linear Regression',\n",
    "        'Polynomial Regression',\n",
    "        'ElasticNet regression'\n",
    "     \n",
    "    ],\n",
    "    \n",
    "    'MAE':[\n",
    "       mean_absolute_error(y_test,y_pred),\n",
    "      mean_absolute_error(y_test,poly_pred),    \n",
    "      mean_absolute_error(y_test,elasticnet_predict)\n",
    "    \n",
    "    ],\n",
    "    \n",
    "    'RMSE':[\n",
    "        \n",
    "       np.sqrt(mean_squared_error(y_test,y_pred)),\n",
    "       np.sqrt(mean_squared_error(y_test,poly_pred)),    \n",
    "       np.sqrt(mean_squared_error(y_test,elasticnet_predict))\n",
    "      \n",
    "    ],\n",
    "    \n",
    "      'R-SQUARED':[\n",
    "        \n",
    "      linear_model.score(x_train_scaled,y_train),\n",
    "      poly_model.score(train_poly,y_train),    \n",
    "      elastic_model.score(x_train_scaled, y_train)\n",
    "      \n",
    "    ],\n",
    "    \n",
    "    'Relative MAE':[\n",
    "       lr_mae / target_mean,\n",
    "       poly_mae / target_mean,    \n",
    "      elastic_mae / target_mean\n",
    "    \n",
    "    ],\n",
    "  \n",
    "     'Relative RMSE':[\n",
    "       lr_rmse / target_mean,\n",
    "       poly_rmse / target_mean,    \n",
    "      elastic_rmse / target_mean\n",
    "    \n",
    "    ],\n",
    "    \n",
    "} \n",
    ")"
   ]
  },
  {
   "cell_type": "code",
   "execution_count": 191,
   "id": "0b7ce57c",
   "metadata": {},
   "outputs": [
    {
     "data": {
      "text/html": [
       "<div>\n",
       "<style scoped>\n",
       "    .dataframe tbody tr th:only-of-type {\n",
       "        vertical-align: middle;\n",
       "    }\n",
       "\n",
       "    .dataframe tbody tr th {\n",
       "        vertical-align: top;\n",
       "    }\n",
       "\n",
       "    .dataframe thead th {\n",
       "        text-align: right;\n",
       "    }\n",
       "</style>\n",
       "<table border=\"1\" class=\"dataframe\">\n",
       "  <thead>\n",
       "    <tr style=\"text-align: right;\">\n",
       "      <th></th>\n",
       "      <th>Models</th>\n",
       "      <th>MAE</th>\n",
       "      <th>RMSE</th>\n",
       "      <th>R-SQUARED</th>\n",
       "      <th>Relative MAE</th>\n",
       "      <th>Relative RMSE</th>\n",
       "    </tr>\n",
       "  </thead>\n",
       "  <tbody>\n",
       "    <tr>\n",
       "      <th>0</th>\n",
       "      <td>Linear Regression</td>\n",
       "      <td>941087.955927</td>\n",
       "      <td>1.251969e+06</td>\n",
       "      <td>0.854378</td>\n",
       "      <td>0.081834</td>\n",
       "      <td>0.108867</td>\n",
       "    </tr>\n",
       "    <tr>\n",
       "      <th>1</th>\n",
       "      <td>Polynomial Regression</td>\n",
       "      <td>480021.209768</td>\n",
       "      <td>9.390613e+05</td>\n",
       "      <td>0.918037</td>\n",
       "      <td>0.041741</td>\n",
       "      <td>0.081658</td>\n",
       "    </tr>\n",
       "    <tr>\n",
       "      <th>2</th>\n",
       "      <td>ElasticNet regression</td>\n",
       "      <td>944073.749559</td>\n",
       "      <td>1.252402e+06</td>\n",
       "      <td>0.854382</td>\n",
       "      <td>0.082093</td>\n",
       "      <td>0.108905</td>\n",
       "    </tr>\n",
       "  </tbody>\n",
       "</table>\n",
       "</div>"
      ],
      "text/plain": [
       "                  Models            MAE          RMSE  R-SQUARED  \\\n",
       "0      Linear Regression  941087.955927  1.251969e+06   0.854378   \n",
       "1  Polynomial Regression  480021.209768  9.390613e+05   0.918037   \n",
       "2  ElasticNet regression  944073.749559  1.252402e+06   0.854382   \n",
       "\n",
       "   Relative MAE  Relative RMSE  \n",
       "0      0.081834       0.108867  \n",
       "1      0.041741       0.081658  \n",
       "2      0.082093       0.108905  "
      ]
     },
     "execution_count": 191,
     "metadata": {},
     "output_type": "execute_result"
    }
   ],
   "source": [
    "model_summary"
   ]
  },
  {
   "cell_type": "code",
   "execution_count": null,
   "id": "f9ed7cb2",
   "metadata": {},
   "outputs": [],
   "source": []
  },
  {
   "cell_type": "markdown",
   "id": "512bf77a",
   "metadata": {},
   "source": [
    "##### Based on the performance metrics, Polynomial Regression is the best model for predicting house prices. It provides the most accurate predictions with the least error and explains a higher percentage of variance in house prices. Linear Regression and ElasticNet Regression perform similarly but are less accurate. When accuracy is critical, Polynomial Regression is the recommended choice"
   ]
  },
  {
   "cell_type": "code",
   "execution_count": null,
   "id": "b61a07d0",
   "metadata": {},
   "outputs": [],
   "source": []
  },
  {
   "cell_type": "markdown",
   "id": "3bcb5b94",
   "metadata": {},
   "source": [
    "## saving and Preparing my final model, polynomial converter  for deployment"
   ]
  },
  {
   "cell_type": "code",
   "execution_count": 194,
   "id": "91542a4b",
   "metadata": {},
   "outputs": [],
   "source": [
    "final_poly_converter  = PolynomialFeatures(degree = 2,include_bias = False )"
   ]
  },
  {
   "cell_type": "code",
   "execution_count": 195,
   "id": "24767ca5",
   "metadata": {},
   "outputs": [],
   "source": [
    "final_model = LinearRegression()"
   ]
  },
  {
   "cell_type": "code",
   "execution_count": 196,
   "id": "78f00d05",
   "metadata": {},
   "outputs": [],
   "source": [
    "full_converted_xtrain = final_poly_converter.fit_transform(X_train_dummies)"
   ]
  },
  {
   "cell_type": "code",
   "execution_count": 197,
   "id": "b678de87",
   "metadata": {},
   "outputs": [
    {
     "data": {
      "text/html": [
       "<style>#sk-container-id-10 {color: black;background-color: white;}#sk-container-id-10 pre{padding: 0;}#sk-container-id-10 div.sk-toggleable {background-color: white;}#sk-container-id-10 label.sk-toggleable__label {cursor: pointer;display: block;width: 100%;margin-bottom: 0;padding: 0.3em;box-sizing: border-box;text-align: center;}#sk-container-id-10 label.sk-toggleable__label-arrow:before {content: \"▸\";float: left;margin-right: 0.25em;color: #696969;}#sk-container-id-10 label.sk-toggleable__label-arrow:hover:before {color: black;}#sk-container-id-10 div.sk-estimator:hover label.sk-toggleable__label-arrow:before {color: black;}#sk-container-id-10 div.sk-toggleable__content {max-height: 0;max-width: 0;overflow: hidden;text-align: left;background-color: #f0f8ff;}#sk-container-id-10 div.sk-toggleable__content pre {margin: 0.2em;color: black;border-radius: 0.25em;background-color: #f0f8ff;}#sk-container-id-10 input.sk-toggleable__control:checked~div.sk-toggleable__content {max-height: 200px;max-width: 100%;overflow: auto;}#sk-container-id-10 input.sk-toggleable__control:checked~label.sk-toggleable__label-arrow:before {content: \"▾\";}#sk-container-id-10 div.sk-estimator input.sk-toggleable__control:checked~label.sk-toggleable__label {background-color: #d4ebff;}#sk-container-id-10 div.sk-label input.sk-toggleable__control:checked~label.sk-toggleable__label {background-color: #d4ebff;}#sk-container-id-10 input.sk-hidden--visually {border: 0;clip: rect(1px 1px 1px 1px);clip: rect(1px, 1px, 1px, 1px);height: 1px;margin: -1px;overflow: hidden;padding: 0;position: absolute;width: 1px;}#sk-container-id-10 div.sk-estimator {font-family: monospace;background-color: #f0f8ff;border: 1px dotted black;border-radius: 0.25em;box-sizing: border-box;margin-bottom: 0.5em;}#sk-container-id-10 div.sk-estimator:hover {background-color: #d4ebff;}#sk-container-id-10 div.sk-parallel-item::after {content: \"\";width: 100%;border-bottom: 1px solid gray;flex-grow: 1;}#sk-container-id-10 div.sk-label:hover label.sk-toggleable__label {background-color: #d4ebff;}#sk-container-id-10 div.sk-serial::before {content: \"\";position: absolute;border-left: 1px solid gray;box-sizing: border-box;top: 0;bottom: 0;left: 50%;z-index: 0;}#sk-container-id-10 div.sk-serial {display: flex;flex-direction: column;align-items: center;background-color: white;padding-right: 0.2em;padding-left: 0.2em;position: relative;}#sk-container-id-10 div.sk-item {position: relative;z-index: 1;}#sk-container-id-10 div.sk-parallel {display: flex;align-items: stretch;justify-content: center;background-color: white;position: relative;}#sk-container-id-10 div.sk-item::before, #sk-container-id-10 div.sk-parallel-item::before {content: \"\";position: absolute;border-left: 1px solid gray;box-sizing: border-box;top: 0;bottom: 0;left: 50%;z-index: -1;}#sk-container-id-10 div.sk-parallel-item {display: flex;flex-direction: column;z-index: 1;position: relative;background-color: white;}#sk-container-id-10 div.sk-parallel-item:first-child::after {align-self: flex-end;width: 50%;}#sk-container-id-10 div.sk-parallel-item:last-child::after {align-self: flex-start;width: 50%;}#sk-container-id-10 div.sk-parallel-item:only-child::after {width: 0;}#sk-container-id-10 div.sk-dashed-wrapped {border: 1px dashed gray;margin: 0 0.4em 0.5em 0.4em;box-sizing: border-box;padding-bottom: 0.4em;background-color: white;}#sk-container-id-10 div.sk-label label {font-family: monospace;font-weight: bold;display: inline-block;line-height: 1.2em;}#sk-container-id-10 div.sk-label-container {text-align: center;}#sk-container-id-10 div.sk-container {/* jupyter's `normalize.less` sets `[hidden] { display: none; }` but bootstrap.min.css set `[hidden] { display: none !important; }` so we also need the `!important` here to be able to override the default hidden behavior on the sphinx rendered scikit-learn.org. See: https://github.com/scikit-learn/scikit-learn/issues/21755 */display: inline-block !important;position: relative;}#sk-container-id-10 div.sk-text-repr-fallback {display: none;}</style><div id=\"sk-container-id-10\" class=\"sk-top-container\"><div class=\"sk-text-repr-fallback\"><pre>LinearRegression()</pre><b>In a Jupyter environment, please rerun this cell to show the HTML representation or trust the notebook. <br />On GitHub, the HTML representation is unable to render, please try loading this page with nbviewer.org.</b></div><div class=\"sk-container\" hidden><div class=\"sk-item\"><div class=\"sk-estimator sk-toggleable\"><input class=\"sk-toggleable__control sk-hidden--visually\" id=\"sk-estimator-id-10\" type=\"checkbox\" checked><label for=\"sk-estimator-id-10\" class=\"sk-toggleable__label sk-toggleable__label-arrow\">LinearRegression</label><div class=\"sk-toggleable__content\"><pre>LinearRegression()</pre></div></div></div></div></div>"
      ],
      "text/plain": [
       "LinearRegression()"
      ]
     },
     "execution_count": 197,
     "metadata": {},
     "output_type": "execute_result"
    }
   ],
   "source": [
    "final_model.fit(full_converted_xtrain,y_train)"
   ]
  },
  {
   "cell_type": "code",
   "execution_count": 199,
   "id": "297c3d16",
   "metadata": {},
   "outputs": [
    {
     "data": {
      "text/plain": [
       "array([ 3.,  3.,  4.,  3.,  0.,  0.,  0.,  9.,  9., 12.,  9.,  0.,  0.,\n",
       "        0.,  9., 12.,  9.,  0.,  0.,  0., 16., 12.,  0.,  0.,  0.,  9.,\n",
       "        0.,  0.,  0.,  0.,  0.,  0.,  0.,  0.,  0.])"
      ]
     },
     "execution_count": 199,
     "metadata": {},
     "output_type": "execute_result"
    }
   ],
   "source": [
    "full_converted_xtrain[0]"
   ]
  },
  {
   "cell_type": "code",
   "execution_count": 205,
   "id": "70747749",
   "metadata": {},
   "outputs": [],
   "source": [
    "from  joblib import dump"
   ]
  },
  {
   "cell_type": "code",
   "execution_count": 201,
   "id": "5c6b0a50",
   "metadata": {},
   "outputs": [
    {
     "data": {
      "text/plain": [
       "['final_poly_model.joblib']"
      ]
     },
     "execution_count": 201,
     "metadata": {},
     "output_type": "execute_result"
    }
   ],
   "source": [
    "joblib.dump(final_model, 'final_poly_model.joblib')"
   ]
  },
  {
   "cell_type": "code",
   "execution_count": 203,
   "id": "96ef3aaa",
   "metadata": {},
   "outputs": [
    {
     "data": {
      "text/plain": [
       "['final_converter.joblib']"
      ]
     },
     "execution_count": 203,
     "metadata": {},
     "output_type": "execute_result"
    }
   ],
   "source": [
    "joblib.dump(final_poly_converter , 'final_converter.joblib')"
   ]
  },
  {
   "cell_type": "code",
   "execution_count": null,
   "id": "e2b7ad09",
   "metadata": {},
   "outputs": [],
   "source": []
  },
  {
   "cell_type": "markdown",
   "id": "e3f86d7d",
   "metadata": {},
   "source": [
    "### Testing the saved model"
   ]
  },
  {
   "cell_type": "code",
   "execution_count": 204,
   "id": "887e214e",
   "metadata": {},
   "outputs": [],
   "source": [
    "from  joblib import load"
   ]
  },
  {
   "cell_type": "code",
   "execution_count": 207,
   "id": "84ace9fb",
   "metadata": {},
   "outputs": [
    {
     "data": {
      "text/html": [
       "<style>#sk-container-id-11 {color: black;background-color: white;}#sk-container-id-11 pre{padding: 0;}#sk-container-id-11 div.sk-toggleable {background-color: white;}#sk-container-id-11 label.sk-toggleable__label {cursor: pointer;display: block;width: 100%;margin-bottom: 0;padding: 0.3em;box-sizing: border-box;text-align: center;}#sk-container-id-11 label.sk-toggleable__label-arrow:before {content: \"▸\";float: left;margin-right: 0.25em;color: #696969;}#sk-container-id-11 label.sk-toggleable__label-arrow:hover:before {color: black;}#sk-container-id-11 div.sk-estimator:hover label.sk-toggleable__label-arrow:before {color: black;}#sk-container-id-11 div.sk-toggleable__content {max-height: 0;max-width: 0;overflow: hidden;text-align: left;background-color: #f0f8ff;}#sk-container-id-11 div.sk-toggleable__content pre {margin: 0.2em;color: black;border-radius: 0.25em;background-color: #f0f8ff;}#sk-container-id-11 input.sk-toggleable__control:checked~div.sk-toggleable__content {max-height: 200px;max-width: 100%;overflow: auto;}#sk-container-id-11 input.sk-toggleable__control:checked~label.sk-toggleable__label-arrow:before {content: \"▾\";}#sk-container-id-11 div.sk-estimator input.sk-toggleable__control:checked~label.sk-toggleable__label {background-color: #d4ebff;}#sk-container-id-11 div.sk-label input.sk-toggleable__control:checked~label.sk-toggleable__label {background-color: #d4ebff;}#sk-container-id-11 input.sk-hidden--visually {border: 0;clip: rect(1px 1px 1px 1px);clip: rect(1px, 1px, 1px, 1px);height: 1px;margin: -1px;overflow: hidden;padding: 0;position: absolute;width: 1px;}#sk-container-id-11 div.sk-estimator {font-family: monospace;background-color: #f0f8ff;border: 1px dotted black;border-radius: 0.25em;box-sizing: border-box;margin-bottom: 0.5em;}#sk-container-id-11 div.sk-estimator:hover {background-color: #d4ebff;}#sk-container-id-11 div.sk-parallel-item::after {content: \"\";width: 100%;border-bottom: 1px solid gray;flex-grow: 1;}#sk-container-id-11 div.sk-label:hover label.sk-toggleable__label {background-color: #d4ebff;}#sk-container-id-11 div.sk-serial::before {content: \"\";position: absolute;border-left: 1px solid gray;box-sizing: border-box;top: 0;bottom: 0;left: 50%;z-index: 0;}#sk-container-id-11 div.sk-serial {display: flex;flex-direction: column;align-items: center;background-color: white;padding-right: 0.2em;padding-left: 0.2em;position: relative;}#sk-container-id-11 div.sk-item {position: relative;z-index: 1;}#sk-container-id-11 div.sk-parallel {display: flex;align-items: stretch;justify-content: center;background-color: white;position: relative;}#sk-container-id-11 div.sk-item::before, #sk-container-id-11 div.sk-parallel-item::before {content: \"\";position: absolute;border-left: 1px solid gray;box-sizing: border-box;top: 0;bottom: 0;left: 50%;z-index: -1;}#sk-container-id-11 div.sk-parallel-item {display: flex;flex-direction: column;z-index: 1;position: relative;background-color: white;}#sk-container-id-11 div.sk-parallel-item:first-child::after {align-self: flex-end;width: 50%;}#sk-container-id-11 div.sk-parallel-item:last-child::after {align-self: flex-start;width: 50%;}#sk-container-id-11 div.sk-parallel-item:only-child::after {width: 0;}#sk-container-id-11 div.sk-dashed-wrapped {border: 1px dashed gray;margin: 0 0.4em 0.5em 0.4em;box-sizing: border-box;padding-bottom: 0.4em;background-color: white;}#sk-container-id-11 div.sk-label label {font-family: monospace;font-weight: bold;display: inline-block;line-height: 1.2em;}#sk-container-id-11 div.sk-label-container {text-align: center;}#sk-container-id-11 div.sk-container {/* jupyter's `normalize.less` sets `[hidden] { display: none; }` but bootstrap.min.css set `[hidden] { display: none !important; }` so we also need the `!important` here to be able to override the default hidden behavior on the sphinx rendered scikit-learn.org. See: https://github.com/scikit-learn/scikit-learn/issues/21755 */display: inline-block !important;position: relative;}#sk-container-id-11 div.sk-text-repr-fallback {display: none;}</style><div id=\"sk-container-id-11\" class=\"sk-top-container\"><div class=\"sk-text-repr-fallback\"><pre>PolynomialFeatures(include_bias=False)</pre><b>In a Jupyter environment, please rerun this cell to show the HTML representation or trust the notebook. <br />On GitHub, the HTML representation is unable to render, please try loading this page with nbviewer.org.</b></div><div class=\"sk-container\" hidden><div class=\"sk-item\"><div class=\"sk-estimator sk-toggleable\"><input class=\"sk-toggleable__control sk-hidden--visually\" id=\"sk-estimator-id-11\" type=\"checkbox\" checked><label for=\"sk-estimator-id-11\" class=\"sk-toggleable__label sk-toggleable__label-arrow\">PolynomialFeatures</label><div class=\"sk-toggleable__content\"><pre>PolynomialFeatures(include_bias=False)</pre></div></div></div></div></div>"
      ],
      "text/plain": [
       "PolynomialFeatures(include_bias=False)"
      ]
     },
     "execution_count": 207,
     "metadata": {},
     "output_type": "execute_result"
    }
   ],
   "source": [
    "loaded_converter = load('final_converter.joblib')\n",
    "loaded_converter"
   ]
  },
  {
   "cell_type": "code",
   "execution_count": 208,
   "id": "58b1b0cd",
   "metadata": {},
   "outputs": [
    {
     "data": {
      "text/html": [
       "<style>#sk-container-id-12 {color: black;background-color: white;}#sk-container-id-12 pre{padding: 0;}#sk-container-id-12 div.sk-toggleable {background-color: white;}#sk-container-id-12 label.sk-toggleable__label {cursor: pointer;display: block;width: 100%;margin-bottom: 0;padding: 0.3em;box-sizing: border-box;text-align: center;}#sk-container-id-12 label.sk-toggleable__label-arrow:before {content: \"▸\";float: left;margin-right: 0.25em;color: #696969;}#sk-container-id-12 label.sk-toggleable__label-arrow:hover:before {color: black;}#sk-container-id-12 div.sk-estimator:hover label.sk-toggleable__label-arrow:before {color: black;}#sk-container-id-12 div.sk-toggleable__content {max-height: 0;max-width: 0;overflow: hidden;text-align: left;background-color: #f0f8ff;}#sk-container-id-12 div.sk-toggleable__content pre {margin: 0.2em;color: black;border-radius: 0.25em;background-color: #f0f8ff;}#sk-container-id-12 input.sk-toggleable__control:checked~div.sk-toggleable__content {max-height: 200px;max-width: 100%;overflow: auto;}#sk-container-id-12 input.sk-toggleable__control:checked~label.sk-toggleable__label-arrow:before {content: \"▾\";}#sk-container-id-12 div.sk-estimator input.sk-toggleable__control:checked~label.sk-toggleable__label {background-color: #d4ebff;}#sk-container-id-12 div.sk-label input.sk-toggleable__control:checked~label.sk-toggleable__label {background-color: #d4ebff;}#sk-container-id-12 input.sk-hidden--visually {border: 0;clip: rect(1px 1px 1px 1px);clip: rect(1px, 1px, 1px, 1px);height: 1px;margin: -1px;overflow: hidden;padding: 0;position: absolute;width: 1px;}#sk-container-id-12 div.sk-estimator {font-family: monospace;background-color: #f0f8ff;border: 1px dotted black;border-radius: 0.25em;box-sizing: border-box;margin-bottom: 0.5em;}#sk-container-id-12 div.sk-estimator:hover {background-color: #d4ebff;}#sk-container-id-12 div.sk-parallel-item::after {content: \"\";width: 100%;border-bottom: 1px solid gray;flex-grow: 1;}#sk-container-id-12 div.sk-label:hover label.sk-toggleable__label {background-color: #d4ebff;}#sk-container-id-12 div.sk-serial::before {content: \"\";position: absolute;border-left: 1px solid gray;box-sizing: border-box;top: 0;bottom: 0;left: 50%;z-index: 0;}#sk-container-id-12 div.sk-serial {display: flex;flex-direction: column;align-items: center;background-color: white;padding-right: 0.2em;padding-left: 0.2em;position: relative;}#sk-container-id-12 div.sk-item {position: relative;z-index: 1;}#sk-container-id-12 div.sk-parallel {display: flex;align-items: stretch;justify-content: center;background-color: white;position: relative;}#sk-container-id-12 div.sk-item::before, #sk-container-id-12 div.sk-parallel-item::before {content: \"\";position: absolute;border-left: 1px solid gray;box-sizing: border-box;top: 0;bottom: 0;left: 50%;z-index: -1;}#sk-container-id-12 div.sk-parallel-item {display: flex;flex-direction: column;z-index: 1;position: relative;background-color: white;}#sk-container-id-12 div.sk-parallel-item:first-child::after {align-self: flex-end;width: 50%;}#sk-container-id-12 div.sk-parallel-item:last-child::after {align-self: flex-start;width: 50%;}#sk-container-id-12 div.sk-parallel-item:only-child::after {width: 0;}#sk-container-id-12 div.sk-dashed-wrapped {border: 1px dashed gray;margin: 0 0.4em 0.5em 0.4em;box-sizing: border-box;padding-bottom: 0.4em;background-color: white;}#sk-container-id-12 div.sk-label label {font-family: monospace;font-weight: bold;display: inline-block;line-height: 1.2em;}#sk-container-id-12 div.sk-label-container {text-align: center;}#sk-container-id-12 div.sk-container {/* jupyter's `normalize.less` sets `[hidden] { display: none; }` but bootstrap.min.css set `[hidden] { display: none !important; }` so we also need the `!important` here to be able to override the default hidden behavior on the sphinx rendered scikit-learn.org. See: https://github.com/scikit-learn/scikit-learn/issues/21755 */display: inline-block !important;position: relative;}#sk-container-id-12 div.sk-text-repr-fallback {display: none;}</style><div id=\"sk-container-id-12\" class=\"sk-top-container\"><div class=\"sk-text-repr-fallback\"><pre>LinearRegression()</pre><b>In a Jupyter environment, please rerun this cell to show the HTML representation or trust the notebook. <br />On GitHub, the HTML representation is unable to render, please try loading this page with nbviewer.org.</b></div><div class=\"sk-container\" hidden><div class=\"sk-item\"><div class=\"sk-estimator sk-toggleable\"><input class=\"sk-toggleable__control sk-hidden--visually\" id=\"sk-estimator-id-12\" type=\"checkbox\" checked><label for=\"sk-estimator-id-12\" class=\"sk-toggleable__label sk-toggleable__label-arrow\">LinearRegression</label><div class=\"sk-toggleable__content\"><pre>LinearRegression()</pre></div></div></div></div></div>"
      ],
      "text/plain": [
       "LinearRegression()"
      ]
     },
     "execution_count": 208,
     "metadata": {},
     "output_type": "execute_result"
    }
   ],
   "source": [
    "loaded_model = load('final_poly_model.joblib')\n",
    "loaded_model"
   ]
  },
  {
   "cell_type": "code",
   "execution_count": 223,
   "id": "4c6e0363",
   "metadata": {},
   "outputs": [
    {
     "data": {
      "text/plain": [
       "Bedrooms                   4.0\n",
       "Bathrooms                  4.0\n",
       "Toilets                    5.0\n",
       "Parking Spaces             2.0\n",
       "HouseType_detached         0.0\n",
       "HouseType_semi-detached    0.0\n",
       "HouseType_terraced         1.0\n",
       "Name: 9953, dtype: float64"
      ]
     },
     "execution_count": 223,
     "metadata": {},
     "output_type": "execute_result"
    }
   ],
   "source": [
    " X_train_dummies.iloc[1]"
   ]
  },
  {
   "cell_type": "code",
   "execution_count": 224,
   "id": "372be935",
   "metadata": {},
   "outputs": [],
   "source": [
    "Data = [[4,4,5,2,0,0,1]]"
   ]
  },
  {
   "cell_type": "code",
   "execution_count": 225,
   "id": "46054929",
   "metadata": {},
   "outputs": [
    {
     "data": {
      "text/plain": [
       "array([[ 4.,  4.,  5.,  2.,  0.,  0.,  1., 16., 16., 20.,  8.,  0.,  0.,\n",
       "         4., 16., 20.,  8.,  0.,  0.,  4., 25., 10.,  0.,  0.,  5.,  4.,\n",
       "         0.,  0.,  2.,  0.,  0.,  0.,  0.,  0.,  1.]])"
      ]
     },
     "execution_count": 225,
     "metadata": {},
     "output_type": "execute_result"
    }
   ],
   "source": [
    "converted_data = loaded_converter.fit_transform(Data)\n",
    "converted_data"
   ]
  },
  {
   "cell_type": "code",
   "execution_count": 226,
   "id": "ad3ed7de",
   "metadata": {},
   "outputs": [
    {
     "data": {
      "text/plain": [
       "array([11494224.])"
      ]
     },
     "execution_count": 226,
     "metadata": {},
     "output_type": "execute_result"
    }
   ],
   "source": [
    "loaded_model.predict(converted_data)"
   ]
  },
  {
   "cell_type": "code",
   "execution_count": 229,
   "id": "126847f1",
   "metadata": {},
   "outputs": [
    {
     "data": {
      "text/plain": [
       "11000000"
      ]
     },
     "execution_count": 229,
     "metadata": {},
     "output_type": "execute_result"
    }
   ],
   "source": [
    "y_train.iloc[1]"
   ]
  },
  {
   "cell_type": "markdown",
   "id": "2a4e43e8",
   "metadata": {},
   "source": [
    "#### Saved model and poly  converter working perfectly and fit for deployment "
   ]
  },
  {
   "cell_type": "code",
   "execution_count": null,
   "id": "f94ed7b8",
   "metadata": {},
   "outputs": [],
   "source": []
  },
  {
   "cell_type": "code",
   "execution_count": null,
   "id": "1a74aa93",
   "metadata": {},
   "outputs": [],
   "source": []
  },
  {
   "cell_type": "code",
   "execution_count": null,
   "id": "b01c8c5e",
   "metadata": {},
   "outputs": [],
   "source": []
  }
 ],
 "metadata": {
  "kernelspec": {
   "display_name": "Python 3 (ipykernel)",
   "language": "python",
   "name": "python3"
  },
  "language_info": {
   "codemirror_mode": {
    "name": "ipython",
    "version": 3
   },
   "file_extension": ".py",
   "mimetype": "text/x-python",
   "name": "python",
   "nbconvert_exporter": "python",
   "pygments_lexer": "ipython3",
   "version": "3.11.5"
  }
 },
 "nbformat": 4,
 "nbformat_minor": 5
}
